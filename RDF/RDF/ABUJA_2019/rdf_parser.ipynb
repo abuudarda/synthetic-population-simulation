{
 "cells": [
  {
   "cell_type": "code",
   "execution_count": 1,
   "metadata": {},
   "outputs": [],
   "source": [
    "import pandas as pd\n",
    "from sklearn.model_selection import train_test_split\n",
    "from sklearn.linear_model import LogisticRegression\n",
    "from sklearn.preprocessing import LabelEncoder, StandardScaler, MinMaxScaler\n",
    "import csv"
   ]
  },
  {
   "cell_type": "code",
   "execution_count": 2,
   "metadata": {},
   "outputs": [
    {
     "data": {
      "text/plain": [
       "Business Facility                    1003\n",
       "School                                663\n",
       "Bank                                  580\n",
       "Hotel                                 569\n",
       "Place of Worship                      497\n",
       "Restaurant                            411\n",
       "Government Office                     359\n",
       "ATM                                   327\n",
       "Grocery Store                         323\n",
       "Shopping                              318\n",
       "Specialty Store                       282\n",
       "Residential Area/Building             261\n",
       "Medical Service                       194\n",
       "Petrol/Gasoline Station               194\n",
       "Other Accommodation                   178\n",
       "Pharmacy                              159\n",
       "Embassy                               141\n",
       "Park/Recreation Area                  133\n",
       "Hospital                              122\n",
       "Auto Service & Maintenance             86\n",
       "Sports Centre                          68\n",
       "Police Station                         60\n",
       "Tourist Attraction                     52\n",
       "Consumer Electronics Store             43\n",
       "Nightlife                              42\n",
       "Clothing Store                         33\n",
       "Higher Education                       32\n",
       "Civic/Community Centre                 31\n",
       "Home Specialty Store                   31\n",
       "Court House                            31\n",
       "Home Improvement & Hardware Store      27\n",
       "Parking Lot                            18\n",
       "Post Office                            11\n",
       "Office Supply & Services Store         11\n",
       "Convenience Store                      11\n",
       "Bookstore                              10\n",
       "Amusement Park                         10\n",
       "Auto Dealerships                        9\n",
       "Cinema                                  5\n",
       "Sports Complex                          4\n",
       "Bus Station                             4\n",
       "Animal Park                             4\n",
       "Cemetery                                4\n",
       "Rental Car Agency                       3\n",
       "Coffee Shop                             3\n",
       "Library                                 3\n",
       "Campground                              2\n",
       "Sporting Goods Store                    2\n",
       "Golf Course                             2\n",
       "Airport                                 1\n",
       "Truck Dealership                        1\n",
       "Historical Monument                     1\n",
       "Parking Garage/House                    1\n",
       "Tourist Information                     1\n",
       "Museum                                  1\n",
       "Taxi Stand                              1\n",
       "Name: POI_TYPE, dtype: int64"
      ]
     },
     "execution_count": 2,
     "metadata": {},
     "output_type": "execute_result"
    }
   ],
   "source": [
    "df = pd.read_csv(\"C:\\\\Users\\\\abubabu\\\\Documents\\\\GitHub\\\\synthetic-population-simulation\\\\RDF\\\\RDF\\\\ABUJA_2019\\\\2019_ABU_POI_TABLE.csv\")\n",
    "df['POI_TYPE'].value_counts()\n"
   ]
  },
  {
   "cell_type": "code",
   "execution_count": 3,
   "metadata": {},
   "outputs": [
    {
     "data": {
      "text/plain": [
       "Index(['POI_ID', 'POI_TYPE', 'LAT', 'LON'], dtype='object')"
      ]
     },
     "execution_count": 3,
     "metadata": {},
     "output_type": "execute_result"
    }
   ],
   "source": [
    "df.columns"
   ]
  },
  {
   "cell_type": "code",
   "execution_count": 4,
   "metadata": {},
   "outputs": [
    {
     "data": {
      "text/html": [
       "<div>\n",
       "<style scoped>\n",
       "    .dataframe tbody tr th:only-of-type {\n",
       "        vertical-align: middle;\n",
       "    }\n",
       "\n",
       "    .dataframe tbody tr th {\n",
       "        vertical-align: top;\n",
       "    }\n",
       "\n",
       "    .dataframe thead th {\n",
       "        text-align: right;\n",
       "    }\n",
       "</style>\n",
       "<table border=\"1\" class=\"dataframe\">\n",
       "  <thead>\n",
       "    <tr style=\"text-align: right;\">\n",
       "      <th></th>\n",
       "      <th>POI_ID</th>\n",
       "      <th>POI_TYPE</th>\n",
       "      <th>LAT</th>\n",
       "      <th>LON</th>\n",
       "    </tr>\n",
       "  </thead>\n",
       "  <tbody>\n",
       "    <tr>\n",
       "      <th>0</th>\n",
       "      <td>1211051907</td>\n",
       "      <td>Medical Service</td>\n",
       "      <td>9.14170</td>\n",
       "      <td>7.31526</td>\n",
       "    </tr>\n",
       "    <tr>\n",
       "      <th>1</th>\n",
       "      <td>1141831325</td>\n",
       "      <td>Bank</td>\n",
       "      <td>9.07752</td>\n",
       "      <td>7.48706</td>\n",
       "    </tr>\n",
       "    <tr>\n",
       "      <th>2</th>\n",
       "      <td>1083949708</td>\n",
       "      <td>Consumer Electronics Store</td>\n",
       "      <td>9.07559</td>\n",
       "      <td>7.46421</td>\n",
       "    </tr>\n",
       "    <tr>\n",
       "      <th>3</th>\n",
       "      <td>1141799976</td>\n",
       "      <td>Business Facility</td>\n",
       "      <td>9.08005</td>\n",
       "      <td>7.41622</td>\n",
       "    </tr>\n",
       "    <tr>\n",
       "      <th>4</th>\n",
       "      <td>1210942676</td>\n",
       "      <td>Park/Recreation Area</td>\n",
       "      <td>9.06254</td>\n",
       "      <td>7.49997</td>\n",
       "    </tr>\n",
       "  </tbody>\n",
       "</table>\n",
       "</div>"
      ],
      "text/plain": [
       "       POI_ID                    POI_TYPE      LAT      LON\n",
       "0  1211051907             Medical Service  9.14170  7.31526\n",
       "1  1141831325                        Bank  9.07752  7.48706\n",
       "2  1083949708  Consumer Electronics Store  9.07559  7.46421\n",
       "3  1141799976           Business Facility  9.08005  7.41622\n",
       "4  1210942676        Park/Recreation Area  9.06254  7.49997"
      ]
     },
     "execution_count": 4,
     "metadata": {},
     "output_type": "execute_result"
    }
   ],
   "source": [
    "df.head()"
   ]
  }
 ],
 "metadata": {
  "kernelspec": {
   "display_name": "Python 3",
   "language": "python",
   "name": "python3"
  },
  "language_info": {
   "codemirror_mode": {
    "name": "ipython",
    "version": 3
   },
   "file_extension": ".py",
   "mimetype": "text/x-python",
   "name": "python",
   "nbconvert_exporter": "python",
   "pygments_lexer": "ipython3",
   "version": "3.10.11"
  },
  "orig_nbformat": 4
 },
 "nbformat": 4,
 "nbformat_minor": 2
}
