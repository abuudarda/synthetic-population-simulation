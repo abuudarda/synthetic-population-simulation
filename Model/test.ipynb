{
 "cells": [
  {
   "cell_type": "code",
   "execution_count": 85,
   "metadata": {},
   "outputs": [
    {
     "data": {
      "text/html": [
       "<div>\n",
       "<style scoped>\n",
       "    .dataframe tbody tr th:only-of-type {\n",
       "        vertical-align: middle;\n",
       "    }\n",
       "\n",
       "    .dataframe tbody tr th {\n",
       "        vertical-align: top;\n",
       "    }\n",
       "\n",
       "    .dataframe thead th {\n",
       "        text-align: right;\n",
       "    }\n",
       "</style>\n",
       "<table border=\"1\" class=\"dataframe\">\n",
       "  <thead>\n",
       "    <tr style=\"text-align: right;\">\n",
       "      <th></th>\n",
       "      <th>AGEP</th>\n",
       "      <th>SCHL</th>\n",
       "      <th>SEX</th>\n",
       "      <th>HINCP</th>\n",
       "      <th>VEH</th>\n",
       "      <th>NP</th>\n",
       "      <th>STRTTIME</th>\n",
       "      <th>ENDTIME</th>\n",
       "      <th>TRVLCMIN</th>\n",
       "    </tr>\n",
       "  </thead>\n",
       "  <tbody>\n",
       "    <tr>\n",
       "      <th>0</th>\n",
       "      <td>adult</td>\n",
       "      <td>High-school</td>\n",
       "      <td>male</td>\n",
       "      <td>8</td>\n",
       "      <td>3.0</td>\n",
       "      <td>3.0</td>\n",
       "      <td>1000</td>\n",
       "      <td>1015</td>\n",
       "      <td>15</td>\n",
       "    </tr>\n",
       "    <tr>\n",
       "      <th>1</th>\n",
       "      <td>adult</td>\n",
       "      <td>below-high</td>\n",
       "      <td>female</td>\n",
       "      <td>7</td>\n",
       "      <td>3.0</td>\n",
       "      <td>7.0</td>\n",
       "      <td>1510</td>\n",
       "      <td>1530</td>\n",
       "      <td>20</td>\n",
       "    </tr>\n",
       "    <tr>\n",
       "      <th>2</th>\n",
       "      <td>adult</td>\n",
       "      <td>High-school</td>\n",
       "      <td>male</td>\n",
       "      <td>6</td>\n",
       "      <td>2.0</td>\n",
       "      <td>5.0</td>\n",
       "      <td>700</td>\n",
       "      <td>900</td>\n",
       "      <td>120</td>\n",
       "    </tr>\n",
       "    <tr>\n",
       "      <th>3</th>\n",
       "      <td>adult</td>\n",
       "      <td>college</td>\n",
       "      <td>female</td>\n",
       "      <td>4</td>\n",
       "      <td>0.0</td>\n",
       "      <td>4.0</td>\n",
       "      <td>1800</td>\n",
       "      <td>2030</td>\n",
       "      <td>150</td>\n",
       "    </tr>\n",
       "    <tr>\n",
       "      <th>4</th>\n",
       "      <td>senior</td>\n",
       "      <td>Graduate</td>\n",
       "      <td>female</td>\n",
       "      <td>8</td>\n",
       "      <td>2.0</td>\n",
       "      <td>2.0</td>\n",
       "      <td>845</td>\n",
       "      <td>900</td>\n",
       "      <td>15</td>\n",
       "    </tr>\n",
       "    <tr>\n",
       "      <th>5</th>\n",
       "      <td>tenager</td>\n",
       "      <td>High-school</td>\n",
       "      <td>male</td>\n",
       "      <td>8</td>\n",
       "      <td>3.0</td>\n",
       "      <td>3.0</td>\n",
       "      <td>1430</td>\n",
       "      <td>1445</td>\n",
       "      <td>15</td>\n",
       "    </tr>\n",
       "    <tr>\n",
       "      <th>6</th>\n",
       "      <td>young-adult</td>\n",
       "      <td>High-school</td>\n",
       "      <td>female</td>\n",
       "      <td>4</td>\n",
       "      <td>1.0</td>\n",
       "      <td>1.0</td>\n",
       "      <td>1115</td>\n",
       "      <td>1130</td>\n",
       "      <td>15</td>\n",
       "    </tr>\n",
       "    <tr>\n",
       "      <th>7</th>\n",
       "      <td>adult</td>\n",
       "      <td>below-high</td>\n",
       "      <td>female</td>\n",
       "      <td>7</td>\n",
       "      <td>2.0</td>\n",
       "      <td>5.0</td>\n",
       "      <td>2330</td>\n",
       "      <td>2340</td>\n",
       "      <td>10</td>\n",
       "    </tr>\n",
       "    <tr>\n",
       "      <th>8</th>\n",
       "      <td>senior</td>\n",
       "      <td>Bachelor</td>\n",
       "      <td>male</td>\n",
       "      <td>8</td>\n",
       "      <td>3.0</td>\n",
       "      <td>3.0</td>\n",
       "      <td>550</td>\n",
       "      <td>605</td>\n",
       "      <td>15</td>\n",
       "    </tr>\n",
       "    <tr>\n",
       "      <th>9</th>\n",
       "      <td>adult</td>\n",
       "      <td>below-high</td>\n",
       "      <td>female</td>\n",
       "      <td>6</td>\n",
       "      <td>3.0</td>\n",
       "      <td>3.0</td>\n",
       "      <td>700</td>\n",
       "      <td>715</td>\n",
       "      <td>15</td>\n",
       "    </tr>\n",
       "  </tbody>\n",
       "</table>\n",
       "</div>"
      ],
      "text/plain": [
       "          AGEP         SCHL     SEX  HINCP  VEH   NP  STRTTIME  ENDTIME  \\\n",
       "0        adult  High-school    male      8  3.0  3.0      1000     1015   \n",
       "1        adult   below-high  female      7  3.0  7.0      1510     1530   \n",
       "2        adult  High-school    male      6  2.0  5.0       700      900   \n",
       "3        adult      college  female      4  0.0  4.0      1800     2030   \n",
       "4       senior     Graduate  female      8  2.0  2.0       845      900   \n",
       "5      tenager  High-school    male      8  3.0  3.0      1430     1445   \n",
       "6  young-adult  High-school  female      4  1.0  1.0      1115     1130   \n",
       "7        adult   below-high  female      7  2.0  5.0      2330     2340   \n",
       "8       senior     Bachelor    male      8  3.0  3.0       550      605   \n",
       "9        adult   below-high  female      6  3.0  3.0       700      715   \n",
       "\n",
       "   TRVLCMIN  \n",
       "0        15  \n",
       "1        20  \n",
       "2       120  \n",
       "3       150  \n",
       "4        15  \n",
       "5        15  \n",
       "6        15  \n",
       "7        10  \n",
       "8        15  \n",
       "9        15  "
      ]
     },
     "execution_count": 85,
     "metadata": {},
     "output_type": "execute_result"
    }
   ],
   "source": [
    "import pandas as pd\n",
    "import numpy as np\n",
    "trippub=pd.read_csv('trippub.csv')\n",
    "\n",
    "# Read the CSV file into a DataFrame\n",
    "sample_data = pd.read_csv(\"D:\\Thesis\\synthetic-population-simulation\\IPF_IPU_sampling\\SAMPLE_DATA.csv\")\n",
    "\n",
    "# Drop the 'RAC1P' and 'Unnamed: 0' columns\n",
    "sample_data = sample_data.drop(['RAC1P', 'Unnamed: 0'], axis=1)\n",
    "\n",
    "\n",
    "\n",
    "# Assign the random values as new columns to the DataFrame\n",
    "sample_data[\"STRTTIME\"] = trippub['STRTTIME'].copy()\n",
    "sample_data[\"ENDTIME\"] = trippub['ENDTIME'].copy()\n",
    "sample_data['TRVLCMIN'] = trippub['TRVLCMIN'].copy()\n",
    "sample_data.head(10)\n",
    "\n",
    "\n"
   ]
  },
  {
   "cell_type": "code",
   "execution_count": 86,
   "metadata": {},
   "outputs": [
    {
     "name": "stdout",
     "output_type": "stream",
     "text": [
      "   STRTTIME  ENDTIME  TRVLCMIN         AGEP     SEX  VEH   NP         SCHL\n",
      "0      1000     1015        15        adult    male  3.0  3.0  High-school\n",
      "1      1510     1530        20        adult  female  3.0  7.0   below-high\n",
      "2       700      900       120        adult    male  2.0  5.0  High-school\n",
      "3      1800     2030       150        adult  female  0.0  4.0      college\n",
      "4       845      900        15       senior  female  2.0  2.0     Graduate\n",
      "5      1430     1445        15      tenager    male  3.0  3.0  High-school\n",
      "6      1115     1130        15  young-adult  female  1.0  1.0  High-school\n",
      "7      2330     2340        10        adult  female  2.0  5.0   below-high\n",
      "8       550      605        15       senior    male  3.0  3.0     Bachelor\n",
      "9       700      715        15        adult  female  3.0  3.0   below-high\n"
     ]
    }
   ],
   "source": [
    "\n",
    "# Reorder the columns as desired\n",
    "new_column_order = [\"STRTTIME\", \"ENDTIME\", \"TRVLCMIN\", \"AGEP\", \"SEX\", \"VEH\",\"NP\",\"SCHL\"]\n",
    "sample_data = sample_data[new_column_order]\n",
    "\n",
    "# Display the updated DataFrame\n",
    "print(sample_data.head(10))"
   ]
  },
  {
   "cell_type": "code",
   "execution_count": 87,
   "metadata": {},
   "outputs": [
    {
     "name": "stdout",
     "output_type": "stream",
     "text": [
      "   STRTTIME  ENDTIME  TRVLCMIN        R_AGE   R_SEX  HHVEHCNT  HHSIZE  \\\n",
      "0      1000     1015        15        adult    male       3.0     3.0   \n",
      "1      1510     1530        20        adult  female       3.0     7.0   \n",
      "2       700      900       120        adult    male       2.0     5.0   \n",
      "3      1800     2030       150        adult  female       0.0     4.0   \n",
      "4       845      900        15       senior  female       2.0     2.0   \n",
      "5      1430     1445        15      tenager    male       3.0     3.0   \n",
      "6      1115     1130        15  young-adult  female       1.0     1.0   \n",
      "7      2330     2340        10        adult  female       2.0     5.0   \n",
      "8       550      605        15       senior    male       3.0     3.0   \n",
      "9       700      715        15        adult  female       3.0     3.0   \n",
      "\n",
      "          EDUC  \n",
      "0  High-school  \n",
      "1   below-high  \n",
      "2  High-school  \n",
      "3      college  \n",
      "4     Graduate  \n",
      "5  High-school  \n",
      "6  High-school  \n",
      "7   below-high  \n",
      "8     Bachelor  \n",
      "9   below-high  \n"
     ]
    }
   ],
   "source": [
    "import pandas as pd\n",
    "\n",
    "# Assuming 'sample_data' is your DataFrame with the current column names\n",
    "\n",
    "# Rename the columns as desired\n",
    "new_column_names = {\n",
    "    \"AGEP\": \"R_AGE\",\n",
    "    \"SEX\": \"R_SEX\",\n",
    "    \"VEH\": \"HHVEHCNT\",\n",
    "    \"NP\": \"HHSIZE\",\n",
    "    \"SCHL\": \"EDUC\"\n",
    "}\n",
    "\n",
    "sample_data = sample_data.rename(columns=new_column_names)\n",
    "\n",
    "# Display the updated DataFrame\n",
    "print(sample_data.head(10))"
   ]
  },
  {
   "cell_type": "code",
   "execution_count": 88,
   "metadata": {},
   "outputs": [
    {
     "data": {
      "text/plain": [
       "0    High-school\n",
       "1     below-high\n",
       "2    High-school\n",
       "3        college\n",
       "4       Graduate\n",
       "5    High-school\n",
       "6    High-school\n",
       "7     below-high\n",
       "8       Bachelor\n",
       "9     below-high\n",
       "Name: EDUC, dtype: object"
      ]
     },
     "execution_count": 88,
     "metadata": {},
     "output_type": "execute_result"
    }
   ],
   "source": [
    "sample_data['EDUC'].head(10)"
   ]
  },
  {
   "cell_type": "code",
   "execution_count": 89,
   "metadata": {},
   "outputs": [],
   "source": [
    "def translateEduc(educ):\n",
    "    if educ == 'Graduate':\n",
    "        return 5\n",
    "    elif educ == 'Bachelor':\n",
    "        return 4\n",
    "    elif educ == 'college':\n",
    "        return 3  # Assigning a common code for both college and some college/vocational\n",
    "    elif educ == 'High-school':\n",
    "        return 2\n",
    "    else:\n",
    "        return 1"
   ]
  },
  {
   "cell_type": "code",
   "execution_count": 90,
   "metadata": {},
   "outputs": [
    {
     "name": "stderr",
     "output_type": "stream",
     "text": [
      "C:\\Users\\Rahat Khan\\AppData\\Local\\Temp\\ipykernel_5964\\1756050956.py:2: SettingWithCopyWarning: \n",
      "A value is trying to be set on a copy of a slice from a DataFrame\n",
      "\n",
      "See the caveats in the documentation: https://pandas.pydata.org/pandas-docs/stable/user_guide/indexing.html#returning-a-view-versus-a-copy\n",
      "  sample_data['EDUC'][i]=translateEduc(sample_data['EDUC'][i])\n"
     ]
    },
    {
     "data": {
      "text/plain": [
       "1    3136\n",
       "3    2575\n",
       "2    2208\n",
       "4    1388\n",
       "5     693\n",
       "Name: EDUC, dtype: int64"
      ]
     },
     "execution_count": 90,
     "metadata": {},
     "output_type": "execute_result"
    }
   ],
   "source": [
    "for i in range(len(sample_data['R_SEX'])):\n",
    "    sample_data['EDUC'][i]=translateEduc(sample_data['EDUC'][i])\n",
    "\n",
    "    \n",
    "sample_data['EDUC'].value_counts()"
   ]
  },
  {
   "cell_type": "code",
   "execution_count": 91,
   "metadata": {},
   "outputs": [],
   "source": [
    "import tensorflow as tf\n",
    "model=tf.keras.models.load_model(\"v1.h5\")\n"
   ]
  },
  {
   "cell_type": "code",
   "execution_count": 93,
   "metadata": {},
   "outputs": [
    {
     "ename": "ValueError",
     "evalue": "in user code:\n\n    File \"c:\\Python310\\lib\\site-packages\\keras\\engine\\training.py\", line 2169, in predict_function  *\n        return step_function(self, iterator)\n    File \"c:\\Python310\\lib\\site-packages\\keras\\engine\\training.py\", line 2155, in step_function  **\n        outputs = model.distribute_strategy.run(run_step, args=(data,))\n    File \"c:\\Python310\\lib\\site-packages\\keras\\engine\\training.py\", line 2143, in run_step  **\n        outputs = model.predict_step(data)\n    File \"c:\\Python310\\lib\\site-packages\\keras\\engine\\training.py\", line 2111, in predict_step\n        return self(x, training=False)\n    File \"c:\\Python310\\lib\\site-packages\\keras\\utils\\traceback_utils.py\", line 70, in error_handler\n        raise e.with_traceback(filtered_tb) from None\n    File \"c:\\Python310\\lib\\site-packages\\keras\\engine\\input_spec.py\", line 298, in assert_input_compatibility\n        raise ValueError(\n\n    ValueError: Input 0 of layer \"sequential_1\" is incompatible with the layer: expected shape=(None, 12), found shape=(None, 8)\n",
     "output_type": "error",
     "traceback": [
      "\u001b[1;31m---------------------------------------------------------------------------\u001b[0m",
      "\u001b[1;31mValueError\u001b[0m                                Traceback (most recent call last)",
      "\u001b[1;32md:\\Thesis\\synthetic-population-simulation\\Model\\test.ipynb Cell 8\u001b[0m in \u001b[0;36m<cell line: 2>\u001b[1;34m()\u001b[0m\n\u001b[0;32m     <a href='vscode-notebook-cell:/d%3A/Thesis/synthetic-population-simulation/Model/test.ipynb#X15sZmlsZQ%3D%3D?line=18'>19</a>\u001b[0m input_data \u001b[39m=\u001b[39m np\u001b[39m.\u001b[39marray(input_data)\u001b[39m.\u001b[39mreshape(\u001b[39m1\u001b[39m, \u001b[39m-\u001b[39m\u001b[39m1\u001b[39m)\n\u001b[0;32m     <a href='vscode-notebook-cell:/d%3A/Thesis/synthetic-population-simulation/Model/test.ipynb#X15sZmlsZQ%3D%3D?line=20'>21</a>\u001b[0m \u001b[39m# Make the prediction using the model\u001b[39;00m\n\u001b[1;32m---> <a href='vscode-notebook-cell:/d%3A/Thesis/synthetic-population-simulation/Model/test.ipynb#X15sZmlsZQ%3D%3D?line=21'>22</a>\u001b[0m prediction \u001b[39m=\u001b[39m model\u001b[39m.\u001b[39;49mpredict(input_data)\n\u001b[0;32m     <a href='vscode-notebook-cell:/d%3A/Thesis/synthetic-population-simulation/Model/test.ipynb#X15sZmlsZQ%3D%3D?line=23'>24</a>\u001b[0m \u001b[39m# Depending on your model and problem, you may need to process the prediction\u001b[39;00m\n\u001b[0;32m     <a href='vscode-notebook-cell:/d%3A/Thesis/synthetic-population-simulation/Model/test.ipynb#X15sZmlsZQ%3D%3D?line=24'>25</a>\u001b[0m \u001b[39m# further, like converting it back to original units, etc.\u001b[39;00m\n\u001b[0;32m     <a href='vscode-notebook-cell:/d%3A/Thesis/synthetic-population-simulation/Model/test.ipynb#X15sZmlsZQ%3D%3D?line=25'>26</a>\u001b[0m \u001b[39m# Then append the processed prediction to the list.\u001b[39;00m\n\u001b[0;32m     <a href='vscode-notebook-cell:/d%3A/Thesis/synthetic-population-simulation/Model/test.ipynb#X15sZmlsZQ%3D%3D?line=26'>27</a>\u001b[0m predictions\u001b[39m.\u001b[39mappend(prediction)\n",
      "File \u001b[1;32mc:\\Python310\\lib\\site-packages\\keras\\utils\\traceback_utils.py:70\u001b[0m, in \u001b[0;36mfilter_traceback.<locals>.error_handler\u001b[1;34m(*args, **kwargs)\u001b[0m\n\u001b[0;32m     67\u001b[0m     filtered_tb \u001b[39m=\u001b[39m _process_traceback_frames(e\u001b[39m.\u001b[39m__traceback__)\n\u001b[0;32m     68\u001b[0m     \u001b[39m# To get the full stack trace, call:\u001b[39;00m\n\u001b[0;32m     69\u001b[0m     \u001b[39m# `tf.debugging.disable_traceback_filtering()`\u001b[39;00m\n\u001b[1;32m---> 70\u001b[0m     \u001b[39mraise\u001b[39;00m e\u001b[39m.\u001b[39mwith_traceback(filtered_tb) \u001b[39mfrom\u001b[39;00m \u001b[39mNone\u001b[39m\n\u001b[0;32m     71\u001b[0m \u001b[39mfinally\u001b[39;00m:\n\u001b[0;32m     72\u001b[0m     \u001b[39mdel\u001b[39;00m filtered_tb\n",
      "File \u001b[1;32mC:\\Users\\RAHATK~1\\AppData\\Local\\Temp\\__autograph_generated_filemw7yvogu.py:15\u001b[0m, in \u001b[0;36mouter_factory.<locals>.inner_factory.<locals>.tf__predict_function\u001b[1;34m(iterator)\u001b[0m\n\u001b[0;32m     13\u001b[0m \u001b[39mtry\u001b[39;00m:\n\u001b[0;32m     14\u001b[0m     do_return \u001b[39m=\u001b[39m \u001b[39mTrue\u001b[39;00m\n\u001b[1;32m---> 15\u001b[0m     retval_ \u001b[39m=\u001b[39m ag__\u001b[39m.\u001b[39mconverted_call(ag__\u001b[39m.\u001b[39mld(step_function), (ag__\u001b[39m.\u001b[39mld(\u001b[39mself\u001b[39m), ag__\u001b[39m.\u001b[39mld(iterator)), \u001b[39mNone\u001b[39;00m, fscope)\n\u001b[0;32m     16\u001b[0m \u001b[39mexcept\u001b[39;00m:\n\u001b[0;32m     17\u001b[0m     do_return \u001b[39m=\u001b[39m \u001b[39mFalse\u001b[39;00m\n",
      "\u001b[1;31mValueError\u001b[0m: in user code:\n\n    File \"c:\\Python310\\lib\\site-packages\\keras\\engine\\training.py\", line 2169, in predict_function  *\n        return step_function(self, iterator)\n    File \"c:\\Python310\\lib\\site-packages\\keras\\engine\\training.py\", line 2155, in step_function  **\n        outputs = model.distribute_strategy.run(run_step, args=(data,))\n    File \"c:\\Python310\\lib\\site-packages\\keras\\engine\\training.py\", line 2143, in run_step  **\n        outputs = model.predict_step(data)\n    File \"c:\\Python310\\lib\\site-packages\\keras\\engine\\training.py\", line 2111, in predict_step\n        return self(x, training=False)\n    File \"c:\\Python310\\lib\\site-packages\\keras\\utils\\traceback_utils.py\", line 70, in error_handler\n        raise e.with_traceback(filtered_tb) from None\n    File \"c:\\Python310\\lib\\site-packages\\keras\\engine\\input_spec.py\", line 298, in assert_input_compatibility\n        raise ValueError(\n\n    ValueError: Input 0 of layer \"sequential_1\" is incompatible with the layer: expected shape=(None, 12), found shape=(None, 8)\n"
     ]
    }
   ],
   "source": [
    "predictions = []\n",
    "for index, row in sample_data.iterrows():\n",
    "    # Step 4: Extract features from the row\n",
    "    feature1 = row[\"STRTTIME\"]\n",
    "    feature2 = row[\"ENDTIME\"]\n",
    "    feature3 = row[\"TRVLCMIN\"]\n",
    "    feature4 = row[\"R_SEX\"]\n",
    "    feature5 = row[\"R_AGE\"]\n",
    "    feature6 = row[\"HHVEHCNT\"]\n",
    "    feature7 = row[\"HHSIZE\"]\n",
    "    feature8 = row[\"EDUC\"]\t\t\n",
    "\n",
    "\n",
    "\n",
    "\n",
    "\n",
    "    # Step 5: Create input_data and reshape it for prediction\n",
    "    input_data = [feature1, feature2, feature3,feature4,feature5,feature6,feature7,feature8]\n",
    "    input_data = np.array(input_data).reshape(1, -1)\n",
    "\n",
    "    # Make the prediction using the model\n",
    "    prediction = model.predict(input_data)\n",
    "\n",
    "    # Depending on your model and problem, you may need to process the prediction\n",
    "    # further, like converting it back to original units, etc.\n",
    "    # Then append the processed prediction to the list.\n",
    "    predictions.append(prediction)"
   ]
  },
  {
   "cell_type": "code",
   "execution_count": 92,
   "metadata": {},
   "outputs": [
    {
     "ename": "ValueError",
     "evalue": "Failed to convert a NumPy array to a Tensor (Unsupported object type int).",
     "output_type": "error",
     "traceback": [
      "\u001b[1;31m---------------------------------------------------------------------------\u001b[0m",
      "\u001b[1;31mValueError\u001b[0m                                Traceback (most recent call last)",
      "\u001b[1;32md:\\Thesis\\synthetic-population-simulation\\Model\\test.ipynb Cell 8\u001b[0m in \u001b[0;36m<cell line: 1>\u001b[1;34m()\u001b[0m\n\u001b[1;32m----> <a href='vscode-notebook-cell:/d%3A/Thesis/synthetic-population-simulation/Model/test.ipynb#W5sZmlsZQ%3D%3D?line=0'>1</a>\u001b[0m result\u001b[39m=\u001b[39mmodel\u001b[39m.\u001b[39;49mpredict(sample_data)\n",
      "File \u001b[1;32mc:\\Python310\\lib\\site-packages\\keras\\utils\\traceback_utils.py:70\u001b[0m, in \u001b[0;36mfilter_traceback.<locals>.error_handler\u001b[1;34m(*args, **kwargs)\u001b[0m\n\u001b[0;32m     67\u001b[0m     filtered_tb \u001b[39m=\u001b[39m _process_traceback_frames(e\u001b[39m.\u001b[39m__traceback__)\n\u001b[0;32m     68\u001b[0m     \u001b[39m# To get the full stack trace, call:\u001b[39;00m\n\u001b[0;32m     69\u001b[0m     \u001b[39m# `tf.debugging.disable_traceback_filtering()`\u001b[39;00m\n\u001b[1;32m---> 70\u001b[0m     \u001b[39mraise\u001b[39;00m e\u001b[39m.\u001b[39mwith_traceback(filtered_tb) \u001b[39mfrom\u001b[39;00m \u001b[39mNone\u001b[39m\n\u001b[0;32m     71\u001b[0m \u001b[39mfinally\u001b[39;00m:\n\u001b[0;32m     72\u001b[0m     \u001b[39mdel\u001b[39;00m filtered_tb\n",
      "File \u001b[1;32mc:\\Python310\\lib\\site-packages\\tensorflow\\python\\framework\\constant_op.py:103\u001b[0m, in \u001b[0;36mconvert_to_eager_tensor\u001b[1;34m(value, ctx, dtype)\u001b[0m\n\u001b[0;32m    101\u001b[0m     dtype \u001b[39m=\u001b[39m dtypes\u001b[39m.\u001b[39mas_dtype(dtype)\u001b[39m.\u001b[39mas_datatype_enum\n\u001b[0;32m    102\u001b[0m ctx\u001b[39m.\u001b[39mensure_initialized()\n\u001b[1;32m--> 103\u001b[0m \u001b[39mreturn\u001b[39;00m ops\u001b[39m.\u001b[39;49mEagerTensor(value, ctx\u001b[39m.\u001b[39;49mdevice_name, dtype)\n",
      "\u001b[1;31mValueError\u001b[0m: Failed to convert a NumPy array to a Tensor (Unsupported object type int)."
     ]
    }
   ],
   "source": [
    "result=model.predict(sample_data)"
   ]
  }
 ],
 "metadata": {
  "kernelspec": {
   "display_name": "Python 3.10.1 64-bit",
   "language": "python",
   "name": "python3"
  },
  "language_info": {
   "codemirror_mode": {
    "name": "ipython",
    "version": 3
   },
   "file_extension": ".py",
   "mimetype": "text/x-python",
   "name": "python",
   "nbconvert_exporter": "python",
   "pygments_lexer": "ipython3",
   "version": "3.10.1"
  },
  "orig_nbformat": 4,
  "vscode": {
   "interpreter": {
    "hash": "369f2c481f4da34e4445cda3fffd2e751bd1c4d706f27375911949ba6bb62e1c"
   }
  }
 },
 "nbformat": 4,
 "nbformat_minor": 2
}
