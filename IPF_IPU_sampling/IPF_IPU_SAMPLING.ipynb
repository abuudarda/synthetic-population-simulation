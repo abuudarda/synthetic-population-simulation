{
  "cells": [
    {
      "cell_type": "code",
      "execution_count": 79,
      "metadata": {
        "colab": {
          "base_uri": "https://localhost:8080/"
        },
        "id": "mo_VQmO1rIkd",
        "outputId": "aa55ae07-c0d1-4bbd-b521-78e432a4bcd2"
      },
      "outputs": [],
      "source": [
        "# pip install ipfn\n"
      ]
    },
    {
      "cell_type": "code",
      "execution_count": 80,
      "metadata": {
        "colab": {
          "base_uri": "https://localhost:8080/"
        },
        "id": "TjK-dQrGtVhB",
        "outputId": "94645826-91bf-426a-9933-0dc5107b485b"
      },
      "outputs": [],
      "source": [
        "# import pandas as pd\n",
        "# from ipfn import ipfn\n",
        "# import numpy as np\n",
        "# #a=pd.read_csv(\"/content/2D Ipf - Untitled spreadsheet - Sheet1.csv\")\n",
        "# n=[[[476,410],[472,400],[407,483],[413,413]],[[410,400],[465,472],[460,488],[424,491]]]\n",
        "\n",
        "\n",
        "# xipp=np.array([4200,3446])\n",
        "# xpjp=np.array([2005,2000,1958,2043])\n",
        "# xppk=np.array([4250,4500])\n",
        "# xijp=np.array([[975,981,974,975],[946,952,947,946]])\n",
        "# xpjk=np.array([[1200,1183],[1000,950],[900,1050],[950,1109]])\n",
        "\n",
        "# n=np.array(n)\n",
        "# aggregates=[xipp,xpjp,xppk,xijp,xpjk]\n",
        "# dimensions=[[0],[1],[2],[0,1],[1,2]]\n",
        "# IPF=ipfn.ipfn(n,aggregates,dimensions,convergence_rate=1e-6)\n",
        "# n=IPF.iteration()\n",
        "# print(n)\n"
      ]
    },
    {
      "cell_type": "code",
      "execution_count": 81,
      "metadata": {},
      "outputs": [
        {
          "data": {
            "text/html": [
              "<div>\n",
              "<style scoped>\n",
              "    .dataframe tbody tr th:only-of-type {\n",
              "        vertical-align: middle;\n",
              "    }\n",
              "\n",
              "    .dataframe tbody tr th {\n",
              "        vertical-align: top;\n",
              "    }\n",
              "\n",
              "    .dataframe thead th {\n",
              "        text-align: right;\n",
              "    }\n",
              "</style>\n",
              "<table border=\"1\" class=\"dataframe\">\n",
              "  <thead>\n",
              "    <tr style=\"text-align: right;\">\n",
              "      <th></th>\n",
              "      <th>race</th>\n",
              "      <th>age</th>\n",
              "      <th>gender</th>\n",
              "      <th>height</th>\n",
              "    </tr>\n",
              "  </thead>\n",
              "  <tbody>\n",
              "    <tr>\n",
              "      <th>0</th>\n",
              "      <td>white</td>\n",
              "      <td>minor</td>\n",
              "      <td>male</td>\n",
              "      <td>5.445536</td>\n",
              "    </tr>\n",
              "    <tr>\n",
              "      <th>1</th>\n",
              "      <td>white</td>\n",
              "      <td>minor</td>\n",
              "      <td>male</td>\n",
              "      <td>6.174308</td>\n",
              "    </tr>\n",
              "    <tr>\n",
              "      <th>2</th>\n",
              "      <td>white</td>\n",
              "      <td>minor</td>\n",
              "      <td>male</td>\n",
              "      <td>5.846647</td>\n",
              "    </tr>\n",
              "    <tr>\n",
              "      <th>3</th>\n",
              "      <td>white</td>\n",
              "      <td>minor</td>\n",
              "      <td>male</td>\n",
              "      <td>4.199654</td>\n",
              "    </tr>\n",
              "    <tr>\n",
              "      <th>4</th>\n",
              "      <td>white</td>\n",
              "      <td>minor</td>\n",
              "      <td>male</td>\n",
              "      <td>7.018512</td>\n",
              "    </tr>\n",
              "  </tbody>\n",
              "</table>\n",
              "</div>"
            ],
            "text/plain": [
              "    race    age gender    height\n",
              "0  white  minor   male  5.445536\n",
              "1  white  minor   male  6.174308\n",
              "2  white  minor   male  5.846647\n",
              "3  white  minor   male  4.199654\n",
              "4  white  minor   male  7.018512"
            ]
          },
          "execution_count": 81,
          "metadata": {},
          "output_type": "execute_result"
        }
      ],
      "source": [
        "import pandas as pd\n",
        "import numpy as np\n",
        "import random\n",
        "import itertools\n",
        "\n",
        "'''\n",
        "code for testing \n",
        "\n",
        "NOT IMPORTANT!\n",
        "\n",
        "'''\n",
        "np.random.seed(37)\n",
        "random.seed(37)\n",
        "\n",
        "height = [\n",
        "    np.random.normal(5.5, 1.0, 100),\n",
        "    np.random.normal(5.3, 1.0, 200),\n",
        "    np.random.normal(5.9, 1.0, 300),\n",
        "    np.random.normal(5.7, 1.0, 200),\n",
        "    np.random.normal(5.3, 1.0, 400),\n",
        "    np.random.normal(5.2, 1.0, 500),\n",
        "    np.random.normal(5.8, 1.0, 300),\n",
        "    np.random.normal(5.5, 1.0, 200)\n",
        "]\n",
        "\n",
        "#height = normal distribution **(HAVE TO BE FETCHED FROM PUMS) \n",
        "\n",
        "demographic = [\n",
        "    ['white', 'minor', 'male'],\n",
        "    ['white', 'minor', 'female'],\n",
        "    ['white', 'adult', 'male'],\n",
        "    ['white', 'adult', 'female'],\n",
        "    ['other', 'minor', 'male'],\n",
        "    ['other', 'minor', 'female'],\n",
        "    ['other', 'adult', 'male'],\n",
        "    ['other', 'adult', 'female']\n",
        "]\n",
        "\n",
        "data = [[{'race': d[0], 'age': d[1], 'gender': d[2], 'height': h} for h in s]\n",
        "        for d, s in zip(demographic, height)]\n",
        "data = list(itertools.chain(*data))\n",
        "\n",
        "df = pd.DataFrame(data)\n",
        "df.head()"
      ]
    },
    {
      "attachments": {},
      "cell_type": "markdown",
      "metadata": {},
      "source": [
        "#### demographic = cell names for ipf\n",
        "#### df = generated from cleaned pums data\n",
        " "
      ]
    },
    {
      "cell_type": "code",
      "execution_count": 82,
      "metadata": {},
      "outputs": [
        {
          "data": {
            "text/plain": [
              "[['white', 'child', 'male'],\n",
              " ['white', 'child', 'female'],\n",
              " ['white', 'tenager', 'male'],\n",
              " ['white', 'tenager', 'female'],\n",
              " ['white', 'young-adult', 'male'],\n",
              " ['white', 'young-adult', 'female'],\n",
              " ['white', 'adult', 'male'],\n",
              " ['white', 'adult', 'female'],\n",
              " ['white', 'senior', 'male'],\n",
              " ['white', 'senior', 'female'],\n",
              " ['black', 'child', 'male'],\n",
              " ['black', 'child', 'female'],\n",
              " ['black', 'tenager', 'male'],\n",
              " ['black', 'tenager', 'female'],\n",
              " ['black', 'young-adult', 'male'],\n",
              " ['black', 'young-adult', 'female'],\n",
              " ['black', 'adult', 'male'],\n",
              " ['black', 'adult', 'female'],\n",
              " ['black', 'senior', 'male'],\n",
              " ['black', 'senior', 'female'],\n",
              " ['native', 'child', 'male'],\n",
              " ['native', 'child', 'female'],\n",
              " ['native', 'tenager', 'male'],\n",
              " ['native', 'tenager', 'female'],\n",
              " ['native', 'young-adult', 'male'],\n",
              " ['native', 'young-adult', 'female'],\n",
              " ['native', 'adult', 'male'],\n",
              " ['native', 'adult', 'female'],\n",
              " ['native', 'senior', 'male'],\n",
              " ['native', 'senior', 'female'],\n",
              " ['asian', 'child', 'male'],\n",
              " ['asian', 'child', 'female'],\n",
              " ['asian', 'tenager', 'male'],\n",
              " ['asian', 'tenager', 'female'],\n",
              " ['asian', 'young-adult', 'male'],\n",
              " ['asian', 'young-adult', 'female'],\n",
              " ['asian', 'adult', 'male'],\n",
              " ['asian', 'adult', 'female'],\n",
              " ['asian', 'senior', 'male'],\n",
              " ['asian', 'senior', 'female'],\n",
              " ['pacific-islander', 'child', 'male'],\n",
              " ['pacific-islander', 'child', 'female'],\n",
              " ['pacific-islander', 'tenager', 'male'],\n",
              " ['pacific-islander', 'tenager', 'female'],\n",
              " ['pacific-islander', 'young-adult', 'male'],\n",
              " ['pacific-islander', 'young-adult', 'female'],\n",
              " ['pacific-islander', 'adult', 'male'],\n",
              " ['pacific-islander', 'adult', 'female'],\n",
              " ['pacific-islander', 'senior', 'male'],\n",
              " ['pacific-islander', 'senior', 'female'],\n",
              " ['other', 'child', 'male'],\n",
              " ['other', 'child', 'female'],\n",
              " ['other', 'tenager', 'male'],\n",
              " ['other', 'tenager', 'female'],\n",
              " ['other', 'young-adult', 'male'],\n",
              " ['other', 'young-adult', 'female'],\n",
              " ['other', 'adult', 'male'],\n",
              " ['other', 'adult', 'female'],\n",
              " ['other', 'senior', 'male'],\n",
              " ['other', 'senior', 'female']]"
            ]
          },
          "execution_count": 82,
          "metadata": {},
          "output_type": "execute_result"
        }
      ],
      "source": [
        "races=['white','black','native','asian','pacific-islander','other']\n",
        "genders=['male','female']\n",
        "ages=['child','tenager','young-adult','adult','senior']\n",
        "demographic = [[i, j, k] for i in races for j in ages for k in genders]\n",
        "demographic\n",
        "# demographic ready. \n",
        "\n",
        "# data = pums"
      ]
    },
    {
      "cell_type": "code",
      "execution_count": 83,
      "metadata": {},
      "outputs": [
        {
          "data": {
            "text/html": [
              "<div>\n",
              "<style scoped>\n",
              "    .dataframe tbody tr th:only-of-type {\n",
              "        vertical-align: middle;\n",
              "    }\n",
              "\n",
              "    .dataframe tbody tr th {\n",
              "        vertical-align: top;\n",
              "    }\n",
              "\n",
              "    .dataframe thead th {\n",
              "        text-align: right;\n",
              "    }\n",
              "</style>\n",
              "<table border=\"1\" class=\"dataframe\">\n",
              "  <thead>\n",
              "    <tr style=\"text-align: right;\">\n",
              "      <th></th>\n",
              "      <th>race</th>\n",
              "      <th>age</th>\n",
              "      <th>gender</th>\n",
              "    </tr>\n",
              "  </thead>\n",
              "  <tbody>\n",
              "    <tr>\n",
              "      <th>0</th>\n",
              "      <td>white</td>\n",
              "      <td>adult</td>\n",
              "      <td>female</td>\n",
              "    </tr>\n",
              "    <tr>\n",
              "      <th>1</th>\n",
              "      <td>white</td>\n",
              "      <td>senior</td>\n",
              "      <td>male</td>\n",
              "    </tr>\n",
              "    <tr>\n",
              "      <th>2</th>\n",
              "      <td>white</td>\n",
              "      <td>adult</td>\n",
              "      <td>male</td>\n",
              "    </tr>\n",
              "    <tr>\n",
              "      <th>3</th>\n",
              "      <td>white</td>\n",
              "      <td>adult</td>\n",
              "      <td>female</td>\n",
              "    </tr>\n",
              "    <tr>\n",
              "      <th>4</th>\n",
              "      <td>white</td>\n",
              "      <td>adult</td>\n",
              "      <td>male</td>\n",
              "    </tr>\n",
              "    <tr>\n",
              "      <th>5</th>\n",
              "      <td>white</td>\n",
              "      <td>senior</td>\n",
              "      <td>female</td>\n",
              "    </tr>\n",
              "    <tr>\n",
              "      <th>6</th>\n",
              "      <td>white</td>\n",
              "      <td>senior</td>\n",
              "      <td>male</td>\n",
              "    </tr>\n",
              "    <tr>\n",
              "      <th>7</th>\n",
              "      <td>white</td>\n",
              "      <td>young-adult</td>\n",
              "      <td>female</td>\n",
              "    </tr>\n",
              "    <tr>\n",
              "      <th>8</th>\n",
              "      <td>white</td>\n",
              "      <td>child</td>\n",
              "      <td>female</td>\n",
              "    </tr>\n",
              "    <tr>\n",
              "      <th>9</th>\n",
              "      <td>white</td>\n",
              "      <td>child</td>\n",
              "      <td>male</td>\n",
              "    </tr>\n",
              "    <tr>\n",
              "      <th>10</th>\n",
              "      <td>white</td>\n",
              "      <td>young-adult</td>\n",
              "      <td>male</td>\n",
              "    </tr>\n",
              "    <tr>\n",
              "      <th>11</th>\n",
              "      <td>white</td>\n",
              "      <td>adult</td>\n",
              "      <td>female</td>\n",
              "    </tr>\n",
              "    <tr>\n",
              "      <th>12</th>\n",
              "      <td>white</td>\n",
              "      <td>senior</td>\n",
              "      <td>male</td>\n",
              "    </tr>\n",
              "    <tr>\n",
              "      <th>13</th>\n",
              "      <td>other</td>\n",
              "      <td>adult</td>\n",
              "      <td>male</td>\n",
              "    </tr>\n",
              "    <tr>\n",
              "      <th>14</th>\n",
              "      <td>white</td>\n",
              "      <td>adult</td>\n",
              "      <td>female</td>\n",
              "    </tr>\n",
              "    <tr>\n",
              "      <th>15</th>\n",
              "      <td>white</td>\n",
              "      <td>adult</td>\n",
              "      <td>female</td>\n",
              "    </tr>\n",
              "    <tr>\n",
              "      <th>16</th>\n",
              "      <td>white</td>\n",
              "      <td>adult</td>\n",
              "      <td>male</td>\n",
              "    </tr>\n",
              "    <tr>\n",
              "      <th>17</th>\n",
              "      <td>white</td>\n",
              "      <td>tenager</td>\n",
              "      <td>male</td>\n",
              "    </tr>\n",
              "    <tr>\n",
              "      <th>18</th>\n",
              "      <td>white</td>\n",
              "      <td>adult</td>\n",
              "      <td>male</td>\n",
              "    </tr>\n",
              "    <tr>\n",
              "      <th>19</th>\n",
              "      <td>white</td>\n",
              "      <td>adult</td>\n",
              "      <td>female</td>\n",
              "    </tr>\n",
              "  </tbody>\n",
              "</table>\n",
              "</div>"
            ],
            "text/plain": [
              "     race          age  gender\n",
              "0   white        adult  female\n",
              "1   white       senior    male\n",
              "2   white        adult    male\n",
              "3   white        adult  female\n",
              "4   white        adult    male\n",
              "5   white       senior  female\n",
              "6   white       senior    male\n",
              "7   white  young-adult  female\n",
              "8   white        child  female\n",
              "9   white        child    male\n",
              "10  white  young-adult    male\n",
              "11  white        adult  female\n",
              "12  white       senior    male\n",
              "13  other        adult    male\n",
              "14  white        adult  female\n",
              "15  white        adult  female\n",
              "16  white        adult    male\n",
              "17  white      tenager    male\n",
              "18  white        adult    male\n",
              "19  white        adult  female"
            ]
          },
          "execution_count": 83,
          "metadata": {},
          "output_type": "execute_result"
        }
      ],
      "source": [
        "col_list = [\"race\", \"age\", \"sex\"]\n",
        "df = pd.read_csv(\"C:\\\\Users\\\\abubabu\\\\Documents\\\\GitHub\\\\synthetic-population-simulation\\\\CA-data\\\\pums\\\\temp_pums.csv\", usecols=col_list)\n",
        "df = df.rename(columns={'sex': 'gender'})\n",
        "df=df[[\"race\", \"age\", \"gender\"]]\n",
        "# np.random.seed(37)\n",
        "# random.seed(37)\n",
        "# df['height']=np.random.uniform(size=len(df),low=4.5,high=6.7)\n",
        "# \"C:\\Users\\abubabu\\Documents\\GitHub\\synthetic-population-simulation\\CA-data\\pums\\temp_pums.csv\"\n",
        "df.head(20)"
      ]
    },
    {
      "attachments": {},
      "cell_type": "markdown",
      "metadata": {},
      "source": [
        "#### cell 66-73 for visualization"
      ]
    },
    {
      "cell_type": "code",
      "execution_count": 84,
      "metadata": {},
      "outputs": [
        {
          "data": {
            "text/html": [
              "<div>\n",
              "<style scoped>\n",
              "    .dataframe tbody tr th:only-of-type {\n",
              "        vertical-align: middle;\n",
              "    }\n",
              "\n",
              "    .dataframe tbody tr th {\n",
              "        vertical-align: top;\n",
              "    }\n",
              "\n",
              "    .dataframe thead tr th {\n",
              "        text-align: left;\n",
              "    }\n",
              "\n",
              "    .dataframe thead tr:last-of-type th {\n",
              "        text-align: right;\n",
              "    }\n",
              "</style>\n",
              "<table border=\"1\" class=\"dataframe\">\n",
              "  <thead>\n",
              "    <tr>\n",
              "      <th>age</th>\n",
              "      <th colspan=\"2\" halign=\"left\">adult</th>\n",
              "      <th colspan=\"2\" halign=\"left\">child</th>\n",
              "      <th colspan=\"2\" halign=\"left\">senior</th>\n",
              "      <th colspan=\"2\" halign=\"left\">tenager</th>\n",
              "      <th colspan=\"2\" halign=\"left\">young-adult</th>\n",
              "    </tr>\n",
              "    <tr>\n",
              "      <th>gender</th>\n",
              "      <th>female</th>\n",
              "      <th>male</th>\n",
              "      <th>female</th>\n",
              "      <th>male</th>\n",
              "      <th>female</th>\n",
              "      <th>male</th>\n",
              "      <th>female</th>\n",
              "      <th>male</th>\n",
              "      <th>female</th>\n",
              "      <th>male</th>\n",
              "    </tr>\n",
              "    <tr>\n",
              "      <th>race</th>\n",
              "      <th></th>\n",
              "      <th></th>\n",
              "      <th></th>\n",
              "      <th></th>\n",
              "      <th></th>\n",
              "      <th></th>\n",
              "      <th></th>\n",
              "      <th></th>\n",
              "      <th></th>\n",
              "      <th></th>\n",
              "    </tr>\n",
              "  </thead>\n",
              "  <tbody>\n",
              "    <tr>\n",
              "      <th>asian</th>\n",
              "      <td>95</td>\n",
              "      <td>75</td>\n",
              "      <td>7</td>\n",
              "      <td>8</td>\n",
              "      <td>21</td>\n",
              "      <td>10</td>\n",
              "      <td>32</td>\n",
              "      <td>33</td>\n",
              "      <td>35</td>\n",
              "      <td>31</td>\n",
              "    </tr>\n",
              "    <tr>\n",
              "      <th>black</th>\n",
              "      <td>73</td>\n",
              "      <td>121</td>\n",
              "      <td>23</td>\n",
              "      <td>16</td>\n",
              "      <td>11</td>\n",
              "      <td>20</td>\n",
              "      <td>58</td>\n",
              "      <td>77</td>\n",
              "      <td>19</td>\n",
              "      <td>51</td>\n",
              "    </tr>\n",
              "    <tr>\n",
              "      <th>native</th>\n",
              "      <td>814</td>\n",
              "      <td>836</td>\n",
              "      <td>245</td>\n",
              "      <td>274</td>\n",
              "      <td>325</td>\n",
              "      <td>259</td>\n",
              "      <td>607</td>\n",
              "      <td>654</td>\n",
              "      <td>192</td>\n",
              "      <td>230</td>\n",
              "    </tr>\n",
              "    <tr>\n",
              "      <th>other</th>\n",
              "      <td>253</td>\n",
              "      <td>359</td>\n",
              "      <td>142</td>\n",
              "      <td>118</td>\n",
              "      <td>97</td>\n",
              "      <td>83</td>\n",
              "      <td>247</td>\n",
              "      <td>257</td>\n",
              "      <td>93</td>\n",
              "      <td>79</td>\n",
              "    </tr>\n",
              "    <tr>\n",
              "      <th>pacific-islander</th>\n",
              "      <td>2</td>\n",
              "      <td>5</td>\n",
              "      <td>3</td>\n",
              "      <td>1</td>\n",
              "      <td>2</td>\n",
              "      <td>4</td>\n",
              "      <td>0</td>\n",
              "      <td>1</td>\n",
              "      <td>1</td>\n",
              "      <td>4</td>\n",
              "    </tr>\n",
              "    <tr>\n",
              "      <th>white</th>\n",
              "      <td>7241</td>\n",
              "      <td>7390</td>\n",
              "      <td>1216</td>\n",
              "      <td>1262</td>\n",
              "      <td>6267</td>\n",
              "      <td>5725</td>\n",
              "      <td>2808</td>\n",
              "      <td>3106</td>\n",
              "      <td>1293</td>\n",
              "      <td>1485</td>\n",
              "    </tr>\n",
              "  </tbody>\n",
              "</table>\n",
              "</div>"
            ],
            "text/plain": [
              "age               adult        child       senior       tenager        \\\n",
              "gender           female  male female  male female  male  female  male   \n",
              "race                                                                    \n",
              "asian                95    75      7     8     21    10      32    33   \n",
              "black                73   121     23    16     11    20      58    77   \n",
              "native              814   836    245   274    325   259     607   654   \n",
              "other               253   359    142   118     97    83     247   257   \n",
              "pacific-islander      2     5      3     1      2     4       0     1   \n",
              "white              7241  7390   1216  1262   6267  5725    2808  3106   \n",
              "\n",
              "age              young-adult        \n",
              "gender                female  male  \n",
              "race                                \n",
              "asian                     35    31  \n",
              "black                     19    51  \n",
              "native                   192   230  \n",
              "other                     93    79  \n",
              "pacific-islander           1     4  \n",
              "white                   1293  1485  "
            ]
          },
          "execution_count": 84,
          "metadata": {},
          "output_type": "execute_result"
        }
      ],
      "source": [
        "ct = pd.crosstab(df.race, [df.age, df.gender])\n",
        "ct #cross-tabulation of the resulting sampled matrix."
      ]
    },
    {
      "cell_type": "code",
      "execution_count": 85,
      "metadata": {},
      "outputs": [],
      "source": [
        "import pandas as pd\n",
        "import matplotlib.pyplot as plt\n",
        "def plot_percentage(col):\n",
        "    global df\n",
        "    # Count the frequencies of different values in the column\n",
        "    value_counts = df[col].value_counts()\n",
        "\n",
        "    # Calculate the percentages\n",
        "    percentages = (value_counts / len(df)) * 100\n",
        "\n",
        "    # Create a bar plot of the percentages\n",
        "    plt.bar(percentages.index, percentages.values)\n",
        "\n",
        "    # Set the labels and title\n",
        "    plt.xlabel('Values')\n",
        "    plt.ylabel('Percentage')\n",
        "    plt.title('Percentage of '+col+'s in Column')\n",
        "\n",
        "    # Rotate the x-axis labels if needed\n",
        "    plt.xticks(rotation=90)\n",
        "\n",
        "    # Display the plot\n",
        "    plt.show()"
      ]
    },
    {
      "cell_type": "code",
      "execution_count": 86,
      "metadata": {},
      "outputs": [
        {
          "data": {
            "text/plain": [
              "asian               0.007746\n",
              "black               0.010470\n",
              "native              0.099027\n",
              "other               0.038575\n",
              "pacific-islander    0.000513\n",
              "white               0.843669\n",
              "Name: race, dtype: float64"
            ]
          },
          "execution_count": 86,
          "metadata": {},
          "output_type": "execute_result"
        }
      ],
      "source": [
        "df.race.value_counts().sort_index() / df.shape[0]"
      ]
    },
    {
      "cell_type": "code",
      "execution_count": 87,
      "metadata": {},
      "outputs": [
        {
          "data": {
            "image/png": "[encoded data removed]",
            "text/plain": [
              "<Figure size 640x480 with 1 Axes>"
            ]
          },
          "metadata": {},
          "output_type": "display_data"
        }
      ],
      "source": [
        "plot_percentage('race')"
      ]
    },
    {
      "cell_type": "code",
      "execution_count": 88,
      "metadata": {},
      "outputs": [
        {
          "data": {
            "text/plain": [
              "adult          0.385392\n",
              "child          0.074002\n",
              "senior         0.286276\n",
              "tenager        0.175909\n",
              "young-adult    0.078422\n",
              "Name: age, dtype: float64"
            ]
          },
          "execution_count": 88,
          "metadata": {},
          "output_type": "execute_result"
        }
      ],
      "source": [
        "df.age.value_counts().sort_index() / df.shape[0]"
      ]
    },
    {
      "cell_type": "code",
      "execution_count": 89,
      "metadata": {},
      "outputs": [
        {
          "data": {
            "image/png": "[encoded data removed]",
            "text/plain": [
              "<Figure size 640x480 with 1 Axes>"
            ]
          },
          "metadata": {},
          "output_type": "display_data"
        }
      ],
      "source": [
        "plot_percentage('age')"
      ]
    },
    {
      "cell_type": "code",
      "execution_count": 90,
      "metadata": {},
      "outputs": [
        {
          "data": {
            "text/plain": [
              "female    0.496071\n",
              "male      0.503929\n",
              "Name: gender, dtype: float64"
            ]
          },
          "execution_count": 90,
          "metadata": {},
          "output_type": "execute_result"
        }
      ],
      "source": [
        "df.gender.value_counts().sort_index() / df.shape[0]"
      ]
    },
    {
      "cell_type": "code",
      "execution_count": 91,
      "metadata": {},
      "outputs": [
        {
          "data": {
            "image/png": "[encoded data removed]",
            "text/plain": [
              "<Figure size 640x480 with 1 Axes>"
            ]
          },
          "metadata": {},
          "output_type": "display_data"
        }
      ],
      "source": [
        "plot_percentage('gender')"
      ]
    },
    {
      "cell_type": "code",
      "execution_count": 92,
      "metadata": {},
      "outputs": [],
      "source": [
        "def get_target_marginals(d):\n",
        "    factors = list(d.keys())\n",
        "    targets = [sorted([(k2, v2) for k2, v2 in v.items()]) for k, v in d.items()]\n",
        "    targets = np.array([[v for _, v in item] for item in targets])\n",
        "    # print(\"inside func\",type(targets))\n",
        "    return factors, targets\n",
        "\n",
        "def get_table(df, targets):\n",
        "    factors, target_marginals = get_target_marginals(targets)\n",
        "\n",
        "    cross_tab = pd.crosstab(df[factors[0]], [df[c] for c in factors[1:]])\n",
        "    shape = tuple([df[c].unique().shape[0] for c in factors])\n",
        "    table = cross_tab.values.reshape(shape)\n",
        "    # print(factors)\n",
        "    # print(target_marginals)\n",
        "    return factors, target_marginals, table\n",
        "\n",
        "\n"
      ]
    },
    {
      "attachments": {},
      "cell_type": "markdown",
      "metadata": {},
      "source": [
        "#### table = contigency table"
      ]
    },
    {
      "cell_type": "code",
      "execution_count": 93,
      "metadata": {},
      "outputs": [],
      "source": [
        "#tester\n",
        "# f, u, X = get_table(df, {\n",
        "#     'race': {'white': 5800, 'other': 4200},\n",
        "#     'age': {'minor': 2800, 'adult': 7200},\n",
        "#     'gender': {'male': 4900, 'female': 5100}\n",
        "# })\n",
        "# print(f,u,X)"
      ]
    },
    {
      "attachments": {},
      "cell_type": "markdown",
      "metadata": {},
      "source": [
        "Loading data from census"
      ]
    },
    {
      "cell_type": "code",
      "execution_count": 94,
      "metadata": {},
      "outputs": [
        {
          "data": {
            "text/html": [
              "<div>\n",
              "<style scoped>\n",
              "    .dataframe tbody tr th:only-of-type {\n",
              "        vertical-align: middle;\n",
              "    }\n",
              "\n",
              "    .dataframe tbody tr th {\n",
              "        vertical-align: top;\n",
              "    }\n",
              "\n",
              "    .dataframe thead th {\n",
              "        text-align: right;\n",
              "    }\n",
              "</style>\n",
              "<table border=\"1\" class=\"dataframe\">\n",
              "  <thead>\n",
              "    <tr style=\"text-align: right;\">\n",
              "      <th></th>\n",
              "      <th>topic</th>\n",
              "      <th>category</th>\n",
              "      <th>sub-category</th>\n",
              "      <th>id</th>\n",
              "      <th>value</th>\n",
              "    </tr>\n",
              "  </thead>\n",
              "  <tbody>\n",
              "    <tr>\n",
              "      <th>0</th>\n",
              "      <td>CITIZEN, VOTING AGE POPULATION</td>\n",
              "      <td>Citizen, 18 and over population</td>\n",
              "      <td>Female</td>\n",
              "      <td>DP05_0089E</td>\n",
              "      <td>12982938.0</td>\n",
              "    </tr>\n",
              "    <tr>\n",
              "      <th>1</th>\n",
              "      <td>CITIZEN, VOTING AGE POPULATION</td>\n",
              "      <td>Citizen, 18 and over population</td>\n",
              "      <td>Male</td>\n",
              "      <td>DP05_0088E</td>\n",
              "      <td>12511445.0</td>\n",
              "    </tr>\n",
              "    <tr>\n",
              "      <th>2</th>\n",
              "      <td>CITIZEN, VOTING AGE POPULATION</td>\n",
              "      <td>Citizen, 18 and over population</td>\n",
              "      <td>NaN</td>\n",
              "      <td>DP05_0087E</td>\n",
              "      <td>25494383.0</td>\n",
              "    </tr>\n",
              "    <tr>\n",
              "      <th>3</th>\n",
              "      <td>HISPANIC OR LATINO AND RACE</td>\n",
              "      <td>Total population</td>\n",
              "      <td>Hispanic or Latino (of any race)</td>\n",
              "      <td>DP05_0071E</td>\n",
              "      <td>15327688.0</td>\n",
              "    </tr>\n",
              "    <tr>\n",
              "      <th>4</th>\n",
              "      <td>HISPANIC OR LATINO AND RACE</td>\n",
              "      <td>Total population</td>\n",
              "      <td>Hispanic or Latino (of any race)</td>\n",
              "      <td>DP05_0072E</td>\n",
              "      <td>12687312.0</td>\n",
              "    </tr>\n",
              "    <tr>\n",
              "      <th>...</th>\n",
              "      <td>...</td>\n",
              "      <td>...</td>\n",
              "      <td>...</td>\n",
              "      <td>...</td>\n",
              "      <td>...</td>\n",
              "    </tr>\n",
              "    <tr>\n",
              "      <th>84</th>\n",
              "      <td>SEX AND AGE</td>\n",
              "      <td>Total population</td>\n",
              "      <td>Sex ratio (males per 100 females)</td>\n",
              "      <td>DP05_0004E</td>\n",
              "      <td>98.8</td>\n",
              "    </tr>\n",
              "    <tr>\n",
              "      <th>85</th>\n",
              "      <td>SEX AND AGE</td>\n",
              "      <td>Total population</td>\n",
              "      <td>Under 18 years</td>\n",
              "      <td>DP05_0019E</td>\n",
              "      <td>9022146.0</td>\n",
              "    </tr>\n",
              "    <tr>\n",
              "      <th>86</th>\n",
              "      <td>SEX AND AGE</td>\n",
              "      <td>Total population</td>\n",
              "      <td>Under 5 years</td>\n",
              "      <td>DP05_0005E</td>\n",
              "      <td>2451528.0</td>\n",
              "    </tr>\n",
              "    <tr>\n",
              "      <th>87</th>\n",
              "      <td>SEX AND AGE</td>\n",
              "      <td>Total population</td>\n",
              "      <td>NaN</td>\n",
              "      <td>DP05_0001E</td>\n",
              "      <td>39283497.0</td>\n",
              "    </tr>\n",
              "    <tr>\n",
              "      <th>88</th>\n",
              "      <td>Total housing units</td>\n",
              "      <td>NaN</td>\n",
              "      <td>NaN</td>\n",
              "      <td>DP05_0086E</td>\n",
              "      <td>14175976.0</td>\n",
              "    </tr>\n",
              "  </tbody>\n",
              "</table>\n",
              "<p>89 rows × 5 columns</p>\n",
              "</div>"
            ],
            "text/plain": [
              "                             topic                         category  \\\n",
              "0   CITIZEN, VOTING AGE POPULATION  Citizen, 18 and over population   \n",
              "1   CITIZEN, VOTING AGE POPULATION  Citizen, 18 and over population   \n",
              "2   CITIZEN, VOTING AGE POPULATION  Citizen, 18 and over population   \n",
              "3      HISPANIC OR LATINO AND RACE                 Total population   \n",
              "4      HISPANIC OR LATINO AND RACE                 Total population   \n",
              "..                             ...                              ...   \n",
              "84                     SEX AND AGE                 Total population   \n",
              "85                     SEX AND AGE                 Total population   \n",
              "86                     SEX AND AGE                 Total population   \n",
              "87                     SEX AND AGE                 Total population   \n",
              "88             Total housing units                              NaN   \n",
              "\n",
              "                         sub-category          id       value  \n",
              "0                              Female  DP05_0089E  12982938.0  \n",
              "1                                Male  DP05_0088E  12511445.0  \n",
              "2                                 NaN  DP05_0087E  25494383.0  \n",
              "3    Hispanic or Latino (of any race)  DP05_0071E  15327688.0  \n",
              "4    Hispanic or Latino (of any race)  DP05_0072E  12687312.0  \n",
              "..                                ...         ...         ...  \n",
              "84  Sex ratio (males per 100 females)  DP05_0004E        98.8  \n",
              "85                     Under 18 years  DP05_0019E   9022146.0  \n",
              "86                      Under 5 years  DP05_0005E   2451528.0  \n",
              "87                                NaN  DP05_0001E  39283497.0  \n",
              "88                                NaN  DP05_0086E  14175976.0  \n",
              "\n",
              "[89 rows x 5 columns]"
            ]
          },
          "execution_count": 94,
          "metadata": {},
          "output_type": "execute_result"
        }
      ],
      "source": [
        "#ddg = demographic_data_groups\n",
        "ddg=pd.read_csv(\"C:\\\\Users\\\\abubabu\\\\Documents\\\\GitHub\\\\synthetic-population-simulation\\\\CA-data\\\\census\\\\temp_demographic.csv\")\n",
        "\n",
        "ddg"
      ]
    },
    {
      "attachments": {},
      "cell_type": "markdown",
      "metadata": {},
      "source": [
        "#### fetching margin values from demographic data groups "
      ]
    },
    {
      "cell_type": "code",
      "execution_count": 95,
      "metadata": {},
      "outputs": [
        {
          "data": {
            "text/plain": [
              "{'race': {'white': 25048942.0,\n",
              "  'black': 2766478.0,\n",
              "  'native': 762733.0,\n",
              "  'asian': 6551732.0,\n",
              "  'pacific-islander': 323042.0,\n",
              "  'other': 5944874.0},\n",
              " 'age': {'child': 2451528.0,\n",
              "  'tenager': 7608859.0,\n",
              "  'young-adult': 2751567.0,\n",
              "  'adult': 18748401.0,\n",
              "  'senior': 7723142.0},\n",
              " 'gender': {'male': 19526298.0, 'female': 19757199.0}}"
            ]
          },
          "execution_count": 95,
          "metadata": {},
          "output_type": "execute_result"
        }
      ],
      "source": [
        "temp_race = {'white': 'DP05_0064E', 'black': 'DP05_0065E', 'native': 'DP05_0066E',\n",
        "             'asian': 'DP05_0067E', 'pacific-islander': 'DP05_0068E', 'other': 'DP05_0069E'}\n",
        "temp_sex = {'male': 'DP05_0002E', 'female': 'DP05_0003E'}\n",
        "temp_age = {\n",
        "    'child': ddg.loc[ddg['id'] == 'DP05_0005E', 'value'].values[0],\n",
        "    'tenager': ddg.loc[ddg['id'] == 'DP05_0006E', 'value'].values[0]+ddg.loc[ddg['id'] == 'DP05_0007E', 'value'].values[0]+ddg.loc[ddg['id'] == 'DP05_0008E', 'value'].values[0],\n",
        "    'young-adult': ddg.loc[ddg['id'] == 'DP05_0009E', 'value'].values[0],\n",
        "    'adult': ddg.loc[ddg['id'] == 'DP05_0010E', 'value'].values[0]+ddg.loc[ddg['id'] == 'DP05_0011E', 'value'].values[0]+ddg.loc[ddg['id'] == 'DP05_0012E', 'value'].values[0]+ddg.loc[ddg['id'] == 'DP05_0013E', 'value'].values[0],\n",
        "    'senior': ddg.loc[ddg['id'] == 'DP05_0014E', 'value'].values[0]+ddg.loc[ddg['id'] == 'DP05_0015E', 'value'].values[0]+ddg.loc[ddg['id'] == 'DP05_0016E', 'value'].values[0]+ddg.loc[ddg['id'] == 'DP05_0017E', 'value'].values[0]\n",
        "}\n",
        "margin_dict = {\n",
        "    'race': {key: ddg.loc[ddg['id'] == value, 'value'].values[0] for key, value in temp_race.items()},\n",
        "    'age': temp_age,\n",
        "    'gender': {key: ddg.loc[ddg['id'] == value, 'value'].values[0] for key, value in temp_sex.items()}\n",
        "}\n",
        "# ddg.columns\n",
        "# df = pd.read_csv(\"CA-data\\\\pums\\\\temp_pums.csv\", usecols=col_list)\n",
        "margin_dict\n"
      ]
    },
    {
      "cell_type": "code",
      "execution_count": 96,
      "metadata": {},
      "outputs": [
        {
          "name": "stderr",
          "output_type": "stream",
          "text": [
            "C:\\Users\\abubabu\\AppData\\Local\\Temp\\ipykernel_30208\\1338528954.py:4: VisibleDeprecationWarning: Creating an ndarray from ragged nested sequences (which is a list-or-tuple of lists-or-tuples-or ndarrays with different lengths or shapes) is deprecated. If you meant to do this, you must specify 'dtype=object' when creating the ndarray.\n",
            "  targets = np.array([[v for _, v in item] for item in targets])\n"
          ]
        }
      ],
      "source": [
        "f, u, X = get_table(df, margin_dict)"
      ]
    },
    {
      "cell_type": "code",
      "execution_count": 97,
      "metadata": {},
      "outputs": [
        {
          "data": {
            "text/plain": [
              "(6, 5, 2)"
            ]
          },
          "execution_count": 97,
          "metadata": {},
          "output_type": "execute_result"
        }
      ],
      "source": [
        "X.shape"
      ]
    },
    {
      "cell_type": "code",
      "execution_count": 98,
      "metadata": {},
      "outputs": [
        {
          "data": {
            "text/plain": [
              "numpy.ndarray"
            ]
          },
          "execution_count": 98,
          "metadata": {},
          "output_type": "execute_result"
        }
      ],
      "source": [
        "type(X)"
      ]
    },
    {
      "cell_type": "code",
      "execution_count": 99,
      "metadata": {},
      "outputs": [
        {
          "name": "stdout",
          "output_type": "stream",
          "text": [
            "<class 'numpy.ndarray'>\n",
            "<class 'numpy.float64'>\n",
            "<class 'numpy.float64'>\n",
            "<class 'numpy.float64'>\n",
            "<class 'numpy.float64'>\n",
            "<class 'numpy.float64'>\n",
            "<class 'numpy.float64'>\n",
            "<class 'numpy.ndarray'>\n",
            "<class 'numpy.float64'>\n",
            "<class 'numpy.float64'>\n",
            "<class 'numpy.float64'>\n",
            "<class 'numpy.float64'>\n",
            "<class 'numpy.float64'>\n",
            "<class 'numpy.ndarray'>\n",
            "<class 'numpy.float64'>\n",
            "<class 'numpy.float64'>\n"
          ]
        }
      ],
      "source": [
        "for i in u:\n",
        "    i=np.array(i)\n",
        "    print(type(i))\n",
        "    for j in i :\n",
        "        print(type(j))"
      ]
    },
    {
      "attachments": {},
      "cell_type": "markdown",
      "metadata": {},
      "source": [
        "X = contigency table\\\n",
        "u = target marginals\\\n",
        "f = helper vector"
      ]
    },
    {
      "cell_type": "code",
      "execution_count": 100,
      "metadata": {},
      "outputs": [
        {
          "data": {
            "text/plain": [
              "array([[[  95,   75],\n",
              "        [   7,    8],\n",
              "        [  21,   10],\n",
              "        [  32,   33],\n",
              "        [  35,   31]],\n",
              "\n",
              "       [[  73,  121],\n",
              "        [  23,   16],\n",
              "        [  11,   20],\n",
              "        [  58,   77],\n",
              "        [  19,   51]],\n",
              "\n",
              "       [[ 814,  836],\n",
              "        [ 245,  274],\n",
              "        [ 325,  259],\n",
              "        [ 607,  654],\n",
              "        [ 192,  230]],\n",
              "\n",
              "       [[ 253,  359],\n",
              "        [ 142,  118],\n",
              "        [  97,   83],\n",
              "        [ 247,  257],\n",
              "        [  93,   79]],\n",
              "\n",
              "       [[   2,    5],\n",
              "        [   3,    1],\n",
              "        [   2,    4],\n",
              "        [   0,    1],\n",
              "        [   1,    4]],\n",
              "\n",
              "       [[7241, 7390],\n",
              "        [1216, 1262],\n",
              "        [6267, 5725],\n",
              "        [2808, 3106],\n",
              "        [1293, 1485]]], dtype=int64)"
            ]
          },
          "execution_count": 100,
          "metadata": {},
          "output_type": "execute_result"
        }
      ],
      "source": [
        "X"
      ]
    },
    {
      "cell_type": "code",
      "execution_count": 101,
      "metadata": {},
      "outputs": [],
      "source": [
        "def get_coordinates(M):\n",
        "    return list(itertools.product(*[list(range(n)) for n in M.shape]))\n",
        "\n",
        "# returns a dict with marginals for each unique value of dimention i in M\n",
        "def get_marginals(M, i):\n",
        "    coordinates = get_coordinates(M)\n",
        "    #print(M)  # M hoilo marginals\n",
        "    key = lambda tup: tup[0]\n",
        "    counts = [(c[i], M[c]) for c in coordinates]\n",
        "    counts = sorted(counts, key=key)\n",
        "    counts = itertools.groupby(counts, key=key)\n",
        "    counts = {k: sum([v[1] for v in g]) for k, g in counts}\n",
        "\n",
        "    return counts\n",
        "\n",
        "def get_all_marginals(M):\n",
        "    return np.array([[v for _, v in get_marginals(M, i).items()]\n",
        "                     for i in range(len(M.shape))])\n",
        "\n",
        "# returns a dict with counts for each unique value of dimention i in M\n",
        "def get_counts(M, i):\n",
        "    coordinates = get_coordinates(M)\n",
        "\n",
        "    key = lambda tup: tup[0]\n",
        "    counts = [(c[i], M[c], c) for c in coordinates]\n",
        "    counts = sorted(counts, key=key)\n",
        "    counts = itertools.groupby(counts, key=key)\n",
        "    counts = {k: [(tup[1], tup[2]) for tup in g] for k, g in counts}\n",
        "\n",
        "    return counts\n",
        "\n",
        "#ipu\n",
        "def update_values(M, i, u):\n",
        "    marg = get_marginals(M, i)\n",
        "    vals = get_counts(M, i)\n",
        "\n",
        "    d = [[(c, n * u[k] / marg[k]) for n, c in v] for k, v in vals.items()]\n",
        "    d = itertools.chain(*d)\n",
        "    d = list(d)\n",
        "\n",
        "    return d\n",
        "\n",
        "def ipf_update(M, u):\n",
        "    for i in range(len(M.shape)):\n",
        "        values = update_values(M, i, u[i])\n",
        "        for idx, v in values:\n",
        "            M[idx] = v\n",
        "\n",
        "    o = get_all_marginals(M)\n",
        "    d = get_deltas(o, u)\n",
        "\n",
        "    return M, d\n",
        "\n",
        "# o-t\n",
        "def get_deltas(o, t):\n",
        "    return np.array([np.linalg.norm(np.array(o[r]) - np.array(t[r]), 2) for r in range(o.shape[0])])\n",
        "\n",
        "\n",
        "def get_weights(X, max_iters=50, zero_threshold=0.0001, convergence_threshold=3, debug=True):\n",
        "    M = X.copy()\n",
        "\n",
        "    d_prev = np.zeros(len(M.shape))\n",
        "    count_zero = 0\n",
        "\n",
        "    for _ in range(max_iters):\n",
        "        M, d_next = ipf_update(M, u)\n",
        "        d = np.linalg.norm(d_prev - d_next, 2)\n",
        "\n",
        "        if d < zero_threshold:\n",
        "            count_zero += 1\n",
        "\n",
        "        if debug:\n",
        "            print(','.join([f'{v:.5f}' for v in d_next]), d)\n",
        "        d_prev = d_next\n",
        "\n",
        "        # breaks if zero threshold triggered in 3 consecutive run\n",
        "        if count_zero >= convergence_threshold:\n",
        "            break\n",
        "\n",
        "    w = M / M.sum()\n",
        "    return w"
      ]
    },
    {
      "cell_type": "code",
      "execution_count": 102,
      "metadata": {},
      "outputs": [
        {
          "name": "stdout",
          "output_type": "stream",
          "text": [
            "1437161.21794,12129.64538,19.10497 1437212.4042830274\n",
            "1372175.42992,344.83909,21.26029 66045.69864377548\n",
            "1365298.84404,15.77973,20.61553 6884.454506489229\n",
            "1364779.95713,10.29563,10.00000 519.0244527219712\n",
            "1364746.29350,11.78983,10.81665 33.706669370412314\n",
            "1364742.44770,9.05539,9.89949 4.807136062628854\n",
            "1364742.03755,12.12436,9.21954 3.1700368413681383\n",
            "1364744.21895,8.06226,10.81665 4.879537436099809\n",
            "1364744.27021,12.96148,11.40175 4.934304685703276\n",
            "1364744.55659,9.69536,8.48528 4.388094907338861\n",
            "1364746.91693,10.09950,10.00000 2.8335326887097807\n",
            "1364746.38158,9.11043,9.43398 1.259061049673504\n",
            "1364747.28417,8.88819,9.21954 0.9539578781487312\n",
            "1364747.22665,9.27362,8.48528 0.8312651845251102\n",
            "1364746.17137,9.38083,8.48528 1.0607116123809048\n",
            "1364746.60318,8.12404,8.48528 1.328904369994531\n",
            "1364748.86481,10.34408,10.81665 3.9343133458984227\n",
            "1364748.25572,7.54983,10.81665 2.859858541717248\n",
            "1364747.09585,9.11043,9.21954 2.5162528359381504\n",
            "1364747.87845,6.78233,8.60233 2.5324859991445026\n",
            "1364747.78806,10.04988,9.21954 3.3265575347687824\n",
            "1364750.93788,7.54983,9.21954 4.021392843864081\n",
            "1364750.26839,7.14143,9.21954 0.7842310435179073\n",
            "1364749.89695,7.00000,7.81025 1.4642664157564669\n",
            "1364748.98811,6.55744,7.81025 1.01086973455385\n",
            "1364750.78309,7.68115,7.81025 2.117703124065854\n",
            "1364754.67639,7.07107,8.48528 3.9982067800006016\n",
            "1364750.86391,7.61577,8.48528 3.8511915155225287\n",
            "1364751.47530,7.14143,7.81025 1.026868877735661\n",
            "1364753.93876,7.61577,8.48528 2.5979480334410874\n",
            "1364752.42810,6.55744,7.81025 1.964135967169228\n",
            "1364752.55434,7.07107,8.48528 0.8575659760584794\n",
            "1364751.51342,6.48074,7.07107 1.8525693585125174\n",
            "1364754.10312,7.61577,8.48528 3.1614676169076623\n",
            "1364753.26926,7.61577,8.48528 0.8338625580072403\n",
            "1364752.55434,6.48074,8.48528 1.3414193492299362\n",
            "1364752.55434,6.92820,8.48528 0.4474625318676484\n",
            "1364752.57705,6.48074,8.48528 0.4480384401610397\n",
            "1364752.69600,6.48074,8.48528 0.11894463188946247\n",
            "1364752.47352,6.08276,7.81025 0.8145859369705674\n",
            "1364751.00557,7.87401,8.48528 2.412285292481375\n",
            "1364751.94296,7.00000,9.21954 1.4770711149347926\n",
            "1364751.96567,7.14143,9.21954 0.14323998747694347\n",
            "1364752.70330,6.70820,9.21954 0.8554408413251825\n",
            "1364752.45811,6.48074,8.48528 0.8068447373992392\n",
            "1364752.45811,6.48074,8.48528 0.0\n",
            "1364752.45811,6.48074,8.48528 0.0\n",
            "1364753.15032,6.48074,8.48528 0.6922081399243325\n",
            "1364753.15032,7.07107,8.48528 0.5903271134576151\n",
            "1364752.90513,7.14143,7.81025 0.7216192101114846\n"
          ]
        },
        {
          "name": "stderr",
          "output_type": "stream",
          "text": [
            "C:\\Users\\abubabu\\AppData\\Local\\Temp\\ipykernel_30208\\1855466793.py:17: VisibleDeprecationWarning: Creating an ndarray from ragged nested sequences (which is a list-or-tuple of lists-or-tuples-or ndarrays with different lengths or shapes) is deprecated. If you meant to do this, you must specify 'dtype=object' when creating the ndarray.\n",
            "  return np.array([[v for _, v in get_marginals(M, i).items()]\n"
          ]
        }
      ],
      "source": [
        "w = get_weights(X)"
      ]
    },
    {
      "cell_type": "code",
      "execution_count": 103,
      "metadata": {},
      "outputs": [
        {
          "data": {
            "text/plain": [
              "array([[[0.05177196, 0.03937754],\n",
              "        [0.00257067, 0.00283038],\n",
              "        [0.00814172, 0.00373457],\n",
              "        [0.01480973, 0.01471415],\n",
              "        [0.0109599 , 0.0093522 ]],\n",
              "\n",
              "       [[0.01256014, 0.0200582 ],\n",
              "        [0.00266672, 0.00178693],\n",
              "        [0.00134606, 0.00235822],\n",
              "        [0.00847473, 0.01083977],\n",
              "        [0.00187822, 0.00485759]],\n",
              "\n",
              "       [[0.00409882, 0.00405572],\n",
              "        [0.00083104, 0.00089536],\n",
              "        [0.00116398, 0.00089343],\n",
              "        [0.00259567, 0.00269413],\n",
              "        [0.00055527, 0.00064088]],\n",
              "\n",
              "       [[0.0256884 , 0.03511898],\n",
              "        [0.00971719, 0.00777935],\n",
              "        [0.00700707, 0.00577637],\n",
              "        [0.02129908, 0.02135111],\n",
              "        [0.00542564, 0.00444042]],\n",
              "\n",
              "       [[0.0009042 , 0.00217835],\n",
              "        [0.00091402, 0.00029323],\n",
              "        [0.00064322, 0.00123966],\n",
              "        [0.        , 0.00036982],\n",
              "        [0.00025965, 0.00100111]],\n",
              "\n",
              "       [[0.14191098, 0.13953581],\n",
              "        [0.01606148, 0.0160596 ],\n",
              "        [0.08738631, 0.07690965],\n",
              "        [0.04673615, 0.04980655],\n",
              "        [0.0145609 , 0.01611201]]])"
            ]
          },
          "execution_count": 103,
          "metadata": {},
          "output_type": "execute_result"
        }
      ],
      "source": [
        "w"
      ]
    },
    {
      "cell_type": "code",
      "execution_count": 104,
      "metadata": {},
      "outputs": [
        {
          "data": {
            "text/plain": [
              "(6, 5, 2)"
            ]
          },
          "execution_count": 104,
          "metadata": {},
          "output_type": "execute_result"
        }
      ],
      "source": [
        "w.shape"
      ]
    },
    {
      "cell_type": "code",
      "execution_count": 105,
      "metadata": {},
      "outputs": [],
      "source": [
        "races=['white','black','native','asian','pacific-islander','other']\n",
        "genders=['male','female']\n",
        "ages=['child','tenager','young-adult','adult','senior']"
      ]
    },
    {
      "cell_type": "code",
      "execution_count": 106,
      "metadata": {},
      "outputs": [
        {
          "data": {
            "text/html": [
              "<div>\n",
              "<style scoped>\n",
              "    .dataframe tbody tr th:only-of-type {\n",
              "        vertical-align: middle;\n",
              "    }\n",
              "\n",
              "    .dataframe tbody tr th {\n",
              "        vertical-align: top;\n",
              "    }\n",
              "\n",
              "    .dataframe thead tr th {\n",
              "        text-align: left;\n",
              "    }\n",
              "\n",
              "    .dataframe thead tr:last-of-type th {\n",
              "        text-align: right;\n",
              "    }\n",
              "</style>\n",
              "<table border=\"1\" class=\"dataframe\">\n",
              "  <thead>\n",
              "    <tr>\n",
              "      <th></th>\n",
              "      <th>sex</th>\n",
              "      <th>male</th>\n",
              "      <th>female</th>\n",
              "    </tr>\n",
              "    <tr>\n",
              "      <th>Race</th>\n",
              "      <th>Age</th>\n",
              "      <th></th>\n",
              "      <th></th>\n",
              "    </tr>\n",
              "  </thead>\n",
              "  <tbody>\n",
              "    <tr>\n",
              "      <th rowspan=\"5\" valign=\"top\">white</th>\n",
              "      <th>child</th>\n",
              "      <td>0.051772</td>\n",
              "      <td>0.039378</td>\n",
              "    </tr>\n",
              "    <tr>\n",
              "      <th>tenager</th>\n",
              "      <td>0.002571</td>\n",
              "      <td>0.002830</td>\n",
              "    </tr>\n",
              "    <tr>\n",
              "      <th>young-adult</th>\n",
              "      <td>0.008142</td>\n",
              "      <td>0.003735</td>\n",
              "    </tr>\n",
              "    <tr>\n",
              "      <th>adult</th>\n",
              "      <td>0.014810</td>\n",
              "      <td>0.014714</td>\n",
              "    </tr>\n",
              "    <tr>\n",
              "      <th>senior</th>\n",
              "      <td>0.010960</td>\n",
              "      <td>0.009352</td>\n",
              "    </tr>\n",
              "    <tr>\n",
              "      <th rowspan=\"5\" valign=\"top\">black</th>\n",
              "      <th>child</th>\n",
              "      <td>0.012560</td>\n",
              "      <td>0.020058</td>\n",
              "    </tr>\n",
              "    <tr>\n",
              "      <th>tenager</th>\n",
              "      <td>0.002667</td>\n",
              "      <td>0.001787</td>\n",
              "    </tr>\n",
              "    <tr>\n",
              "      <th>young-adult</th>\n",
              "      <td>0.001346</td>\n",
              "      <td>0.002358</td>\n",
              "    </tr>\n",
              "    <tr>\n",
              "      <th>adult</th>\n",
              "      <td>0.008475</td>\n",
              "      <td>0.010840</td>\n",
              "    </tr>\n",
              "    <tr>\n",
              "      <th>senior</th>\n",
              "      <td>0.001878</td>\n",
              "      <td>0.004858</td>\n",
              "    </tr>\n",
              "    <tr>\n",
              "      <th rowspan=\"5\" valign=\"top\">native</th>\n",
              "      <th>child</th>\n",
              "      <td>0.004099</td>\n",
              "      <td>0.004056</td>\n",
              "    </tr>\n",
              "    <tr>\n",
              "      <th>tenager</th>\n",
              "      <td>0.000831</td>\n",
              "      <td>0.000895</td>\n",
              "    </tr>\n",
              "    <tr>\n",
              "      <th>young-adult</th>\n",
              "      <td>0.001164</td>\n",
              "      <td>0.000893</td>\n",
              "    </tr>\n",
              "    <tr>\n",
              "      <th>adult</th>\n",
              "      <td>0.002596</td>\n",
              "      <td>0.002694</td>\n",
              "    </tr>\n",
              "    <tr>\n",
              "      <th>senior</th>\n",
              "      <td>0.000555</td>\n",
              "      <td>0.000641</td>\n",
              "    </tr>\n",
              "    <tr>\n",
              "      <th rowspan=\"5\" valign=\"top\">asian</th>\n",
              "      <th>child</th>\n",
              "      <td>0.025688</td>\n",
              "      <td>0.035119</td>\n",
              "    </tr>\n",
              "    <tr>\n",
              "      <th>tenager</th>\n",
              "      <td>0.009717</td>\n",
              "      <td>0.007779</td>\n",
              "    </tr>\n",
              "    <tr>\n",
              "      <th>young-adult</th>\n",
              "      <td>0.007007</td>\n",
              "      <td>0.005776</td>\n",
              "    </tr>\n",
              "    <tr>\n",
              "      <th>adult</th>\n",
              "      <td>0.021299</td>\n",
              "      <td>0.021351</td>\n",
              "    </tr>\n",
              "    <tr>\n",
              "      <th>senior</th>\n",
              "      <td>0.005426</td>\n",
              "      <td>0.004440</td>\n",
              "    </tr>\n",
              "    <tr>\n",
              "      <th rowspan=\"5\" valign=\"top\">pacific-islander</th>\n",
              "      <th>child</th>\n",
              "      <td>0.000904</td>\n",
              "      <td>0.002178</td>\n",
              "    </tr>\n",
              "    <tr>\n",
              "      <th>tenager</th>\n",
              "      <td>0.000914</td>\n",
              "      <td>0.000293</td>\n",
              "    </tr>\n",
              "    <tr>\n",
              "      <th>young-adult</th>\n",
              "      <td>0.000643</td>\n",
              "      <td>0.001240</td>\n",
              "    </tr>\n",
              "    <tr>\n",
              "      <th>adult</th>\n",
              "      <td>0.000000</td>\n",
              "      <td>0.000370</td>\n",
              "    </tr>\n",
              "    <tr>\n",
              "      <th>senior</th>\n",
              "      <td>0.000260</td>\n",
              "      <td>0.001001</td>\n",
              "    </tr>\n",
              "    <tr>\n",
              "      <th rowspan=\"5\" valign=\"top\">other</th>\n",
              "      <th>child</th>\n",
              "      <td>0.141911</td>\n",
              "      <td>0.139536</td>\n",
              "    </tr>\n",
              "    <tr>\n",
              "      <th>tenager</th>\n",
              "      <td>0.016061</td>\n",
              "      <td>0.016060</td>\n",
              "    </tr>\n",
              "    <tr>\n",
              "      <th>young-adult</th>\n",
              "      <td>0.087386</td>\n",
              "      <td>0.076910</td>\n",
              "    </tr>\n",
              "    <tr>\n",
              "      <th>adult</th>\n",
              "      <td>0.046736</td>\n",
              "      <td>0.049807</td>\n",
              "    </tr>\n",
              "    <tr>\n",
              "      <th>senior</th>\n",
              "      <td>0.014561</td>\n",
              "      <td>0.016112</td>\n",
              "    </tr>\n",
              "  </tbody>\n",
              "</table>\n",
              "</div>"
            ],
            "text/plain": [
              "sex                               male    female\n",
              "Race             Age                            \n",
              "white            child        0.051772  0.039378\n",
              "                 tenager      0.002571  0.002830\n",
              "                 young-adult  0.008142  0.003735\n",
              "                 adult        0.014810  0.014714\n",
              "                 senior       0.010960  0.009352\n",
              "black            child        0.012560  0.020058\n",
              "                 tenager      0.002667  0.001787\n",
              "                 young-adult  0.001346  0.002358\n",
              "                 adult        0.008475  0.010840\n",
              "                 senior       0.001878  0.004858\n",
              "native           child        0.004099  0.004056\n",
              "                 tenager      0.000831  0.000895\n",
              "                 young-adult  0.001164  0.000893\n",
              "                 adult        0.002596  0.002694\n",
              "                 senior       0.000555  0.000641\n",
              "asian            child        0.025688  0.035119\n",
              "                 tenager      0.009717  0.007779\n",
              "                 young-adult  0.007007  0.005776\n",
              "                 adult        0.021299  0.021351\n",
              "                 senior       0.005426  0.004440\n",
              "pacific-islander child        0.000904  0.002178\n",
              "                 tenager      0.000914  0.000293\n",
              "                 young-adult  0.000643  0.001240\n",
              "                 adult        0.000000  0.000370\n",
              "                 senior       0.000260  0.001001\n",
              "other            child        0.141911  0.139536\n",
              "                 tenager      0.016061  0.016060\n",
              "                 young-adult  0.087386  0.076910\n",
              "                 adult        0.046736  0.049807\n",
              "                 senior       0.014561  0.016112"
            ]
          },
          "execution_count": 106,
          "metadata": {},
          "output_type": "execute_result"
        }
      ],
      "source": [
        "import numpy as np\n",
        "import matplotlib.pyplot as plt\n",
        "from mpl_toolkits.mplot3d import Axes3D\n",
        "array_3d=w\n",
        "# Assuming you have a numpy array called 'data' with shape (6, 5, 2)\n",
        "# Replace 'data' with the actual name of your array\n",
        "column_names = ['male','female']\n",
        "\n",
        "# Create row and column index labels\n",
        "row_labels = ['white','black','native','asian','pacific-islander','other']\n",
        "column_labels = ['child','tenager','young-adult','adult','senior']\n",
        "\n",
        "# Create multi-index for rows and columns\n",
        "row_index = pd.MultiIndex.from_product([row_labels, column_labels], names=['Race', 'Age'])\n",
        "column_index = pd.MultiIndex.from_product([column_names], names=['sex'])\n",
        "\n",
        "# Create DataFrame\n",
        "weight_df = pd.DataFrame(array_3d.reshape((-1, array_3d.shape[2])), index=row_index, columns=column_index)\n",
        "\n",
        "# Display the DataFrame\n",
        "weight_df"
      ]
    },
    {
      "cell_type": "code",
      "execution_count": 107,
      "metadata": {},
      "outputs": [
        {
          "data": {
            "text/plain": [
              "(30, 2)"
            ]
          },
          "execution_count": 107,
          "metadata": {},
          "output_type": "execute_result"
        }
      ],
      "source": [
        "weight_df.shape"
      ]
    },
    {
      "cell_type": "code",
      "execution_count": 108,
      "metadata": {},
      "outputs": [],
      "source": [
        "# data=df\n",
        "# fig, ax = plt.subplots()\n",
        "# colors = np.random.rand(*data.shape)\n",
        "# # Create a table from the dataframe\n",
        "# table = ax.table(cellText=data, cellColours=colors, loc='center')\n",
        "\n",
        "# # Set the font size and cell padding\n",
        "# table.set_fontsize(14)\n",
        "# table.scale(1, 1.5)  # Adjust the scaling if needed\n",
        "# table.auto_set_column_width(col=list(range(len(data[0]))))  # Auto adjust column width\n",
        "\n",
        "# # Hide the axes\n",
        "# ax.axis('off')\n",
        "\n",
        "# # Show the plot\n",
        "# plt.show()"
      ]
    },
    {
      "cell_type": "code",
      "execution_count": 109,
      "metadata": {},
      "outputs": [],
      "source": [
        "# import pandas as pd\n",
        "# import numpy as np\n",
        "# import matplotlib.pyplot as plt\n",
        "# from mpl_toolkits.mplot3d import Axes3D\n",
        "\n",
        "# # Assuming you have a 3D DataFrame named \"df\"\n",
        "# # Create a sample 3D DataFrame\n",
        "# row_labels = ['white','black','native','asian','pacific-islander','other']\n",
        "# column_labels = ['child','tenager','young-adult','adult','senior']\n",
        "# value_columns = ['male','female']\n",
        "# # data = np.random.rand(6, 5, 2)\n",
        "# # df = pd.DataFrame(data, index=row_labels, columns=column_labels, dtype=float)\n",
        "# # Plot each depth slice as a heatmap\n",
        "# fig, axs = plt.subplots(1, df.shape[2], figsize=(12, 4))\n",
        "# for i in range(df.shape[2]):\n",
        "#     heatmap = axs[i].imshow(df.iloc[:, :, i], cmap='viridis')\n",
        "#     axs[i].set_title(f'Depth {i}')\n",
        "#     axs[i].set_xlabel('Column')\n",
        "#     axs[i].set_ylabel('Row')\n",
        "#     plt.colorbar(heatmap, ax=axs[i])\n",
        "\n",
        "# plt.tight_layout()\n",
        "# plt.show()"
      ]
    },
    {
      "cell_type": "markdown",
      "metadata": {},
      "source": []
    },
    {
      "attachments": {},
      "cell_type": "markdown",
      "metadata": {},
      "source": [
        "<b> Sampling </b>"
      ]
    },
    {
      "cell_type": "code",
      "execution_count": 110,
      "metadata": {},
      "outputs": [
        {
          "name": "stderr",
          "output_type": "stream",
          "text": [
            "C:\\Users\\abubabu\\AppData\\Local\\Temp\\ipykernel_30208\\671011591.py:7: RuntimeWarning: invalid value encountered in double_scalars\n",
            "  return {k: v / get_total(df, f, k) for k, v in zip(list(itertools.product(*[sorted(df[c].unique()) for c in f])), np.ravel(w))}\n"
          ]
        },
        {
          "data": {
            "text/html": [
              "<div>\n",
              "<style scoped>\n",
              "    .dataframe tbody tr th:only-of-type {\n",
              "        vertical-align: middle;\n",
              "    }\n",
              "\n",
              "    .dataframe tbody tr th {\n",
              "        vertical-align: top;\n",
              "    }\n",
              "\n",
              "    .dataframe thead th {\n",
              "        text-align: right;\n",
              "    }\n",
              "</style>\n",
              "<table border=\"1\" class=\"dataframe\">\n",
              "  <thead>\n",
              "    <tr style=\"text-align: right;\">\n",
              "      <th></th>\n",
              "      <th>race</th>\n",
              "      <th>age</th>\n",
              "      <th>gender</th>\n",
              "    </tr>\n",
              "  </thead>\n",
              "  <tbody>\n",
              "    <tr>\n",
              "      <th>32332</th>\n",
              "      <td>white</td>\n",
              "      <td>adult</td>\n",
              "      <td>male</td>\n",
              "    </tr>\n",
              "    <tr>\n",
              "      <th>40892</th>\n",
              "      <td>asian</td>\n",
              "      <td>adult</td>\n",
              "      <td>female</td>\n",
              "    </tr>\n",
              "    <tr>\n",
              "      <th>34835</th>\n",
              "      <td>black</td>\n",
              "      <td>adult</td>\n",
              "      <td>male</td>\n",
              "    </tr>\n",
              "    <tr>\n",
              "      <th>5924</th>\n",
              "      <td>asian</td>\n",
              "      <td>adult</td>\n",
              "      <td>female</td>\n",
              "    </tr>\n",
              "    <tr>\n",
              "      <th>37947</th>\n",
              "      <td>white</td>\n",
              "      <td>senior</td>\n",
              "      <td>female</td>\n",
              "    </tr>\n",
              "    <tr>\n",
              "      <th>...</th>\n",
              "      <td>...</td>\n",
              "      <td>...</td>\n",
              "      <td>...</td>\n",
              "    </tr>\n",
              "    <tr>\n",
              "      <th>43451</th>\n",
              "      <td>black</td>\n",
              "      <td>adult</td>\n",
              "      <td>male</td>\n",
              "    </tr>\n",
              "    <tr>\n",
              "      <th>23762</th>\n",
              "      <td>white</td>\n",
              "      <td>child</td>\n",
              "      <td>male</td>\n",
              "    </tr>\n",
              "    <tr>\n",
              "      <th>538</th>\n",
              "      <td>native</td>\n",
              "      <td>adult</td>\n",
              "      <td>male</td>\n",
              "    </tr>\n",
              "    <tr>\n",
              "      <th>2001</th>\n",
              "      <td>white</td>\n",
              "      <td>young-adult</td>\n",
              "      <td>female</td>\n",
              "    </tr>\n",
              "    <tr>\n",
              "      <th>19712</th>\n",
              "      <td>asian</td>\n",
              "      <td>tenager</td>\n",
              "      <td>male</td>\n",
              "    </tr>\n",
              "  </tbody>\n",
              "</table>\n",
              "<p>10000 rows × 3 columns</p>\n",
              "</div>"
            ],
            "text/plain": [
              "         race          age  gender\n",
              "32332   white        adult    male\n",
              "40892   asian        adult  female\n",
              "34835   black        adult    male\n",
              "5924    asian        adult  female\n",
              "37947   white       senior  female\n",
              "...       ...          ...     ...\n",
              "43451   black        adult    male\n",
              "23762   white        child    male\n",
              "538    native        adult    male\n",
              "2001    white  young-adult  female\n",
              "19712   asian      tenager    male\n",
              "\n",
              "[10000 rows x 3 columns]"
            ]
          },
          "execution_count": 110,
          "metadata": {},
          "output_type": "execute_result"
        }
      ],
      "source": [
        "import functools\n",
        "\n",
        "def get_sampling_weights(df, f, w):\n",
        "    get_filters = lambda df, fields, values: [df[f] == v for f, v in zip(fields, values)]\n",
        "    get_total = lambda df, fields, values: df[functools.reduce(lambda a, b: a & b, get_filters(df, fields, values))].shape[0]\n",
        "\n",
        "    return {k: v / get_total(df, f, k) for k, v in zip(list(itertools.product(*[sorted(df[c].unique()) for c in f])), np.ravel(w))}\n",
        "\n",
        "def get_samples(df, f, w, n=10_000):\n",
        "    weights = get_sampling_weights(df, f, w)\n",
        "    s = df.apply(lambda r: weights[tuple([r[c] for c in f])], axis=1)\n",
        "    return df.sample(n=n, replace=True, weights=s)\n",
        "\n",
        "sample_df = get_samples(df, f, w)\n",
        "sample_df"
      ]
    },
    {
      "cell_type": "code",
      "execution_count": 119,
      "metadata": {},
      "outputs": [],
      "source": [
        "sample_df.to_csv(\"sampled_noHH.csv\")"
      ]
    },
    {
      "cell_type": "code",
      "execution_count": 111,
      "metadata": {},
      "outputs": [
        {
          "data": {
            "text/plain": [
              "['race', 'age', 'gender']"
            ]
          },
          "execution_count": 111,
          "metadata": {},
          "output_type": "execute_result"
        }
      ],
      "source": [
        "f"
      ]
    },
    {
      "attachments": {},
      "cell_type": "markdown",
      "metadata": {},
      "source": [
        "Cross-tabulation of resulting sampled matrix"
      ]
    },
    {
      "cell_type": "code",
      "execution_count": 112,
      "metadata": {},
      "outputs": [
        {
          "data": {
            "text/html": [
              "<div>\n",
              "<style scoped>\n",
              "    .dataframe tbody tr th:only-of-type {\n",
              "        vertical-align: middle;\n",
              "    }\n",
              "\n",
              "    .dataframe tbody tr th {\n",
              "        vertical-align: top;\n",
              "    }\n",
              "\n",
              "    .dataframe thead tr th {\n",
              "        text-align: left;\n",
              "    }\n",
              "\n",
              "    .dataframe thead tr:last-of-type th {\n",
              "        text-align: right;\n",
              "    }\n",
              "</style>\n",
              "<table border=\"1\" class=\"dataframe\">\n",
              "  <thead>\n",
              "    <tr>\n",
              "      <th>age</th>\n",
              "      <th colspan=\"2\" halign=\"left\">adult</th>\n",
              "      <th colspan=\"2\" halign=\"left\">child</th>\n",
              "      <th colspan=\"2\" halign=\"left\">senior</th>\n",
              "      <th colspan=\"2\" halign=\"left\">tenager</th>\n",
              "      <th colspan=\"2\" halign=\"left\">young-adult</th>\n",
              "    </tr>\n",
              "    <tr>\n",
              "      <th>gender</th>\n",
              "      <th>female</th>\n",
              "      <th>male</th>\n",
              "      <th>female</th>\n",
              "      <th>male</th>\n",
              "      <th>female</th>\n",
              "      <th>male</th>\n",
              "      <th>female</th>\n",
              "      <th>male</th>\n",
              "      <th>female</th>\n",
              "      <th>male</th>\n",
              "    </tr>\n",
              "    <tr>\n",
              "      <th>race</th>\n",
              "      <th></th>\n",
              "      <th></th>\n",
              "      <th></th>\n",
              "      <th></th>\n",
              "      <th></th>\n",
              "      <th></th>\n",
              "      <th></th>\n",
              "      <th></th>\n",
              "      <th></th>\n",
              "      <th></th>\n",
              "    </tr>\n",
              "  </thead>\n",
              "  <tbody>\n",
              "    <tr>\n",
              "      <th>asian</th>\n",
              "      <td>556</td>\n",
              "      <td>413</td>\n",
              "      <td>24</td>\n",
              "      <td>28</td>\n",
              "      <td>67</td>\n",
              "      <td>43</td>\n",
              "      <td>148</td>\n",
              "      <td>144</td>\n",
              "      <td>119</td>\n",
              "      <td>99</td>\n",
              "    </tr>\n",
              "    <tr>\n",
              "      <th>black</th>\n",
              "      <td>135</td>\n",
              "      <td>217</td>\n",
              "      <td>37</td>\n",
              "      <td>15</td>\n",
              "      <td>10</td>\n",
              "      <td>18</td>\n",
              "      <td>76</td>\n",
              "      <td>109</td>\n",
              "      <td>12</td>\n",
              "      <td>36</td>\n",
              "    </tr>\n",
              "    <tr>\n",
              "      <th>native</th>\n",
              "      <td>26</td>\n",
              "      <td>43</td>\n",
              "      <td>9</td>\n",
              "      <td>11</td>\n",
              "      <td>15</td>\n",
              "      <td>5</td>\n",
              "      <td>34</td>\n",
              "      <td>21</td>\n",
              "      <td>5</td>\n",
              "      <td>9</td>\n",
              "    </tr>\n",
              "    <tr>\n",
              "      <th>other</th>\n",
              "      <td>246</td>\n",
              "      <td>311</td>\n",
              "      <td>88</td>\n",
              "      <td>79</td>\n",
              "      <td>71</td>\n",
              "      <td>58</td>\n",
              "      <td>206</td>\n",
              "      <td>236</td>\n",
              "      <td>51</td>\n",
              "      <td>49</td>\n",
              "    </tr>\n",
              "    <tr>\n",
              "      <th>pacific-islander</th>\n",
              "      <td>10</td>\n",
              "      <td>22</td>\n",
              "      <td>8</td>\n",
              "      <td>5</td>\n",
              "      <td>5</td>\n",
              "      <td>16</td>\n",
              "      <td>0</td>\n",
              "      <td>0</td>\n",
              "      <td>4</td>\n",
              "      <td>8</td>\n",
              "    </tr>\n",
              "    <tr>\n",
              "      <th>white</th>\n",
              "      <td>1416</td>\n",
              "      <td>1436</td>\n",
              "      <td>142</td>\n",
              "      <td>157</td>\n",
              "      <td>820</td>\n",
              "      <td>774</td>\n",
              "      <td>480</td>\n",
              "      <td>490</td>\n",
              "      <td>145</td>\n",
              "      <td>183</td>\n",
              "    </tr>\n",
              "  </tbody>\n",
              "</table>\n",
              "</div>"
            ],
            "text/plain": [
              "age               adult        child      senior      tenager       \\\n",
              "gender           female  male female male female male  female male   \n",
              "race                                                                 \n",
              "asian               556   413     24   28     67   43     148  144   \n",
              "black               135   217     37   15     10   18      76  109   \n",
              "native               26    43      9   11     15    5      34   21   \n",
              "other               246   311     88   79     71   58     206  236   \n",
              "pacific-islander     10    22      8    5      5   16       0    0   \n",
              "white              1416  1436    142  157    820  774     480  490   \n",
              "\n",
              "age              young-adult       \n",
              "gender                female male  \n",
              "race                               \n",
              "asian                    119   99  \n",
              "black                     12   36  \n",
              "native                     5    9  \n",
              "other                     51   49  \n",
              "pacific-islander           4    8  \n",
              "white                    145  183  "
            ]
          },
          "execution_count": 112,
          "metadata": {},
          "output_type": "execute_result"
        }
      ],
      "source": [
        "ct = pd.crosstab(sample_df.race, [sample_df.age, sample_df.gender])\n",
        "ct #cross-tabulation of the resulting sampled matrix."
      ]
    },
    {
      "cell_type": "code",
      "execution_count": 113,
      "metadata": {},
      "outputs": [],
      "source": [
        "def plot_percentage_sample(col):\n",
        "    global sample_df\n",
        "    # Count the frequencies of different values in the column\n",
        "    value_counts = sample_df[col].value_counts()\n",
        "\n",
        "    # Calculate the percentages\n",
        "    percentages = (value_counts / len(sample_df)) * 100\n",
        "\n",
        "    # Create a bar plot of the percentages\n",
        "    plt.bar(percentages.index, percentages.values)\n",
        "\n",
        "    # Set the labels and title\n",
        "    plt.xlabel('Values')\n",
        "    plt.ylabel('Percentage')\n",
        "    plt.title('Percentage of '+col+'s in Column')\n",
        "\n",
        "    # Rotate the x-axis labels if needed\n",
        "    plt.xticks(rotation=90)\n",
        "\n",
        "    # Display the plot\n",
        "    plt.show()"
      ]
    },
    {
      "cell_type": "code",
      "execution_count": 114,
      "metadata": {},
      "outputs": [
        {
          "data": {
            "text/plain": [
              "asian               0.1641\n",
              "black               0.0665\n",
              "native              0.0178\n",
              "other               0.1395\n",
              "pacific-islander    0.0078\n",
              "white               0.6043\n",
              "Name: race, dtype: float64"
            ]
          },
          "execution_count": 114,
          "metadata": {},
          "output_type": "execute_result"
        }
      ],
      "source": [
        "sample_df.race.value_counts().sort_index() / sample_df.shape[0]"
      ]
    },
    {
      "cell_type": "code",
      "execution_count": 115,
      "metadata": {},
      "outputs": [
        {
          "data": {
            "image/png": "[encoded data removed]",
            "text/plain": [
              "<Figure size 640x480 with 1 Axes>"
            ]
          },
          "metadata": {},
          "output_type": "display_data"
        }
      ],
      "source": [
        "plot_percentage_sample('race')"
      ]
    },
    {
      "cell_type": "code",
      "execution_count": 120,
      "metadata": {},
      "outputs": [],
      "source": [
        "# Plotting the comparison\n",
        "# plt.figure(figsize=(8, 6))\n",
        "\n",
        "# plt.scatter(df['race'], sample_df['race'], color='blue', label='Comparison')\n",
        "\n",
        "# plt.xlabel('Value - DataFrame 1')\n",
        "# plt.ylabel('Value - DataFrame 2')\n",
        "# plt.title('Comparison between DataFrame 1 and DataFrame 2')\n",
        "# plt.legend()\n",
        "\n",
        "# plt.show()"
      ]
    },
    {
      "cell_type": "code",
      "execution_count": null,
      "metadata": {},
      "outputs": [
        {
          "data": {
            "text/plain": [
              "adult          0.4751\n",
              "child          0.0657\n",
              "senior         0.1983\n",
              "tenager        0.1881\n",
              "young-adult    0.0728\n",
              "Name: age, dtype: float64"
            ]
          },
          "execution_count": 106,
          "metadata": {},
          "output_type": "execute_result"
        }
      ],
      "source": [
        "sample_df.age.value_counts().sort_index() / sample_df.shape[0]"
      ]
    },
    {
      "cell_type": "code",
      "execution_count": null,
      "metadata": {},
      "outputs": [
        {
          "data": {
            "image/png": "[encoded data removed]",
            "text/plain": [
              "<Figure size 640x480 with 1 Axes>"
            ]
          },
          "metadata": {},
          "output_type": "display_data"
        }
      ],
      "source": [
        "plot_percentage_sample('age')"
      ]
    },
    {
      "cell_type": "code",
      "execution_count": null,
      "metadata": {},
      "outputs": [
        {
          "data": {
            "text/plain": [
              "female    0.4996\n",
              "male      0.5004\n",
              "Name: gender, dtype: float64"
            ]
          },
          "execution_count": 108,
          "metadata": {},
          "output_type": "execute_result"
        }
      ],
      "source": [
        "sample_df.gender.value_counts().sort_index() / sample_df.shape[0]"
      ]
    },
    {
      "cell_type": "code",
      "execution_count": null,
      "metadata": {},
      "outputs": [
        {
          "data": {
            "image/png": "[encoded data removed]",
            "text/plain": [
              "<Figure size 640x480 with 1 Axes>"
            ]
          },
          "metadata": {},
          "output_type": "display_data"
        }
      ],
      "source": [
        "plot_percentage_sample('gender')"
      ]
    },
    {
      "cell_type": "code",
      "execution_count": null,
      "metadata": {},
      "outputs": [],
      "source": [
        "sample_df.to_csv(\"SAMPLE_DATA.csv\",header=True)"
      ]
    },
    {
      "attachments": {},
      "cell_type": "markdown",
      "metadata": {},
      "source": [
        "marginals remain kind of the same"
      ]
    }
  ],
  "metadata": {
    "colab": {
      "collapsed_sections": [],
      "name": "Multidimensional IPF.ipynb",
      "provenance": []
    },
    "kernelspec": {
      "display_name": "Python 3.10.8 64-bit (microsoft store)",
      "language": "python",
      "name": "python3"
    },
    "language_info": {
      "codemirror_mode": {
        "name": "ipython",
        "version": 3
      },
      "file_extension": ".py",
      "mimetype": "text/x-python",
      "name": "python",
      "nbconvert_exporter": "python",
      "pygments_lexer": "ipython3",
      "version": "3.10.11"
    },
    "vscode": {
      "interpreter": {
        "hash": "8a8c870a75a2399a18da699afb8120ef3e062104a641580cdd043bc818847915"
      }
    }
  },
  "nbformat": 4,
  "nbformat_minor": 0
}
