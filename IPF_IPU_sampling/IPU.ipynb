{
 "cells": [
  {
   "cell_type": "code",
   "execution_count": 1,
   "metadata": {},
   "outputs": [],
   "source": [
    "import numpy as np\n",
    "import pandas as pd\n",
    "import matplotlib.pyplot as plt\n",
    "\n",
    "\n",
    "def ipu(datafile, constrains):\n",
    "    df = pd.read_csv(datafile)\n",
    "    ipf = constrains\n",
    "    df.rename(columns={df.columns[0]: 'SERIALNO'}, inplace=True)\n",
    "    e = np.finfo('float').eps\n",
    "    for i in ipf:\n",
    "        if i == 0:\n",
    "            i = e\n",
    "    # w = np.array(df['weights'], dtype=np.float32)\n",
    "    w=np.ones(len(df))\n",
    "    df = df.drop(['SERIALNO'], axis=1)\n",
    "    # df = df.drop(['weights'], axis=1)\n",
    "    ws = np.zeros(len(df))\n",
    "    i = 0\n",
    "\n",
    "    for col  in df.columns:\n",
    "        x = 0\n",
    "        for j in range(len(df)) :\n",
    "            # print(w[j], df[col][j])\n",
    "            x += w[j]*df[col][j]\n",
    "        ws[i] = x\n",
    "        i += 1\n",
    "    print('weighted sums = ', ws)\n",
    "\n",
    "    delta = sum((abs(ws-ipf))/ipf)\n",
    "    print(delta)\n",
    "\n",
    "    a = df.to_numpy(dtype=np.float32)\n",
    "    # print(a.shape)\n",
    "    # print(df.shape)\n",
    "    print(a)\n",
    "    print(type(a[1][1]))\n",
    "\n",
    "    w1 = open(\"ipu-weights.txt\", \"w\")\n",
    "    w2 = open(\"ipu-weighted_sums.txt\", \"w\")\n",
    "    \n",
    "    t=1\n",
    "\n",
    "    while(True):\n",
    "\n",
    "        delta_prev = delta\n",
    "\n",
    "        w1.write('iteration'+str(t)+'\\n')\n",
    "        w2.write('iteration'+str(t)+'\\n')\n",
    "\n",
    "        for i in range(df.shape[1]):\n",
    "            pws = ws[i]\n",
    "            ws[i] = ipf[i]\n",
    "            multiplier = ws[i]/pws\n",
    "            # print(multiplier)\n",
    "        \n",
    "            for j in range(df.shape[0]):\n",
    "                if(a[j][i] == 0):\n",
    "                    continue\n",
    "                w[j] *= multiplier\n",
    "        \n",
    "            for k in range(df.shape[1]):\n",
    "                x = 0\n",
    "                for j in range(df.shape[0]):\n",
    "                    x += a[j][k]*w[j]\n",
    "                ws[k] = x\n",
    "        \n",
    "            w1.write('weights'+str(i)+str(w)+'\\n')\n",
    "            w2.write(\"weighted sum\"+str(i+1)+str(ws)+'\\n')\n",
    "\n",
    "        delta = sum((abs(ws-ipf))/ipf)\n",
    "        if(abs(delta_prev-delta) < .0001):\n",
    "            break\n",
    "        t+=1\n",
    "\n",
    "\n"
   ]
  },
  {
   "cell_type": "code",
   "execution_count": 2,
   "metadata": {},
   "outputs": [
    {
     "data": {
      "text/plain": [
       "3292"
      ]
     },
     "execution_count": 2,
     "metadata": {},
     "output_type": "execute_result"
    }
   ],
   "source": [
    "f1=open('person_constrains.txt','r')\n",
    "f1=f1.read().split()\n",
    "person=list(f1)\n",
    "f1=open('hhold_constrains.txt','r')\n",
    "f1=f1.read().split()\n",
    "hhold=list(f1)\n",
    "ipf=np.array(hhold+person)\n",
    "# x = ipu('binary_matrix.csv', ipf)\n",
    "len(ipf)"
   ]
  },
  {
   "cell_type": "code",
   "execution_count": 3,
   "metadata": {},
   "outputs": [
    {
     "name": "stderr",
     "output_type": "stream",
     "text": [
      "C:\\Users\\abubabu\\AppData\\Local\\Temp\\ipykernel_40068\\2858024573.py:8: DtypeWarning: Columns (0) have mixed types. Specify dtype option on import or set low_memory=False.\n",
      "  df = pd.read_csv(datafile)\n"
     ]
    },
    {
     "name": "stdout",
     "output_type": "stream",
     "text": [
      "weighted sums =  [  0.   0.   0. ...  25.   0. 740.]\n"
     ]
    }
   ],
   "source": [
    "import numpy as np\n",
    "import pandas as pd\n",
    "import matplotlib.pyplot as plt\n",
    "\n",
    "\n",
    "# def ipu(datafile, constrains):\n",
    "datafile='binary_matrix.csv'\n",
    "df = pd.read_csv(datafile)\n",
    "# ipf = constrains\n",
    "df.rename(columns={df.columns[0]: 'SERIALNO'}, inplace=True)\n",
    "e = np.finfo('float').eps\n",
    "for i in ipf:\n",
    "    if i == 0:\n",
    "        i = e\n",
    "# w = np.array(df['weights'], dtype=np.float32)\n",
    "w=np.ones(len(df))\n",
    "df = df.drop(['SERIALNO'], axis=1)\n",
    "# df = df.drop(['weights'], axis=1)\n",
    "ws = np.zeros(len(ipf))\n",
    "i = 0\n",
    "\n",
    "for col  in df.columns:\n",
    "    x = 0\n",
    "    for j in range(len(df)) :\n",
    "        # print(w[j], df[col][j])\n",
    "        x += w[j]*df[col][j]\n",
    "    ws[i] = x\n",
    "    i += 1\n",
    "print('weighted sums = ', ws)\n",
    "\n",
    "\n"
   ]
  },
  {
   "cell_type": "code",
   "execution_count": 4,
   "metadata": {},
   "outputs": [],
   "source": [
    "\n",
    "\n",
    "# len(ws),len(ipf),len(df)\n",
    "\n",
    "ws.shape != ipf.shape\n",
    "ws1=ws.copy()\n",
    "ipf1=ipf.copy()"
   ]
  },
  {
   "cell_type": "code",
   "execution_count": 5,
   "metadata": {},
   "outputs": [],
   "source": [
    "# def print_unique(arr):\n",
    "#     # Get unique dtypes and their counts\n",
    "#     unique_dtypes, dtype_counts = np.unique(arr, return_counts=True)\n",
    "\n",
    "#     # Print the unique dtypes and their counts\n",
    "#     for dtype, count in zip(unique_dtypes, dtype_counts):\n",
    "#         print(f\"Dtype: {dtype}, Count: {count}\")\n",
    "# print_unique(ipf)\n",
    "# print_unique(ws)\n",
    "ipf=ipf.astype(np.float32)"
   ]
  },
  {
   "cell_type": "code",
   "execution_count": 6,
   "metadata": {},
   "outputs": [
    {
     "name": "stdout",
     "output_type": "stream",
     "text": [
      "162119299.5325384\n"
     ]
    }
   ],
   "source": [
    "ws = np.where(ws is None, 0, ws)\n",
    "ipf = np.where(ipf is None, 0, ipf)\n",
    "abs_diff = np.abs(ws - ipf)\n",
    "# delta = np.sum(np.abs(ws - ipf) / ipf) # 0 values \n",
    "delta = np.sum(np.abs(ws - ipf))\n",
    "# delta = sum((abs(ws-ipf))/ipf)\n",
    "print(delta)"
   ]
  },
  {
   "cell_type": "code",
   "execution_count": 7,
   "metadata": {},
   "outputs": [
    {
     "data": {
      "text/plain": [
       "3292"
      ]
     },
     "execution_count": 7,
     "metadata": {},
     "output_type": "execute_result"
    }
   ],
   "source": [
    "df.shape[1]"
   ]
  },
  {
   "cell_type": "code",
   "execution_count": 8,
   "metadata": {},
   "outputs": [
    {
     "name": "stderr",
     "output_type": "stream",
     "text": [
      "C:\\Users\\abubabu\\AppData\\Local\\Temp\\ipykernel_40068\\2132476098.py:1: RuntimeWarning: invalid value encountered in true_divide\n",
      "  ws[1]/ws\n"
     ]
    },
    {
     "data": {
      "text/plain": [
       "array([nan, nan, nan, ...,  0., nan,  0.])"
      ]
     },
     "execution_count": 8,
     "metadata": {},
     "output_type": "execute_result"
    }
   ],
   "source": [
    "ws[1]/ws"
   ]
  },
  {
   "cell_type": "code",
   "execution_count": 10,
   "metadata": {},
   "outputs": [
    {
     "name": "stdout",
     "output_type": "stream",
     "text": [
      "[[0. 0. 0. ... 0. 0. 0.]\n",
      " [0. 0. 0. ... 0. 0. 0.]\n",
      " [0. 0. 0. ... 0. 0. 0.]\n",
      " ...\n",
      " [0. 0. 0. ... 0. 0. 0.]\n",
      " [0. 0. 0. ... 0. 0. 0.]\n",
      " [0. 0. 0. ... 0. 0. 0.]]\n",
      "<class 'numpy.float32'>\n"
     ]
    },
    {
     "name": "stderr",
     "output_type": "stream",
     "text": [
      "C:\\Users\\abubabu\\AppData\\Local\\Temp\\ipykernel_33500\\1526317413.py:22: RuntimeWarning: invalid value encountered in double_scalars\n",
      "  multiplier = ws[i]/pws\n"
     ]
    }
   ],
   "source": [
    "a = df.to_numpy(dtype=np.float32)\n",
    "# print(a.shape)\n",
    "# print(df.shape)\n",
    "print(a)\n",
    "print(type(a[1][1]))\n",
    "\n",
    "w1 = open(\"ipu-weights.txt\", \"w\")\n",
    "w2 = open(\"ipu-weighted_sums.txt\", \"w\")\n",
    "\n",
    "t=1\n",
    "\n",
    "for t in range(500):\n",
    "    # print(t)\n",
    "    delta_prev = delta\n",
    "\n",
    "    w1.write('iteration'+str(t)+'\\n')\n",
    "    w2.write('iteration'+str(t)+'\\n')\n",
    "\n",
    "    for i in range(df.shape[1]):\n",
    "        pws = ws[i]\n",
    "        ws[i] = ipf[i]\n",
    "        multiplier = ws[i]/pws\n",
    "        # print(multiplier)\n",
    "    \n",
    "        for j in range(df.shape[0]):\n",
    "            if(a[j][i] == 0):\n",
    "                continue\n",
    "            w[j] *= multiplier\n",
    "    \n",
    "        for k in range(df.shape[1]):\n",
    "            x = 0\n",
    "            for j in range(df.shape[0]):\n",
    "                x += a[j][k]*w[j]\n",
    "            ws[k] = x\n",
    "    \n",
    "        w1.write('weights'+str(i)+str(w)+'\\n')\n",
    "        w2.write(\"weighted sum\"+str(i+1)+str(ws)+'\\n')\n",
    "\n",
    "    delta = sum((abs(ws-ipf)))\n",
    "    if(abs(delta_prev-delta) < 100):\n",
    "        break\n",
    "    t+=1\n",
    "    print('iteration ->',t,';','delta ->',delta)\n"
   ]
  },
  {
   "cell_type": "code",
   "execution_count": null,
   "metadata": {},
   "outputs": [
    {
     "name": "stderr",
     "output_type": "stream",
     "text": [
      "C:\\Users\\abubabu\\AppData\\Local\\Temp\\ipykernel_25344\\2025125891.py:1: DtypeWarning: Columns (0) have mixed types. Specify dtype option on import or set low_memory=False.\n",
      "  xx=pd.read_csv('binary_matrix.csv')\n"
     ]
    },
    {
     "name": "stdout",
     "output_type": "stream",
     "text": [
      "object\n"
     ]
    }
   ],
   "source": [
    "xx=pd.read_csv('binary_matrix.csv')\n",
    "# print(xx.columns)\n",
    "xx.rename(columns={xx.columns[0]: 'SERIALNO'}, inplace=True)\n",
    "for idx, row in xx.iterrows():\n",
    "    if row['SERIALNO']=='2017001221812':\n",
    "        print(row.dtypes)\n",
    "        break\n"
   ]
  }
 ],
 "metadata": {
  "kernelspec": {
   "display_name": "Python 3",
   "language": "python",
   "name": "python3"
  },
  "language_info": {
   "codemirror_mode": {
    "name": "ipython",
    "version": 3
   },
   "file_extension": ".py",
   "mimetype": "text/x-python",
   "name": "python",
   "nbconvert_exporter": "python",
   "pygments_lexer": "ipython3",
   "version": "3.10.11"
  },
  "orig_nbformat": 4
 },
 "nbformat": 4,
 "nbformat_minor": 2
}
