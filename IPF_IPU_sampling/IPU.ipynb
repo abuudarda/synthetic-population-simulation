{
 "cells": [
  {
   "cell_type": "code",
   "execution_count": 29,
   "metadata": {},
   "outputs": [],
   "source": [
    "import numpy as np\n",
    "import pandas as pd\n",
    "import matplotlib.pyplot as plt\n",
    "\n",
    "\n",
    "def ipu(datafile, constrains):\n",
    "    df = pd.read_csv(datafile)\n",
    "    ipf = constrains\n",
    "    df.rename(columns={df.columns[0]: 'SERIALNO'}, inplace=True)\n",
    "    e = np.finfo('float').eps\n",
    "    for i in ipf:\n",
    "        if i == 0:\n",
    "            i = e\n",
    "    # w = np.array(df['weights'], dtype=np.float32)\n",
    "    w=np.ones(len(df))\n",
    "    df = df.drop(['SERIALNO'], axis=1)\n",
    "    # df = df.drop(['weights'], axis=1)\n",
    "    ws = np.zeros(len(df))\n",
    "    i = 0\n",
    "\n",
    "    for col  in df.columns:\n",
    "        x = 0\n",
    "        for j in range(len(df)) :\n",
    "            # print(w[j], df[col][j])\n",
    "            x += w[j]*df[col][j]\n",
    "        ws[i] = x\n",
    "        i += 1\n",
    "    print('weighted sums = ', ws)\n",
    "\n",
    "    delta = sum((abs(ws-ipf))/ipf)\n",
    "    print(delta)\n",
    "\n",
    "    a = df.to_numpy(dtype=np.float32)\n",
    "    # print(a.shape)\n",
    "    # print(df.shape)\n",
    "    print(a)\n",
    "    print(type(a[1][1]))\n",
    "\n",
    "    w1 = open(\"ipu-weights.txt\", \"w\")\n",
    "    w2 = open(\"ipu-weighted_sums.txt\", \"w\")\n",
    "    \n",
    "    t=1\n",
    "\n",
    "    while(True):\n",
    "\n",
    "        delta_prev = delta\n",
    "\n",
    "        w1.write('iteration'+str(t)+'\\n')\n",
    "        w2.write('iteration'+str(t)+'\\n')\n",
    "\n",
    "        for i in range(df.shape[1]):\n",
    "            pws = ws[i]\n",
    "            ws[i] = ipf[i]\n",
    "            multiplier = ws[i]/pws\n",
    "            # print(multiplier)\n",
    "        \n",
    "            for j in range(df.shape[0]):\n",
    "                if(a[j][i] == 0):\n",
    "                    continue\n",
    "                w[j] *= multiplier\n",
    "        \n",
    "            for k in range(df.shape[1]):\n",
    "                x = 0\n",
    "                for j in range(df.shape[0]):\n",
    "                    x += a[j][k]*w[j]\n",
    "                ws[k] = x\n",
    "        \n",
    "            w1.write('weights'+str(i)+str(w)+'\\n')\n",
    "            w2.write(\"weighted sum\"+str(i+1)+str(ws)+'\\n')\n",
    "\n",
    "        delta = sum((abs(ws-ipf))/ipf)\n",
    "        if(abs(delta_prev-delta) < .0001):\n",
    "            break\n",
    "        t+=1\n",
    "\n",
    "\n"
   ]
  },
  {
   "cell_type": "code",
   "execution_count": 30,
   "metadata": {},
   "outputs": [
    {
     "name": "stderr",
     "output_type": "stream",
     "text": [
      "C:\\Users\\abubabu\\AppData\\Local\\Temp\\ipykernel_25344\\2881383597.py:7: DtypeWarning: Columns (0) have mixed types. Specify dtype option on import or set low_memory=False.\n",
      "  df = pd.read_csv(datafile)\n"
     ]
    },
    {
     "name": "stdout",
     "output_type": "stream",
     "text": [
      "weighted sums =  [ 2. 15.  4. ...  0.  0.  0.]\n"
     ]
    },
    {
     "ename": "UFuncTypeError",
     "evalue": "ufunc 'subtract' did not contain a loop with signature matching types (dtype('float64'), dtype('<U22')) -> None",
     "output_type": "error",
     "traceback": [
      "\u001b[1;31m---------------------------------------------------------------------------\u001b[0m",
      "\u001b[1;31mUFuncTypeError\u001b[0m                            Traceback (most recent call last)",
      "\u001b[1;32mc:\\Users\\abubabu\\Documents\\GitHub\\synthetic-population-simulation\\IPF_IPU_sampling\\IPU.ipynb Cell 2\u001b[0m in \u001b[0;36m<cell line: 8>\u001b[1;34m()\u001b[0m\n\u001b[0;32m      <a href='vscode-notebook-cell:/c%3A/Users/abubabu/Documents/GitHub/synthetic-population-simulation/IPF_IPU_sampling/IPU.ipynb#W1sZmlsZQ%3D%3D?line=5'>6</a>\u001b[0m hhold\u001b[39m=\u001b[39m\u001b[39mlist\u001b[39m(f1)\n\u001b[0;32m      <a href='vscode-notebook-cell:/c%3A/Users/abubabu/Documents/GitHub/synthetic-population-simulation/IPF_IPU_sampling/IPU.ipynb#W1sZmlsZQ%3D%3D?line=6'>7</a>\u001b[0m ipf\u001b[39m=\u001b[39mnp\u001b[39m.\u001b[39marray(hhold\u001b[39m+\u001b[39mperson)\n\u001b[1;32m----> <a href='vscode-notebook-cell:/c%3A/Users/abubabu/Documents/GitHub/synthetic-population-simulation/IPF_IPU_sampling/IPU.ipynb#W1sZmlsZQ%3D%3D?line=7'>8</a>\u001b[0m x \u001b[39m=\u001b[39m ipu(\u001b[39m'\u001b[39;49m\u001b[39mbinary_matrix.csv\u001b[39;49m\u001b[39m'\u001b[39;49m, ipf)\n\u001b[0;32m      <a href='vscode-notebook-cell:/c%3A/Users/abubabu/Documents/GitHub/synthetic-population-simulation/IPF_IPU_sampling/IPU.ipynb#W1sZmlsZQ%3D%3D?line=8'>9</a>\u001b[0m ipf\n",
      "\u001b[1;32mc:\\Users\\abubabu\\Documents\\GitHub\\synthetic-population-simulation\\IPF_IPU_sampling\\IPU.ipynb Cell 2\u001b[0m in \u001b[0;36mipu\u001b[1;34m(datafile, constrains)\u001b[0m\n\u001b[0;32m     <a href='vscode-notebook-cell:/c%3A/Users/abubabu/Documents/GitHub/synthetic-population-simulation/IPF_IPU_sampling/IPU.ipynb#W1sZmlsZQ%3D%3D?line=26'>27</a>\u001b[0m     i \u001b[39m+\u001b[39m\u001b[39m=\u001b[39m \u001b[39m1\u001b[39m\n\u001b[0;32m     <a href='vscode-notebook-cell:/c%3A/Users/abubabu/Documents/GitHub/synthetic-population-simulation/IPF_IPU_sampling/IPU.ipynb#W1sZmlsZQ%3D%3D?line=27'>28</a>\u001b[0m \u001b[39mprint\u001b[39m(\u001b[39m'\u001b[39m\u001b[39mweighted sums = \u001b[39m\u001b[39m'\u001b[39m, ws)\n\u001b[1;32m---> <a href='vscode-notebook-cell:/c%3A/Users/abubabu/Documents/GitHub/synthetic-population-simulation/IPF_IPU_sampling/IPU.ipynb#W1sZmlsZQ%3D%3D?line=29'>30</a>\u001b[0m delta \u001b[39m=\u001b[39m \u001b[39msum\u001b[39m((\u001b[39mabs\u001b[39m(ws\u001b[39m-\u001b[39;49mipf))\u001b[39m/\u001b[39mipf)\n\u001b[0;32m     <a href='vscode-notebook-cell:/c%3A/Users/abubabu/Documents/GitHub/synthetic-population-simulation/IPF_IPU_sampling/IPU.ipynb#W1sZmlsZQ%3D%3D?line=30'>31</a>\u001b[0m \u001b[39mprint\u001b[39m(delta)\n\u001b[0;32m     <a href='vscode-notebook-cell:/c%3A/Users/abubabu/Documents/GitHub/synthetic-population-simulation/IPF_IPU_sampling/IPU.ipynb#W1sZmlsZQ%3D%3D?line=32'>33</a>\u001b[0m a \u001b[39m=\u001b[39m df\u001b[39m.\u001b[39mto_numpy(dtype\u001b[39m=\u001b[39mnp\u001b[39m.\u001b[39mfloat32)\n",
      "\u001b[1;31mUFuncTypeError\u001b[0m: ufunc 'subtract' did not contain a loop with signature matching types (dtype('float64'), dtype('<U22')) -> None"
     ]
    }
   ],
   "source": [
    "f1=open('person_constrains.txt','r')\n",
    "f1=f1.read().split()\n",
    "person=list(f1)\n",
    "f1=open('hhold_constrains.txt','r')\n",
    "f1=f1.read().split()\n",
    "hhold=list(f1)\n",
    "ipf=np.array(hhold+person)\n",
    "x = ipu('binary_matrix.csv', ipf)\n",
    "ipf"
   ]
  },
  {
   "cell_type": "code",
   "execution_count": null,
   "metadata": {},
   "outputs": [
    {
     "name": "stderr",
     "output_type": "stream",
     "text": [
      "C:\\Users\\abubabu\\AppData\\Local\\Temp\\ipykernel_25344\\2025125891.py:1: DtypeWarning: Columns (0) have mixed types. Specify dtype option on import or set low_memory=False.\n",
      "  xx=pd.read_csv('binary_matrix.csv')\n"
     ]
    },
    {
     "name": "stdout",
     "output_type": "stream",
     "text": [
      "object\n"
     ]
    }
   ],
   "source": [
    "xx=pd.read_csv('binary_matrix.csv')\n",
    "# print(xx.columns)\n",
    "xx.rename(columns={xx.columns[0]: 'SERIALNO'}, inplace=True)\n",
    "for idx, row in xx.iterrows():\n",
    "    if row['SERIALNO']=='2017001221812':\n",
    "        print(row.dtypes)\n",
    "        break\n"
   ]
  }
 ],
 "metadata": {
  "kernelspec": {
   "display_name": "Python 3",
   "language": "python",
   "name": "python3"
  },
  "language_info": {
   "codemirror_mode": {
    "name": "ipython",
    "version": 3
   },
   "file_extension": ".py",
   "mimetype": "text/x-python",
   "name": "python",
   "nbconvert_exporter": "python",
   "pygments_lexer": "ipython3",
   "version": "3.10.11"
  },
  "orig_nbformat": 4
 },
 "nbformat": 4,
 "nbformat_minor": 2
}
