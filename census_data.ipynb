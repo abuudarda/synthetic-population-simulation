{
 "cells": [
  {
   "cell_type": "code",
   "execution_count": 4,
   "metadata": {},
   "outputs": [],
   "source": [
    "import pandas as pd;\n",
    "import matplotlib.pyplot as plt;"
   ]
  },
  {
   "cell_type": "code",
   "execution_count": 5,
   "metadata": {},
   "outputs": [],
   "source": [
    "def parse(data, metadata):\n",
    "    metadata = pd.read_csv(metadata)\n",
    "    data = pd.read_csv(data, skiprows=[1])\n",
    "    data = data.drop(columns=[\"GEO_ID\", \"NAME\"])\n",
    "    data_ref = metadata[metadata['id'].str.contains('^Margin of Error') == False] #without margin of error\n",
    "    data_ref = data_ref[data_ref['id'].str.contains('^Percent!!') == False] #without percentage\n",
    "    return data_ref\n",
    "    "
   ]
  },
  {
   "cell_type": "code",
   "execution_count": 7,
   "metadata": {},
   "outputs": [],
   "source": [
    "df=parse(\"DP05.csv\",\"metadata.csv\")\n",
    "df.to_csv('DP05_cleaned.csv', index=False)"
   ]
  }
 ],
 "metadata": {
  "kernelspec": {
   "display_name": "Python 3",
   "language": "python",
   "name": "python3"
  },
  "language_info": {
   "codemirror_mode": {
    "name": "ipython",
    "version": 3
   },
   "file_extension": ".py",
   "mimetype": "text/x-python",
   "name": "python",
   "nbconvert_exporter": "python",
   "pygments_lexer": "ipython3",
   "version": "3.10.10"
  },
  "orig_nbformat": 4,
  "vscode": {
   "interpreter": {
    "hash": "8a8c870a75a2399a18da699afb8120ef3e062104a641580cdd043bc818847915"
   }
  }
 },
 "nbformat": 4,
 "nbformat_minor": 2
}
