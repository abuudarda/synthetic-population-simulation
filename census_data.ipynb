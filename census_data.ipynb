{
 "cells": [
  {
   "cell_type": "code",
   "execution_count": null,
   "metadata": {},
   "outputs": [],
   "source": [
    "import pandas as pd;\n",
    "import matplotlib.pyplot as plt;"
   ]
  },
  {
   "cell_type": "code",
   "execution_count": null,
   "metadata": {},
   "outputs": [],
   "source": [
    "def parse(data, metadata):\n",
    "    metadata = pd.read_csv(metadata)\n",
    "    data = pd.read_csv(data, skiprows=[1])\n",
    "    data = data.drop(columns=[\"GEO_ID\", \"NAME\"])\n",
    "    data_ref = metadata[metadata['id'].str.contains('^Margin of Error') == False] #without margin of error\n",
    "    data_ref = data_ref[data_ref['id'].str.contains('^Percent!!') == False] #without percentage\n",
    "    "
   ]
  }
 ],
 "metadata": {
  "kernelspec": {
   "display_name": "Python 3",
   "language": "python",
   "name": "python3"
  },
  "language_info": {
   "name": "python",
   "version": "3.10.10"
  },
  "orig_nbformat": 4,
  "vscode": {
   "interpreter": {
    "hash": "8a8c870a75a2399a18da699afb8120ef3e062104a641580cdd043bc818847915"
   }
  }
 },
 "nbformat": 4,
 "nbformat_minor": 2
}
