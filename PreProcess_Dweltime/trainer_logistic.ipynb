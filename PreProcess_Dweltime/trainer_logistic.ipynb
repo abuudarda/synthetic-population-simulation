{
 "cells": [
  {
   "cell_type": "code",
   "execution_count": 1,
   "metadata": {},
   "outputs": [],
   "source": [
    "# import pandas as pd\n",
    "# from sklearn.model_selection import train_test_split\n",
    "# from sklearn.ensemble import GradientBoostingClassifier\n",
    "# from sklearn.metrics import accuracy_score\n",
    "path = \"C:\\\\Users\\\\abubabu\\Documents\\\\GitHub\\\\synthetic-population-simulation\\\\PreProcess_Dweltime\\\\hour_data.csv\"\n",
    "\n",
    "# data=pd.read_csv(path)"
   ]
  },
  {
   "cell_type": "code",
   "execution_count": 4,
   "metadata": {},
   "outputs": [
    {
     "name": "stdout",
     "output_type": "stream",
     "text": [
      "Accuracy: 0.8947223935327192\n",
      "Confusion Matrix:\n",
      "[[3966435       0       0       0       0       0       0       0       0]\n",
      " [ 104302       0       0       0       0       0       0       0       0]\n",
      " [  39046       0       0       0       0       0       0       0       0]\n",
      " [  12704       0       0       0       0       0       0       0       0]\n",
      " [ 134786       0       0       0       0       0       0       0       0]\n",
      " [  53528       0       0       0       0       0       0       0       0]\n",
      " [  58931       0       0       0       0       0       0       0       0]\n",
      " [  47292       0       0       0       0       0       0       0       0]\n",
      " [  16122       0       0       0       0       0       0       0       0]]\n"
     ]
    }
   ],
   "source": [
    "\n",
    "import pandas as pd\n",
    "import pickle\n",
    "from sklearn.model_selection import train_test_split\n",
    "from sklearn.linear_model import LogisticRegression\n",
    "from sklearn.metrics import accuracy_score, confusion_matrix\n",
    "\n",
    "# Load your dataset into a pandas DataFrame (replace 'your_dataset.csv' with your actual file)\n",
    "data = pd.read_csv(path)\n",
    "\n",
    "# Drop the 'FROM' column and create the feature matrix X\n",
    "X = data.drop(columns=['FROM'])\n",
    "\n",
    "# Extract the 'TO' column as the target variable y\n",
    "y = data['TO']\n",
    "\n",
    "# Split the data into training and testing sets\n",
    "X_train, X_test, y_train, y_test = train_test_split(X, y, test_size=0.2, random_state=42)\n",
    "\n",
    "# Initialize the Logistic Regression model\n",
    "model = LogisticRegression()\n",
    "\n",
    "# Train the model\n",
    "model.fit(X_train, y_train)\n",
    "\n",
    "# Save the trained model using pickle\n",
    "with open('logistic_regression_model.pkl', 'wb') as model_file:\n",
    "    pickle.dump(model, model_file)\n",
    "\n",
    "# Load the model using pickle\n",
    "with open('logistic_regression_model.pkl', 'rb') as model_file:\n",
    "    loaded_model = pickle.load(model_file)\n",
    "\n",
    "# Make predictions using the loaded model\n",
    "predictions = loaded_model.predict(X_test)\n",
    "\n",
    "# Calculate accuracy and print confusion matrix\n",
    "accuracy = accuracy_score(y_test, predictions)\n",
    "conf_matrix = confusion_matrix(y_test, predictions)\n",
    "\n",
    "print(f\"Accuracy: {accuracy}\")\n",
    "print(\"Confusion Matrix:\")\n",
    "print(conf_matrix)\n",
    "\n",
    "\n",
    "\n"
   ]
  },
  {
   "cell_type": "code",
   "execution_count": 4,
   "metadata": {},
   "outputs": [
    {
     "data": {
      "text/plain": [
       "(22165728, 13)"
      ]
     },
     "execution_count": 4,
     "metadata": {},
     "output_type": "execute_result"
    }
   ],
   "source": [
    "import pandas as pd\n",
    "import pickle\n",
    "data = pd.read_csv(path)\n",
    "data.shape"
   ]
  }
 ],
 "metadata": {
  "kernelspec": {
   "display_name": "Python 3",
   "language": "python",
   "name": "python3"
  },
  "language_info": {
   "codemirror_mode": {
    "name": "ipython",
    "version": 3
   },
   "file_extension": ".py",
   "mimetype": "text/x-python",
   "name": "python",
   "nbconvert_exporter": "python",
   "pygments_lexer": "ipython3",
   "version": "3.11.4"
  },
  "orig_nbformat": 4
 },
 "nbformat": 4,
 "nbformat_minor": 2
}
