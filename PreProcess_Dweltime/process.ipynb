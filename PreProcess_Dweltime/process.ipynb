{
 "cells": [
  {
   "cell_type": "code",
   "execution_count": null,
   "metadata": {},
   "outputs": [],
   "source": [
    "import pandas as pd"
   ]
  },
  {
   "cell_type": "code",
   "execution_count": null,
   "metadata": {},
   "outputs": [],
   "source": [
    "trip_path = \"C:\\\\Users\\\\abubabu\\\\Documents\\\\GitHub\\\\synthetic-population-simulation\\\\NHTS Data Parser\\\\HH Data Parser\\\\trippub.csv\"\n",
    "pers_path = \"C:\\\\Users\\\\abubabu\\\\Documents\\\\GitHub\\\\synthetic-population-simulation\\\\NHTS Data Parser\\\\HH Data Parser\\\\trippub.csv\"\n",
    "\n",
    "tripcols=[]\n",
    "perscols=[]\n",
    "\n",
    "trip_data=pd.read_csv(trip_path,usecols=tripcols)\n",
    "pers_data=pd.read_csv(pers_path,usecols=perscols)"
   ]
  }
 ],
 "metadata": {
  "language_info": {
   "name": "python"
  },
  "orig_nbformat": 4
 },
 "nbformat": 4,
 "nbformat_minor": 2
}
