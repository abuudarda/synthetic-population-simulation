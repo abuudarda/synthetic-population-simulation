{
  "cells": [
    {
      "cell_type": "code",
      "execution_count": 5,
      "metadata": {
        "colab": {
          "base_uri": "https://localhost:8080/"
        },
        "id": "mo_VQmO1rIkd",
        "outputId": "aa55ae07-c0d1-4bbd-b521-78e432a4bcd2"
      },
      "outputs": [],
      "source": [
        "# pip install ipfn\n"
      ]
    },
    {
      "cell_type": "code",
      "execution_count": 6,
      "metadata": {
        "colab": {
          "base_uri": "https://localhost:8080/"
        },
        "id": "TjK-dQrGtVhB",
        "outputId": "94645826-91bf-426a-9933-0dc5107b485b"
      },
      "outputs": [],
      "source": [
        "# import pandas as pd\n",
        "# from ipfn import ipfn\n",
        "# import numpy as np\n",
        "# #a=pd.read_csv(\"/content/2D Ipf - Untitled spreadsheet - Sheet1.csv\")\n",
        "# n=[[[476,410],[472,400],[407,483],[413,413]],[[410,400],[465,472],[460,488],[424,491]]]\n",
        "\n",
        "\n",
        "# xipp=np.array([4200,3446])\n",
        "# xpjp=np.array([2005,2000,1958,2043])\n",
        "# xppk=np.array([4250,4500])\n",
        "# xijp=np.array([[975,981,974,975],[946,952,947,946]])\n",
        "# xpjk=np.array([[1200,1183],[1000,950],[900,1050],[950,1109]])\n",
        "\n",
        "# n=np.array(n)\n",
        "# aggregates=[xipp,xpjp,xppk,xijp,xpjk]\n",
        "# dimensions=[[0],[1],[2],[0,1],[1,2]]\n",
        "# IPF=ipfn.ipfn(n,aggregates,dimensions,convergence_rate=1e-6)\n",
        "# n=IPF.iteration()\n",
        "# print(n)\n"
      ]
    },
    {
      "cell_type": "code",
      "execution_count": 7,
      "metadata": {},
      "outputs": [
        {
          "data": {
            "text/html": [
              "<div>\n",
              "<style scoped>\n",
              "    .dataframe tbody tr th:only-of-type {\n",
              "        vertical-align: middle;\n",
              "    }\n",
              "\n",
              "    .dataframe tbody tr th {\n",
              "        vertical-align: top;\n",
              "    }\n",
              "\n",
              "    .dataframe thead th {\n",
              "        text-align: right;\n",
              "    }\n",
              "</style>\n",
              "<table border=\"1\" class=\"dataframe\">\n",
              "  <thead>\n",
              "    <tr style=\"text-align: right;\">\n",
              "      <th></th>\n",
              "      <th>race</th>\n",
              "      <th>age</th>\n",
              "      <th>gender</th>\n",
              "      <th>height</th>\n",
              "    </tr>\n",
              "  </thead>\n",
              "  <tbody>\n",
              "    <tr>\n",
              "      <th>0</th>\n",
              "      <td>white</td>\n",
              "      <td>minor</td>\n",
              "      <td>male</td>\n",
              "      <td>5.445536</td>\n",
              "    </tr>\n",
              "    <tr>\n",
              "      <th>1</th>\n",
              "      <td>white</td>\n",
              "      <td>minor</td>\n",
              "      <td>male</td>\n",
              "      <td>6.174308</td>\n",
              "    </tr>\n",
              "    <tr>\n",
              "      <th>2</th>\n",
              "      <td>white</td>\n",
              "      <td>minor</td>\n",
              "      <td>male</td>\n",
              "      <td>5.846647</td>\n",
              "    </tr>\n",
              "    <tr>\n",
              "      <th>3</th>\n",
              "      <td>white</td>\n",
              "      <td>minor</td>\n",
              "      <td>male</td>\n",
              "      <td>4.199654</td>\n",
              "    </tr>\n",
              "    <tr>\n",
              "      <th>4</th>\n",
              "      <td>white</td>\n",
              "      <td>minor</td>\n",
              "      <td>male</td>\n",
              "      <td>7.018512</td>\n",
              "    </tr>\n",
              "  </tbody>\n",
              "</table>\n",
              "</div>"
            ],
            "text/plain": [
              "    race    age gender    height\n",
              "0  white  minor   male  5.445536\n",
              "1  white  minor   male  6.174308\n",
              "2  white  minor   male  5.846647\n",
              "3  white  minor   male  4.199654\n",
              "4  white  minor   male  7.018512"
            ]
          },
          "execution_count": 7,
          "metadata": {},
          "output_type": "execute_result"
        }
      ],
      "source": [
        "import pandas as pd\n",
        "import numpy as np\n",
        "import random\n",
        "import itertools\n",
        "\n",
        "'''\n",
        "code for testing \n",
        "\n",
        "NOT IMPORTANT!\n",
        "\n",
        "'''\n",
        "np.random.seed(37)\n",
        "random.seed(37)\n",
        "\n",
        "height = [\n",
        "    np.random.normal(5.5, 1.0, 100),\n",
        "    np.random.normal(5.3, 1.0, 200),\n",
        "    np.random.normal(5.9, 1.0, 300),\n",
        "    np.random.normal(5.7, 1.0, 200),\n",
        "    np.random.normal(5.3, 1.0, 400),\n",
        "    np.random.normal(5.2, 1.0, 500),\n",
        "    np.random.normal(5.8, 1.0, 300),\n",
        "    np.random.normal(5.5, 1.0, 200)\n",
        "]\n",
        "\n",
        "#height = normal distribution **(HAVE TO BE FETCHED FROM PUMS) \n",
        "\n",
        "demographic = [\n",
        "    ['white', 'minor', 'male'],\n",
        "    ['white', 'minor', 'female'],\n",
        "    ['white', 'adult', 'male'],\n",
        "    ['white', 'adult', 'female'],\n",
        "    ['other', 'minor', 'male'],\n",
        "    ['other', 'minor', 'female'],\n",
        "    ['other', 'adult', 'male'],\n",
        "    ['other', 'adult', 'female']\n",
        "]\n",
        "\n",
        "data = [[{'race': d[0], 'age': d[1], 'gender': d[2], 'height': h} for h in s]\n",
        "        for d, s in zip(demographic, height)]\n",
        "data = list(itertools.chain(*data))\n",
        "\n",
        "df = pd.DataFrame(data)\n",
        "df.head()"
      ]
    },
    {
      "cell_type": "code",
      "execution_count": 8,
      "metadata": {},
      "outputs": [
        {
          "data": {
            "text/plain": [
              "[['white', 'child', 'male'],\n",
              " ['white', 'child', 'female'],\n",
              " ['white', 'tenager', 'male'],\n",
              " ['white', 'tenager', 'female'],\n",
              " ['white', 'young-adult', 'male'],\n",
              " ['white', 'young-adult', 'female'],\n",
              " ['white', 'adult', 'male'],\n",
              " ['white', 'adult', 'female'],\n",
              " ['white', 'senior', 'male'],\n",
              " ['white', 'senior', 'female'],\n",
              " ['black', 'child', 'male'],\n",
              " ['black', 'child', 'female'],\n",
              " ['black', 'tenager', 'male'],\n",
              " ['black', 'tenager', 'female'],\n",
              " ['black', 'young-adult', 'male'],\n",
              " ['black', 'young-adult', 'female'],\n",
              " ['black', 'adult', 'male'],\n",
              " ['black', 'adult', 'female'],\n",
              " ['black', 'senior', 'male'],\n",
              " ['black', 'senior', 'female'],\n",
              " ['native', 'child', 'male'],\n",
              " ['native', 'child', 'female'],\n",
              " ['native', 'tenager', 'male'],\n",
              " ['native', 'tenager', 'female'],\n",
              " ['native', 'young-adult', 'male'],\n",
              " ['native', 'young-adult', 'female'],\n",
              " ['native', 'adult', 'male'],\n",
              " ['native', 'adult', 'female'],\n",
              " ['native', 'senior', 'male'],\n",
              " ['native', 'senior', 'female'],\n",
              " ['asian', 'child', 'male'],\n",
              " ['asian', 'child', 'female'],\n",
              " ['asian', 'tenager', 'male'],\n",
              " ['asian', 'tenager', 'female'],\n",
              " ['asian', 'young-adult', 'male'],\n",
              " ['asian', 'young-adult', 'female'],\n",
              " ['asian', 'adult', 'male'],\n",
              " ['asian', 'adult', 'female'],\n",
              " ['asian', 'senior', 'male'],\n",
              " ['asian', 'senior', 'female'],\n",
              " ['pacific-islander', 'child', 'male'],\n",
              " ['pacific-islander', 'child', 'female'],\n",
              " ['pacific-islander', 'tenager', 'male'],\n",
              " ['pacific-islander', 'tenager', 'female'],\n",
              " ['pacific-islander', 'young-adult', 'male'],\n",
              " ['pacific-islander', 'young-adult', 'female'],\n",
              " ['pacific-islander', 'adult', 'male'],\n",
              " ['pacific-islander', 'adult', 'female'],\n",
              " ['pacific-islander', 'senior', 'male'],\n",
              " ['pacific-islander', 'senior', 'female'],\n",
              " ['other', 'child', 'male'],\n",
              " ['other', 'child', 'female'],\n",
              " ['other', 'tenager', 'male'],\n",
              " ['other', 'tenager', 'female'],\n",
              " ['other', 'young-adult', 'male'],\n",
              " ['other', 'young-adult', 'female'],\n",
              " ['other', 'adult', 'male'],\n",
              " ['other', 'adult', 'female'],\n",
              " ['other', 'senior', 'male'],\n",
              " ['other', 'senior', 'female']]"
            ]
          },
          "execution_count": 8,
          "metadata": {},
          "output_type": "execute_result"
        }
      ],
      "source": [
        "races=['white','black','native','asian','pacific-islander','other']\n",
        "genders=['male','female']\n",
        "ages=['child','tenager','young-adult','adult','senior']\n",
        "demographic = [[i, j, k] for i in races for j in ages for k in genders]\n",
        "demographic\n",
        "# demographic ready. \n",
        "\n",
        "# data = pums"
      ]
    },
    {
      "cell_type": "code",
      "execution_count": 9,
      "metadata": {},
      "outputs": [
        {
          "data": {
            "text/html": [
              "<div>\n",
              "<style scoped>\n",
              "    .dataframe tbody tr th:only-of-type {\n",
              "        vertical-align: middle;\n",
              "    }\n",
              "\n",
              "    .dataframe tbody tr th {\n",
              "        vertical-align: top;\n",
              "    }\n",
              "\n",
              "    .dataframe thead th {\n",
              "        text-align: right;\n",
              "    }\n",
              "</style>\n",
              "<table border=\"1\" class=\"dataframe\">\n",
              "  <thead>\n",
              "    <tr style=\"text-align: right;\">\n",
              "      <th></th>\n",
              "      <th>race</th>\n",
              "      <th>age</th>\n",
              "      <th>gender</th>\n",
              "    </tr>\n",
              "  </thead>\n",
              "  <tbody>\n",
              "    <tr>\n",
              "      <th>0</th>\n",
              "      <td>white</td>\n",
              "      <td>adult</td>\n",
              "      <td>male</td>\n",
              "    </tr>\n",
              "    <tr>\n",
              "      <th>1</th>\n",
              "      <td>white</td>\n",
              "      <td>adult</td>\n",
              "      <td>female</td>\n",
              "    </tr>\n",
              "    <tr>\n",
              "      <th>2</th>\n",
              "      <td>white</td>\n",
              "      <td>adult</td>\n",
              "      <td>female</td>\n",
              "    </tr>\n",
              "    <tr>\n",
              "      <th>3</th>\n",
              "      <td>white</td>\n",
              "      <td>adult</td>\n",
              "      <td>male</td>\n",
              "    </tr>\n",
              "    <tr>\n",
              "      <th>4</th>\n",
              "      <td>white</td>\n",
              "      <td>child</td>\n",
              "      <td>female</td>\n",
              "    </tr>\n",
              "  </tbody>\n",
              "</table>\n",
              "</div>"
            ],
            "text/plain": [
              "    race    age  gender\n",
              "0  white  adult    male\n",
              "1  white  adult  female\n",
              "2  white  adult  female\n",
              "3  white  adult    male\n",
              "4  white  child  female"
            ]
          },
          "execution_count": 9,
          "metadata": {},
          "output_type": "execute_result"
        }
      ],
      "source": [
        "col_list = [\"race\", \"age\", \"sex\"]\n",
        "df = pd.read_csv(\"CA-data\\\\pums\\\\temp_pums.csv\", usecols=col_list)\n",
        "df = df.rename(columns={'sex': 'gender'})\n",
        "df=df[[\"race\", \"age\", \"gender\"]]\n",
        "df.head()"
      ]
    },
    {
      "cell_type": "code",
      "execution_count": null,
      "metadata": {},
      "outputs": [],
      "source": []
    },
    {
      "cell_type": "code",
      "execution_count": 10,
      "metadata": {},
      "outputs": [
        {
          "data": {
            "text/plain": [
              "asian               0.155002\n",
              "black               0.049501\n",
              "native              0.009594\n",
              "other               0.167348\n",
              "pacific-islander    0.003324\n",
              "white               0.615231\n",
              "Name: race, dtype: float64"
            ]
          },
          "execution_count": 10,
          "metadata": {},
          "output_type": "execute_result"
        }
      ],
      "source": [
        "df.race.value_counts().sort_index() / df.shape[0]"
      ]
    },
    {
      "cell_type": "code",
      "execution_count": 11,
      "metadata": {},
      "outputs": [
        {
          "data": {
            "text/plain": [
              "adult          0.449458\n",
              "child          0.061857\n",
              "senior         0.237363\n",
              "tenager        0.160665\n",
              "young-adult    0.090657\n",
              "Name: age, dtype: float64"
            ]
          },
          "execution_count": 11,
          "metadata": {},
          "output_type": "execute_result"
        }
      ],
      "source": [
        "df.age.value_counts().sort_index() / df.shape[0]"
      ]
    },
    {
      "cell_type": "code",
      "execution_count": 12,
      "metadata": {},
      "outputs": [
        {
          "data": {
            "text/plain": [
              "female    0.506828\n",
              "male      0.493172\n",
              "Name: gender, dtype: float64"
            ]
          },
          "execution_count": 12,
          "metadata": {},
          "output_type": "execute_result"
        }
      ],
      "source": [
        "df.gender.value_counts().sort_index() / df.shape[0]"
      ]
    },
    {
      "cell_type": "code",
      "execution_count": 13,
      "metadata": {},
      "outputs": [],
      "source": [
        "def get_target_marginals(d):\n",
        "    factors = list(d.keys())\n",
        "    targets = [sorted([(k2, v2) for k2, v2 in v.items()]) for k, v in d.items()]\n",
        "    targets = np.array([[v for _, v in item] for item in targets])\n",
        "    return factors, targets\n",
        "\n",
        "def get_table(df, targets):\n",
        "    factors, target_marginals = get_target_marginals(targets)\n",
        "\n",
        "    cross_tab = pd.crosstab(df[factors[0]], [df[c] for c in factors[1:]])\n",
        "    shape = tuple([df[c].unique().shape[0] for c in factors])\n",
        "    table = cross_tab.values.reshape(shape)\n",
        "\n",
        "    return factors, target_marginals, table\n",
        "\n",
        "\n"
      ]
    },
    {
      "attachments": {},
      "cell_type": "markdown",
      "metadata": {},
      "source": [
        "Loading data from census"
      ]
    },
    {
      "cell_type": "code",
      "execution_count": 14,
      "metadata": {},
      "outputs": [
        {
          "data": {
            "text/html": [
              "<div>\n",
              "<style scoped>\n",
              "    .dataframe tbody tr th:only-of-type {\n",
              "        vertical-align: middle;\n",
              "    }\n",
              "\n",
              "    .dataframe tbody tr th {\n",
              "        vertical-align: top;\n",
              "    }\n",
              "\n",
              "    .dataframe thead th {\n",
              "        text-align: right;\n",
              "    }\n",
              "</style>\n",
              "<table border=\"1\" class=\"dataframe\">\n",
              "  <thead>\n",
              "    <tr style=\"text-align: right;\">\n",
              "      <th></th>\n",
              "      <th>topic</th>\n",
              "      <th>category</th>\n",
              "      <th>sub-category</th>\n",
              "      <th>id</th>\n",
              "      <th>value</th>\n",
              "    </tr>\n",
              "  </thead>\n",
              "  <tbody>\n",
              "    <tr>\n",
              "      <th>0</th>\n",
              "      <td>CITIZEN, VOTING AGE POPULATION</td>\n",
              "      <td>Citizen, 18 and over population</td>\n",
              "      <td>Female</td>\n",
              "      <td>DP05_0089E</td>\n",
              "      <td>12982938.0</td>\n",
              "    </tr>\n",
              "    <tr>\n",
              "      <th>1</th>\n",
              "      <td>CITIZEN, VOTING AGE POPULATION</td>\n",
              "      <td>Citizen, 18 and over population</td>\n",
              "      <td>Male</td>\n",
              "      <td>DP05_0088E</td>\n",
              "      <td>12511445.0</td>\n",
              "    </tr>\n",
              "    <tr>\n",
              "      <th>2</th>\n",
              "      <td>CITIZEN, VOTING AGE POPULATION</td>\n",
              "      <td>Citizen, 18 and over population</td>\n",
              "      <td>NaN</td>\n",
              "      <td>DP05_0087E</td>\n",
              "      <td>25494383.0</td>\n",
              "    </tr>\n",
              "    <tr>\n",
              "      <th>3</th>\n",
              "      <td>HISPANIC OR LATINO AND RACE</td>\n",
              "      <td>Total population</td>\n",
              "      <td>Hispanic or Latino (of any race)</td>\n",
              "      <td>DP05_0071E</td>\n",
              "      <td>15327688.0</td>\n",
              "    </tr>\n",
              "    <tr>\n",
              "      <th>4</th>\n",
              "      <td>HISPANIC OR LATINO AND RACE</td>\n",
              "      <td>Total population</td>\n",
              "      <td>Hispanic or Latino (of any race)</td>\n",
              "      <td>DP05_0072E</td>\n",
              "      <td>12687312.0</td>\n",
              "    </tr>\n",
              "    <tr>\n",
              "      <th>...</th>\n",
              "      <td>...</td>\n",
              "      <td>...</td>\n",
              "      <td>...</td>\n",
              "      <td>...</td>\n",
              "      <td>...</td>\n",
              "    </tr>\n",
              "    <tr>\n",
              "      <th>84</th>\n",
              "      <td>SEX AND AGE</td>\n",
              "      <td>Total population</td>\n",
              "      <td>Sex ratio (males per 100 females)</td>\n",
              "      <td>DP05_0004E</td>\n",
              "      <td>98.8</td>\n",
              "    </tr>\n",
              "    <tr>\n",
              "      <th>85</th>\n",
              "      <td>SEX AND AGE</td>\n",
              "      <td>Total population</td>\n",
              "      <td>Under 18 years</td>\n",
              "      <td>DP05_0019E</td>\n",
              "      <td>9022146.0</td>\n",
              "    </tr>\n",
              "    <tr>\n",
              "      <th>86</th>\n",
              "      <td>SEX AND AGE</td>\n",
              "      <td>Total population</td>\n",
              "      <td>Under 5 years</td>\n",
              "      <td>DP05_0005E</td>\n",
              "      <td>2451528.0</td>\n",
              "    </tr>\n",
              "    <tr>\n",
              "      <th>87</th>\n",
              "      <td>SEX AND AGE</td>\n",
              "      <td>Total population</td>\n",
              "      <td>NaN</td>\n",
              "      <td>DP05_0001E</td>\n",
              "      <td>39283497.0</td>\n",
              "    </tr>\n",
              "    <tr>\n",
              "      <th>88</th>\n",
              "      <td>Total housing units</td>\n",
              "      <td>NaN</td>\n",
              "      <td>NaN</td>\n",
              "      <td>DP05_0086E</td>\n",
              "      <td>14175976.0</td>\n",
              "    </tr>\n",
              "  </tbody>\n",
              "</table>\n",
              "<p>89 rows × 5 columns</p>\n",
              "</div>"
            ],
            "text/plain": [
              "                             topic                         category  \\\n",
              "0   CITIZEN, VOTING AGE POPULATION  Citizen, 18 and over population   \n",
              "1   CITIZEN, VOTING AGE POPULATION  Citizen, 18 and over population   \n",
              "2   CITIZEN, VOTING AGE POPULATION  Citizen, 18 and over population   \n",
              "3      HISPANIC OR LATINO AND RACE                 Total population   \n",
              "4      HISPANIC OR LATINO AND RACE                 Total population   \n",
              "..                             ...                              ...   \n",
              "84                     SEX AND AGE                 Total population   \n",
              "85                     SEX AND AGE                 Total population   \n",
              "86                     SEX AND AGE                 Total population   \n",
              "87                     SEX AND AGE                 Total population   \n",
              "88             Total housing units                              NaN   \n",
              "\n",
              "                         sub-category          id       value  \n",
              "0                              Female  DP05_0089E  12982938.0  \n",
              "1                                Male  DP05_0088E  12511445.0  \n",
              "2                                 NaN  DP05_0087E  25494383.0  \n",
              "3    Hispanic or Latino (of any race)  DP05_0071E  15327688.0  \n",
              "4    Hispanic or Latino (of any race)  DP05_0072E  12687312.0  \n",
              "..                                ...         ...         ...  \n",
              "84  Sex ratio (males per 100 females)  DP05_0004E        98.8  \n",
              "85                     Under 18 years  DP05_0019E   9022146.0  \n",
              "86                      Under 5 years  DP05_0005E   2451528.0  \n",
              "87                                NaN  DP05_0001E  39283497.0  \n",
              "88                                NaN  DP05_0086E  14175976.0  \n",
              "\n",
              "[89 rows x 5 columns]"
            ]
          },
          "execution_count": 14,
          "metadata": {},
          "output_type": "execute_result"
        }
      ],
      "source": [
        "#ddg = demographic_data_groups\n",
        "ddg=pd.read_csv(\"CA-data\\\\census\\\\temp_demographic.csv\")\n",
        "\n",
        "ddg"
      ]
    },
    {
      "cell_type": "code",
      "execution_count": 15,
      "metadata": {},
      "outputs": [
        {
          "data": {
            "text/plain": [
              "{'race': {'white': 25048942.0,\n",
              "  'black': 2766478.0,\n",
              "  'native': 762733.0,\n",
              "  'asian': 6551732.0,\n",
              "  'pacific-islander': 323042.0,\n",
              "  'other': 5944874.0},\n",
              " 'age': {'child': 2451528.0,\n",
              "  'tenager': 7608859.0,\n",
              "  'young-adult': 2751567.0,\n",
              "  'adult': 18748401.0,\n",
              "  'senior': 7723142.0},\n",
              " 'gender': {'male': 19526298.0, 'female': 19757199.0}}"
            ]
          },
          "execution_count": 15,
          "metadata": {},
          "output_type": "execute_result"
        }
      ],
      "source": [
        "temp_race = {'white': 'DP05_0064E', 'black': 'DP05_0065E', 'native': 'DP05_0066E',\n",
        "             'asian': 'DP05_0067E', 'pacific-islander': 'DP05_0068E', 'other': 'DP05_0069E'}\n",
        "temp_sex = {'male': 'DP05_0002E', 'female': 'DP05_0003E'}\n",
        "temp_age = {\n",
        "    'child': ddg.loc[ddg['id'] == 'DP05_0005E', 'value'].values[0],\n",
        "    'tenager': ddg.loc[ddg['id'] == 'DP05_0006E', 'value'].values[0]+ddg.loc[ddg['id'] == 'DP05_0007E', 'value'].values[0]+ddg.loc[ddg['id'] == 'DP05_0008E', 'value'].values[0],\n",
        "    'young-adult': ddg.loc[ddg['id'] == 'DP05_0009E', 'value'].values[0],\n",
        "    'adult': ddg.loc[ddg['id'] == 'DP05_0010E', 'value'].values[0]+ddg.loc[ddg['id'] == 'DP05_0011E', 'value'].values[0]+ddg.loc[ddg['id'] == 'DP05_0012E', 'value'].values[0]+ddg.loc[ddg['id'] == 'DP05_0013E', 'value'].values[0],\n",
        "    'senior': ddg.loc[ddg['id'] == 'DP05_0014E', 'value'].values[0]+ddg.loc[ddg['id'] == 'DP05_0015E', 'value'].values[0]+ddg.loc[ddg['id'] == 'DP05_0016E', 'value'].values[0]+ddg.loc[ddg['id'] == 'DP05_0017E', 'value'].values[0]\n",
        "}\n",
        "margin_dict = {\n",
        "    'race': {key: ddg.loc[ddg['id'] == value, 'value'].values[0] for key, value in temp_race.items()},\n",
        "    'age': temp_age,\n",
        "    'gender': {key: ddg.loc[ddg['id'] == value, 'value'].values[0] for key, value in temp_sex.items()}\n",
        "}\n",
        "# ddg.columns\n",
        "# df = pd.read_csv(\"CA-data\\\\pums\\\\temp_pums.csv\", usecols=col_list)\n",
        "margin_dict\n"
      ]
    },
    {
      "cell_type": "code",
      "execution_count": 20,
      "metadata": {},
      "outputs": [],
      "source": [
        "#create this table after sehri (get vlaues from census)\n",
        "f, u, X = get_table(df, {\n",
        "    'race': {'white': 5800, 'other': 4200},\n",
        "    'age': {'minor': 2800, 'adult': 7200},\n",
        "    'gender': {'male': 4900, 'female': 5100}\n",
        "})\n",
        "# f, u, X = get_table(df, margin_dict)"
      ]
    },
    {
      "attachments": {},
      "cell_type": "markdown",
      "metadata": {},
      "source": [
        "X = contigency table\\\n",
        "u = target marginals\\\n",
        "f = helper vector"
      ]
    },
    {
      "cell_type": "code",
      "execution_count": 21,
      "metadata": {},
      "outputs": [
        {
          "data": {
            "text/plain": [
              "array([[[ 77445,  66742],\n",
              "        [  7425,   7980],\n",
              "        [ 37571,  29021],\n",
              "        [ 19800,  20902],\n",
              "        [ 12627,  13047]],\n",
              "\n",
              "       [[ 20684,  22054],\n",
              "        [  2383,   2435],\n",
              "        [ 12548,   9971],\n",
              "        [  6689,   7353],\n",
              "        [  4219,   5096]],\n",
              "\n",
              "       [[  4074,   4166],\n",
              "        [   613,    596],\n",
              "        [  1995,   1648],\n",
              "        [  1592,   1703],\n",
              "        [   825,    897]],\n",
              "\n",
              "       [[ 69512,  70587],\n",
              "        [ 14692,  15256],\n",
              "        [ 18566,  15705],\n",
              "        [ 35630,  37630],\n",
              "        [ 18625,  19660]],\n",
              "\n",
              "       [[  1556,   1536],\n",
              "        [   192,    199],\n",
              "        [   560,    474],\n",
              "        [   516,    493],\n",
              "        [   353,    394]],\n",
              "\n",
              "       [[253536, 256443],\n",
              "        [ 31668,  33313],\n",
              "        [171761, 148193],\n",
              "        [ 83393,  87548],\n",
              "        [ 45569,  49800]]], dtype=int64)"
            ]
          },
          "execution_count": 21,
          "metadata": {},
          "output_type": "execute_result"
        }
      ],
      "source": [
        "X"
      ]
    },
    {
      "cell_type": "code",
      "execution_count": 18,
      "metadata": {},
      "outputs": [],
      "source": [
        "def get_coordinates(M):\n",
        "    return list(itertools.product(*[list(range(n)) for n in M.shape]))\n",
        "\n",
        "def get_marginals(M, i):\n",
        "    coordinates = get_coordinates(M)\n",
        "\n",
        "    key = lambda tup: tup[0]\n",
        "    counts = [(c[i], M[c]) for c in coordinates]\n",
        "    counts = sorted(counts, key=key)\n",
        "    counts = itertools.groupby(counts, key=key)\n",
        "    counts = {k: sum([v[1] for v in g]) for k, g in counts}\n",
        "\n",
        "    return counts\n",
        "\n",
        "def get_all_marginals(M):\n",
        "    return np.array([[v for _, v in get_marginals(M, i).items()]\n",
        "                     for i in range(len(M.shape))])\n",
        "\n",
        "def get_counts(M, i):\n",
        "    coordinates = get_coordinates(M)\n",
        "\n",
        "    key = lambda tup: tup[0]\n",
        "    counts = [(c[i], M[c], c) for c in coordinates]\n",
        "    counts = sorted(counts, key=key)\n",
        "    counts = itertools.groupby(counts, key=key)\n",
        "    counts = {k: [(tup[1], tup[2]) for tup in g] for k, g in counts}\n",
        "\n",
        "    return counts\n",
        "\n",
        "def update_values(M, i, u):\n",
        "    marg = get_marginals(M, i)\n",
        "    vals = get_counts(M, i)\n",
        "\n",
        "    d = [[(c, n * u[k] / marg[k]) for n, c in v] for k, v in vals.items()]\n",
        "    d = itertools.chain(*d)\n",
        "    d = list(d)\n",
        "\n",
        "    return d\n",
        "\n",
        "def ipf_update(M, u):\n",
        "    for i in range(len(M.shape)):\n",
        "        values = update_values(M, i, u[i])\n",
        "        for idx, v in values:\n",
        "            M[idx] = v\n",
        "\n",
        "    o = get_all_marginals(M)\n",
        "    d = get_deltas(o, u)\n",
        "\n",
        "    return M, d\n",
        "\n",
        "def get_deltas(o, t):\n",
        "    return np.array([np.linalg.norm(o[r] - t[r], 2) for r in range(o.shape[0])])\n",
        "\n",
        "def get_weights(X, max_iters=50, zero_threshold=0.0001, convergence_threshold=3, debug=True):\n",
        "    M = X.copy()\n",
        "\n",
        "    d_prev = np.zeros(len(M.shape))\n",
        "    count_zero = 0\n",
        "\n",
        "    for _ in range(max_iters):\n",
        "        M, d_next = ipf_update(M, u)\n",
        "        d = np.linalg.norm(d_prev - d_next, 2)\n",
        "\n",
        "        if d < zero_threshold:\n",
        "            count_zero += 1\n",
        "\n",
        "        if debug:\n",
        "            print(','.join([f'{v:.5f}' for v in d_next]), d)\n",
        "        d_prev = d_next\n",
        "\n",
        "        if count_zero >= convergence_threshold:\n",
        "            break\n",
        "\n",
        "    w = M / M.sum()\n",
        "    return w"
      ]
    },
    {
      "cell_type": "code",
      "execution_count": 19,
      "metadata": {},
      "outputs": [
        {
          "name": "stderr",
          "output_type": "stream",
          "text": [
            "C:\\Users\\abubabu\\AppData\\Local\\Temp\\ipykernel_4188\\342377656.py:16: VisibleDeprecationWarning: Creating an ndarray from ragged nested sequences (which is a list-or-tuple of lists-or-tuples-or ndarrays with different lengths or shapes) is deprecated. If you meant to do this, you must specify 'dtype=object' when creating the ndarray.\n",
            "  return np.array([[v for _, v in get_marginals(M, i).items()]\n"
          ]
        },
        {
          "ename": "TypeError",
          "evalue": "unsupported operand type(s) for -: 'list' and 'list'",
          "output_type": "error",
          "traceback": [
            "\u001b[1;31m---------------------------------------------------------------------------\u001b[0m",
            "\u001b[1;31mTypeError\u001b[0m                                 Traceback (most recent call last)",
            "\u001b[1;32mc:\\Users\\abubabu\\Documents\\GitHub\\synthetic-population-simulation\\Multidimensional_IPF_1.ipynb Cell 18\u001b[0m in \u001b[0;36m<cell line: 1>\u001b[1;34m()\u001b[0m\n\u001b[1;32m----> <a href='vscode-notebook-cell:/c%3A/Users/abubabu/Documents/GitHub/synthetic-population-simulation/Multidimensional_IPF_1.ipynb#X23sZmlsZQ%3D%3D?line=0'>1</a>\u001b[0m w \u001b[39m=\u001b[39m get_weights(X)\n",
            "\u001b[1;32mc:\\Users\\abubabu\\Documents\\GitHub\\synthetic-population-simulation\\Multidimensional_IPF_1.ipynb Cell 18\u001b[0m in \u001b[0;36mget_weights\u001b[1;34m(X, max_iters, zero_threshold, convergence_threshold, debug)\u001b[0m\n\u001b[0;32m     <a href='vscode-notebook-cell:/c%3A/Users/abubabu/Documents/GitHub/synthetic-population-simulation/Multidimensional_IPF_1.ipynb#X23sZmlsZQ%3D%3D?line=57'>58</a>\u001b[0m count_zero \u001b[39m=\u001b[39m \u001b[39m0\u001b[39m\n\u001b[0;32m     <a href='vscode-notebook-cell:/c%3A/Users/abubabu/Documents/GitHub/synthetic-population-simulation/Multidimensional_IPF_1.ipynb#X23sZmlsZQ%3D%3D?line=59'>60</a>\u001b[0m \u001b[39mfor\u001b[39;00m _ \u001b[39min\u001b[39;00m \u001b[39mrange\u001b[39m(max_iters):\n\u001b[1;32m---> <a href='vscode-notebook-cell:/c%3A/Users/abubabu/Documents/GitHub/synthetic-population-simulation/Multidimensional_IPF_1.ipynb#X23sZmlsZQ%3D%3D?line=60'>61</a>\u001b[0m     M, d_next \u001b[39m=\u001b[39m ipf_update(M, u)\n\u001b[0;32m     <a href='vscode-notebook-cell:/c%3A/Users/abubabu/Documents/GitHub/synthetic-population-simulation/Multidimensional_IPF_1.ipynb#X23sZmlsZQ%3D%3D?line=61'>62</a>\u001b[0m     d \u001b[39m=\u001b[39m np\u001b[39m.\u001b[39mlinalg\u001b[39m.\u001b[39mnorm(d_prev \u001b[39m-\u001b[39m d_next, \u001b[39m2\u001b[39m)\n\u001b[0;32m     <a href='vscode-notebook-cell:/c%3A/Users/abubabu/Documents/GitHub/synthetic-population-simulation/Multidimensional_IPF_1.ipynb#X23sZmlsZQ%3D%3D?line=63'>64</a>\u001b[0m     \u001b[39mif\u001b[39;00m d \u001b[39m<\u001b[39m zero_threshold:\n",
            "\u001b[1;32mc:\\Users\\abubabu\\Documents\\GitHub\\synthetic-population-simulation\\Multidimensional_IPF_1.ipynb Cell 18\u001b[0m in \u001b[0;36mipf_update\u001b[1;34m(M, u)\u001b[0m\n\u001b[0;32m     <a href='vscode-notebook-cell:/c%3A/Users/abubabu/Documents/GitHub/synthetic-population-simulation/Multidimensional_IPF_1.ipynb#X23sZmlsZQ%3D%3D?line=43'>44</a>\u001b[0m         M[idx] \u001b[39m=\u001b[39m v\n\u001b[0;32m     <a href='vscode-notebook-cell:/c%3A/Users/abubabu/Documents/GitHub/synthetic-population-simulation/Multidimensional_IPF_1.ipynb#X23sZmlsZQ%3D%3D?line=45'>46</a>\u001b[0m o \u001b[39m=\u001b[39m get_all_marginals(M)\n\u001b[1;32m---> <a href='vscode-notebook-cell:/c%3A/Users/abubabu/Documents/GitHub/synthetic-population-simulation/Multidimensional_IPF_1.ipynb#X23sZmlsZQ%3D%3D?line=46'>47</a>\u001b[0m d \u001b[39m=\u001b[39m get_deltas(o, u)\n\u001b[0;32m     <a href='vscode-notebook-cell:/c%3A/Users/abubabu/Documents/GitHub/synthetic-population-simulation/Multidimensional_IPF_1.ipynb#X23sZmlsZQ%3D%3D?line=48'>49</a>\u001b[0m \u001b[39mreturn\u001b[39;00m M, d\n",
            "\u001b[1;32mc:\\Users\\abubabu\\Documents\\GitHub\\synthetic-population-simulation\\Multidimensional_IPF_1.ipynb Cell 18\u001b[0m in \u001b[0;36mget_deltas\u001b[1;34m(o, t)\u001b[0m\n\u001b[0;32m     <a href='vscode-notebook-cell:/c%3A/Users/abubabu/Documents/GitHub/synthetic-population-simulation/Multidimensional_IPF_1.ipynb#X23sZmlsZQ%3D%3D?line=50'>51</a>\u001b[0m \u001b[39mdef\u001b[39;00m \u001b[39mget_deltas\u001b[39m(o, t):\n\u001b[1;32m---> <a href='vscode-notebook-cell:/c%3A/Users/abubabu/Documents/GitHub/synthetic-population-simulation/Multidimensional_IPF_1.ipynb#X23sZmlsZQ%3D%3D?line=51'>52</a>\u001b[0m     \u001b[39mreturn\u001b[39;00m np\u001b[39m.\u001b[39marray([np\u001b[39m.\u001b[39mlinalg\u001b[39m.\u001b[39mnorm(o[r] \u001b[39m-\u001b[39m t[r], \u001b[39m2\u001b[39m) \u001b[39mfor\u001b[39;00m r \u001b[39min\u001b[39;00m \u001b[39mrange\u001b[39m(o\u001b[39m.\u001b[39mshape[\u001b[39m0\u001b[39m])])\n",
            "\u001b[1;32mc:\\Users\\abubabu\\Documents\\GitHub\\synthetic-population-simulation\\Multidimensional_IPF_1.ipynb Cell 18\u001b[0m in \u001b[0;36m<listcomp>\u001b[1;34m(.0)\u001b[0m\n\u001b[0;32m     <a href='vscode-notebook-cell:/c%3A/Users/abubabu/Documents/GitHub/synthetic-population-simulation/Multidimensional_IPF_1.ipynb#X23sZmlsZQ%3D%3D?line=50'>51</a>\u001b[0m \u001b[39mdef\u001b[39;00m \u001b[39mget_deltas\u001b[39m(o, t):\n\u001b[1;32m---> <a href='vscode-notebook-cell:/c%3A/Users/abubabu/Documents/GitHub/synthetic-population-simulation/Multidimensional_IPF_1.ipynb#X23sZmlsZQ%3D%3D?line=51'>52</a>\u001b[0m     \u001b[39mreturn\u001b[39;00m np\u001b[39m.\u001b[39marray([np\u001b[39m.\u001b[39mlinalg\u001b[39m.\u001b[39mnorm(o[r] \u001b[39m-\u001b[39;49m t[r], \u001b[39m2\u001b[39m) \u001b[39mfor\u001b[39;00m r \u001b[39min\u001b[39;00m \u001b[39mrange\u001b[39m(o\u001b[39m.\u001b[39mshape[\u001b[39m0\u001b[39m])])\n",
            "\u001b[1;31mTypeError\u001b[0m: unsupported operand type(s) for -: 'list' and 'list'"
          ]
        }
      ],
      "source": [
        "w = get_weights(X)"
      ]
    },
    {
      "cell_type": "code",
      "execution_count": null,
      "metadata": {},
      "outputs": [
        {
          "ename": "NameError",
          "evalue": "name 'w' is not defined",
          "output_type": "error",
          "traceback": [
            "\u001b[1;31m---------------------------------------------------------------------------\u001b[0m",
            "\u001b[1;31mNameError\u001b[0m                                 Traceback (most recent call last)",
            "\u001b[1;32mc:\\Users\\abubabu\\Documents\\GitHub\\synthetic-population-simulation\\Multidimensional_IPF_1.ipynb Cell 19\u001b[0m in \u001b[0;36m<cell line: 1>\u001b[1;34m()\u001b[0m\n\u001b[1;32m----> <a href='vscode-notebook-cell:/c%3A/Users/abubabu/Documents/GitHub/synthetic-population-simulation/Multidimensional_IPF_1.ipynb#X24sZmlsZQ%3D%3D?line=0'>1</a>\u001b[0m w\n",
            "\u001b[1;31mNameError\u001b[0m: name 'w' is not defined"
          ]
        }
      ],
      "source": [
        "w"
      ]
    },
    {
      "cell_type": "markdown",
      "metadata": {},
      "source": []
    },
    {
      "attachments": {},
      "cell_type": "markdown",
      "metadata": {},
      "source": [
        "<b> Sampling </b>"
      ]
    },
    {
      "cell_type": "code",
      "execution_count": null,
      "metadata": {},
      "outputs": [
        {
          "data": {
            "text/html": [
              "<div>\n",
              "<style scoped>\n",
              "    .dataframe tbody tr th:only-of-type {\n",
              "        vertical-align: middle;\n",
              "    }\n",
              "\n",
              "    .dataframe tbody tr th {\n",
              "        vertical-align: top;\n",
              "    }\n",
              "\n",
              "    .dataframe thead th {\n",
              "        text-align: right;\n",
              "    }\n",
              "</style>\n",
              "<table border=\"1\" class=\"dataframe\">\n",
              "  <thead>\n",
              "    <tr style=\"text-align: right;\">\n",
              "      <th></th>\n",
              "      <th>race</th>\n",
              "      <th>age</th>\n",
              "      <th>gender</th>\n",
              "      <th>height</th>\n",
              "    </tr>\n",
              "  </thead>\n",
              "  <tbody>\n",
              "    <tr>\n",
              "      <th>1461</th>\n",
              "      <td>other</td>\n",
              "      <td>minor</td>\n",
              "      <td>female</td>\n",
              "      <td>5.337720</td>\n",
              "    </tr>\n",
              "    <tr>\n",
              "      <th>2034</th>\n",
              "      <td>other</td>\n",
              "      <td>adult</td>\n",
              "      <td>female</td>\n",
              "      <td>6.243500</td>\n",
              "    </tr>\n",
              "    <tr>\n",
              "      <th>1715</th>\n",
              "      <td>other</td>\n",
              "      <td>adult</td>\n",
              "      <td>male</td>\n",
              "      <td>5.261089</td>\n",
              "    </tr>\n",
              "    <tr>\n",
              "      <th>310</th>\n",
              "      <td>white</td>\n",
              "      <td>adult</td>\n",
              "      <td>male</td>\n",
              "      <td>5.682793</td>\n",
              "    </tr>\n",
              "    <tr>\n",
              "      <th>1884</th>\n",
              "      <td>other</td>\n",
              "      <td>adult</td>\n",
              "      <td>male</td>\n",
              "      <td>5.192252</td>\n",
              "    </tr>\n",
              "    <tr>\n",
              "      <th>...</th>\n",
              "      <td>...</td>\n",
              "      <td>...</td>\n",
              "      <td>...</td>\n",
              "      <td>...</td>\n",
              "    </tr>\n",
              "    <tr>\n",
              "      <th>2140</th>\n",
              "      <td>other</td>\n",
              "      <td>adult</td>\n",
              "      <td>female</td>\n",
              "      <td>6.026459</td>\n",
              "    </tr>\n",
              "    <tr>\n",
              "      <th>732</th>\n",
              "      <td>white</td>\n",
              "      <td>adult</td>\n",
              "      <td>female</td>\n",
              "      <td>5.155105</td>\n",
              "    </tr>\n",
              "    <tr>\n",
              "      <th>34</th>\n",
              "      <td>white</td>\n",
              "      <td>minor</td>\n",
              "      <td>male</td>\n",
              "      <td>5.273937</td>\n",
              "    </tr>\n",
              "    <tr>\n",
              "      <th>117</th>\n",
              "      <td>white</td>\n",
              "      <td>minor</td>\n",
              "      <td>female</td>\n",
              "      <td>5.599598</td>\n",
              "    </tr>\n",
              "    <tr>\n",
              "      <th>649</th>\n",
              "      <td>white</td>\n",
              "      <td>adult</td>\n",
              "      <td>female</td>\n",
              "      <td>6.546797</td>\n",
              "    </tr>\n",
              "  </tbody>\n",
              "</table>\n",
              "<p>10000 rows × 4 columns</p>\n",
              "</div>"
            ],
            "text/plain": [
              "       race    age  gender    height\n",
              "1461  other  minor  female  5.337720\n",
              "2034  other  adult  female  6.243500\n",
              "1715  other  adult    male  5.261089\n",
              "310   white  adult    male  5.682793\n",
              "1884  other  adult    male  5.192252\n",
              "...     ...    ...     ...       ...\n",
              "2140  other  adult  female  6.026459\n",
              "732   white  adult  female  5.155105\n",
              "34    white  minor    male  5.273937\n",
              "117   white  minor  female  5.599598\n",
              "649   white  adult  female  6.546797\n",
              "\n",
              "[10000 rows x 4 columns]"
            ]
          },
          "execution_count": 21,
          "metadata": {},
          "output_type": "execute_result"
        }
      ],
      "source": [
        "import functools\n",
        "\n",
        "def get_sampling_weights(df, f, w):\n",
        "    get_filters = lambda df, fields, values: [df[f] == v for f, v in zip(fields, values)]\n",
        "    get_total = lambda df, fields, values: df[functools.reduce(lambda a, b: a & b, get_filters(df, fields, values))].shape[0]\n",
        "\n",
        "    return {k: v / get_total(df, f, k) for k, v in zip(list(itertools.product(*[sorted(df[c].unique()) for c in f])), np.ravel(w))}\n",
        "\n",
        "def get_samples(df, f, w, n=10_000):\n",
        "    weights = get_sampling_weights(df, f, w)\n",
        "    s = df.apply(lambda r: weights[tuple([r[c] for c in f])], axis=1)\n",
        "    return df.sample(n=n, replace=True, weights=s)\n",
        "\n",
        "sample_df = get_samples(df, f, w)\n",
        "sample_df"
      ]
    },
    {
      "cell_type": "code",
      "execution_count": null,
      "metadata": {},
      "outputs": [
        {
          "data": {
            "text/html": [
              "<div>\n",
              "<style scoped>\n",
              "    .dataframe tbody tr th:only-of-type {\n",
              "        vertical-align: middle;\n",
              "    }\n",
              "\n",
              "    .dataframe tbody tr th {\n",
              "        vertical-align: top;\n",
              "    }\n",
              "\n",
              "    .dataframe thead tr th {\n",
              "        text-align: left;\n",
              "    }\n",
              "\n",
              "    .dataframe thead tr:last-of-type th {\n",
              "        text-align: right;\n",
              "    }\n",
              "</style>\n",
              "<table border=\"1\" class=\"dataframe\">\n",
              "  <thead>\n",
              "    <tr>\n",
              "      <th>age</th>\n",
              "      <th colspan=\"2\" halign=\"left\">adult</th>\n",
              "      <th colspan=\"2\" halign=\"left\">minor</th>\n",
              "    </tr>\n",
              "    <tr>\n",
              "      <th>gender</th>\n",
              "      <th>female</th>\n",
              "      <th>male</th>\n",
              "      <th>female</th>\n",
              "      <th>male</th>\n",
              "    </tr>\n",
              "    <tr>\n",
              "      <th>race</th>\n",
              "      <th></th>\n",
              "      <th></th>\n",
              "      <th></th>\n",
              "      <th></th>\n",
              "    </tr>\n",
              "  </thead>\n",
              "  <tbody>\n",
              "    <tr>\n",
              "      <th>other</th>\n",
              "      <td>1165</td>\n",
              "      <td>1344</td>\n",
              "      <td>1041</td>\n",
              "      <td>628</td>\n",
              "    </tr>\n",
              "    <tr>\n",
              "      <th>white</th>\n",
              "      <td>2225</td>\n",
              "      <td>2492</td>\n",
              "      <td>791</td>\n",
              "      <td>314</td>\n",
              "    </tr>\n",
              "  </tbody>\n",
              "</table>\n",
              "</div>"
            ],
            "text/plain": [
              "age     adult        minor     \n",
              "gender female  male female male\n",
              "race                           \n",
              "other    1165  1344   1041  628\n",
              "white    2225  2492    791  314"
            ]
          },
          "execution_count": 22,
          "metadata": {},
          "output_type": "execute_result"
        }
      ],
      "source": [
        "ct = pd.crosstab(sample_df.race, [sample_df.age, sample_df.gender])\n",
        "ct #cross-tabulation of the resulting sampled matrix."
      ]
    },
    {
      "cell_type": "code",
      "execution_count": null,
      "metadata": {},
      "outputs": [
        {
          "data": {
            "text/plain": [
              "other    0.4178\n",
              "white    0.5822\n",
              "Name: race, dtype: float64"
            ]
          },
          "execution_count": 23,
          "metadata": {},
          "output_type": "execute_result"
        }
      ],
      "source": [
        "sample_df.race.value_counts().sort_index() / sample_df.shape[0]"
      ]
    },
    {
      "cell_type": "code",
      "execution_count": null,
      "metadata": {},
      "outputs": [
        {
          "data": {
            "text/plain": [
              "adult    0.7226\n",
              "minor    0.2774\n",
              "Name: age, dtype: float64"
            ]
          },
          "execution_count": 24,
          "metadata": {},
          "output_type": "execute_result"
        }
      ],
      "source": [
        "sample_df.age.value_counts().sort_index() / sample_df.shape[0]"
      ]
    },
    {
      "cell_type": "code",
      "execution_count": null,
      "metadata": {},
      "outputs": [
        {
          "data": {
            "text/plain": [
              "female    0.5222\n",
              "male      0.4778\n",
              "Name: gender, dtype: float64"
            ]
          },
          "execution_count": 25,
          "metadata": {},
          "output_type": "execute_result"
        }
      ],
      "source": [
        "sample_df.gender.value_counts().sort_index() / sample_df.shape[0]"
      ]
    }
  ],
  "metadata": {
    "colab": {
      "collapsed_sections": [],
      "name": "Multidimensional IPF.ipynb",
      "provenance": []
    },
    "kernelspec": {
      "display_name": "Python 3.10.8 64-bit (microsoft store)",
      "language": "python",
      "name": "python3"
    },
    "language_info": {
      "codemirror_mode": {
        "name": "ipython",
        "version": 3
      },
      "file_extension": ".py",
      "mimetype": "text/x-python",
      "name": "python",
      "nbconvert_exporter": "python",
      "pygments_lexer": "ipython3",
      "version": "3.10.10"
    },
    "vscode": {
      "interpreter": {
        "hash": "8a8c870a75a2399a18da699afb8120ef3e062104a641580cdd043bc818847915"
      }
    }
  },
  "nbformat": 4,
  "nbformat_minor": 0
}
