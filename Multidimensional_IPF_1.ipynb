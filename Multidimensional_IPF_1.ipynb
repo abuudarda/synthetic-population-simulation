{
  "cells": [
    {
      "cell_type": "code",
      "execution_count": 77,
      "metadata": {
        "colab": {
          "base_uri": "https://localhost:8080/"
        },
        "id": "mo_VQmO1rIkd",
        "outputId": "aa55ae07-c0d1-4bbd-b521-78e432a4bcd2"
      },
      "outputs": [],
      "source": [
        "# pip install ipfn\n"
      ]
    },
    {
      "cell_type": "code",
      "execution_count": 78,
      "metadata": {
        "colab": {
          "base_uri": "https://localhost:8080/"
        },
        "id": "TjK-dQrGtVhB",
        "outputId": "94645826-91bf-426a-9933-0dc5107b485b"
      },
      "outputs": [],
      "source": [
        "# import pandas as pd\n",
        "# from ipfn import ipfn\n",
        "# import numpy as np\n",
        "# #a=pd.read_csv(\"/content/2D Ipf - Untitled spreadsheet - Sheet1.csv\")\n",
        "# n=[[[476,410],[472,400],[407,483],[413,413]],[[410,400],[465,472],[460,488],[424,491]]]\n",
        "\n",
        "\n",
        "# xipp=np.array([4200,3446])\n",
        "# xpjp=np.array([2005,2000,1958,2043])\n",
        "# xppk=np.array([4250,4500])\n",
        "# xijp=np.array([[975,981,974,975],[946,952,947,946]])\n",
        "# xpjk=np.array([[1200,1183],[1000,950],[900,1050],[950,1109]])\n",
        "\n",
        "# n=np.array(n)\n",
        "# aggregates=[xipp,xpjp,xppk,xijp,xpjk]\n",
        "# dimensions=[[0],[1],[2],[0,1],[1,2]]\n",
        "# IPF=ipfn.ipfn(n,aggregates,dimensions,convergence_rate=1e-6)\n",
        "# n=IPF.iteration()\n",
        "# print(n)\n"
      ]
    },
    {
      "cell_type": "code",
      "execution_count": 79,
      "metadata": {},
      "outputs": [
        {
          "data": {
            "text/html": [
              "<div>\n",
              "<style scoped>\n",
              "    .dataframe tbody tr th:only-of-type {\n",
              "        vertical-align: middle;\n",
              "    }\n",
              "\n",
              "    .dataframe tbody tr th {\n",
              "        vertical-align: top;\n",
              "    }\n",
              "\n",
              "    .dataframe thead th {\n",
              "        text-align: right;\n",
              "    }\n",
              "</style>\n",
              "<table border=\"1\" class=\"dataframe\">\n",
              "  <thead>\n",
              "    <tr style=\"text-align: right;\">\n",
              "      <th></th>\n",
              "      <th>race</th>\n",
              "      <th>age</th>\n",
              "      <th>gender</th>\n",
              "      <th>height</th>\n",
              "    </tr>\n",
              "  </thead>\n",
              "  <tbody>\n",
              "    <tr>\n",
              "      <th>0</th>\n",
              "      <td>white</td>\n",
              "      <td>minor</td>\n",
              "      <td>male</td>\n",
              "      <td>5.445536</td>\n",
              "    </tr>\n",
              "    <tr>\n",
              "      <th>1</th>\n",
              "      <td>white</td>\n",
              "      <td>minor</td>\n",
              "      <td>male</td>\n",
              "      <td>6.174308</td>\n",
              "    </tr>\n",
              "    <tr>\n",
              "      <th>2</th>\n",
              "      <td>white</td>\n",
              "      <td>minor</td>\n",
              "      <td>male</td>\n",
              "      <td>5.846647</td>\n",
              "    </tr>\n",
              "    <tr>\n",
              "      <th>3</th>\n",
              "      <td>white</td>\n",
              "      <td>minor</td>\n",
              "      <td>male</td>\n",
              "      <td>4.199654</td>\n",
              "    </tr>\n",
              "    <tr>\n",
              "      <th>4</th>\n",
              "      <td>white</td>\n",
              "      <td>minor</td>\n",
              "      <td>male</td>\n",
              "      <td>7.018512</td>\n",
              "    </tr>\n",
              "  </tbody>\n",
              "</table>\n",
              "</div>"
            ],
            "text/plain": [
              "    race    age gender    height\n",
              "0  white  minor   male  5.445536\n",
              "1  white  minor   male  6.174308\n",
              "2  white  minor   male  5.846647\n",
              "3  white  minor   male  4.199654\n",
              "4  white  minor   male  7.018512"
            ]
          },
          "execution_count": 79,
          "metadata": {},
          "output_type": "execute_result"
        }
      ],
      "source": [
        "import pandas as pd\n",
        "import numpy as np\n",
        "import random\n",
        "import itertools\n",
        "\n",
        "'''\n",
        "code for testing \n",
        "\n",
        "NOT IMPORTANT!\n",
        "\n",
        "'''\n",
        "np.random.seed(37)\n",
        "random.seed(37)\n",
        "\n",
        "height = [\n",
        "    np.random.normal(5.5, 1.0, 100),\n",
        "    np.random.normal(5.3, 1.0, 200),\n",
        "    np.random.normal(5.9, 1.0, 300),\n",
        "    np.random.normal(5.7, 1.0, 200),\n",
        "    np.random.normal(5.3, 1.0, 400),\n",
        "    np.random.normal(5.2, 1.0, 500),\n",
        "    np.random.normal(5.8, 1.0, 300),\n",
        "    np.random.normal(5.5, 1.0, 200)\n",
        "]\n",
        "\n",
        "#height = normal distribution **(HAVE TO BE FETCHED FROM PUMS) \n",
        "\n",
        "demographic = [\n",
        "    ['white', 'minor', 'male'],\n",
        "    ['white', 'minor', 'female'],\n",
        "    ['white', 'adult', 'male'],\n",
        "    ['white', 'adult', 'female'],\n",
        "    ['other', 'minor', 'male'],\n",
        "    ['other', 'minor', 'female'],\n",
        "    ['other', 'adult', 'male'],\n",
        "    ['other', 'adult', 'female']\n",
        "]\n",
        "\n",
        "data = [[{'race': d[0], 'age': d[1], 'gender': d[2], 'height': h} for h in s]\n",
        "        for d, s in zip(demographic, height)]\n",
        "data = list(itertools.chain(*data))\n",
        "\n",
        "df = pd.DataFrame(data)\n",
        "df.head()"
      ]
    },
    {
      "cell_type": "code",
      "execution_count": 80,
      "metadata": {},
      "outputs": [
        {
          "data": {
            "text/plain": [
              "[['white', 'child', 'male'],\n",
              " ['white', 'child', 'female'],\n",
              " ['white', 'tenager', 'male'],\n",
              " ['white', 'tenager', 'female'],\n",
              " ['white', 'young-adult', 'male'],\n",
              " ['white', 'young-adult', 'female'],\n",
              " ['white', 'adult', 'male'],\n",
              " ['white', 'adult', 'female'],\n",
              " ['white', 'senior', 'male'],\n",
              " ['white', 'senior', 'female'],\n",
              " ['black', 'child', 'male'],\n",
              " ['black', 'child', 'female'],\n",
              " ['black', 'tenager', 'male'],\n",
              " ['black', 'tenager', 'female'],\n",
              " ['black', 'young-adult', 'male'],\n",
              " ['black', 'young-adult', 'female'],\n",
              " ['black', 'adult', 'male'],\n",
              " ['black', 'adult', 'female'],\n",
              " ['black', 'senior', 'male'],\n",
              " ['black', 'senior', 'female'],\n",
              " ['native', 'child', 'male'],\n",
              " ['native', 'child', 'female'],\n",
              " ['native', 'tenager', 'male'],\n",
              " ['native', 'tenager', 'female'],\n",
              " ['native', 'young-adult', 'male'],\n",
              " ['native', 'young-adult', 'female'],\n",
              " ['native', 'adult', 'male'],\n",
              " ['native', 'adult', 'female'],\n",
              " ['native', 'senior', 'male'],\n",
              " ['native', 'senior', 'female'],\n",
              " ['asian', 'child', 'male'],\n",
              " ['asian', 'child', 'female'],\n",
              " ['asian', 'tenager', 'male'],\n",
              " ['asian', 'tenager', 'female'],\n",
              " ['asian', 'young-adult', 'male'],\n",
              " ['asian', 'young-adult', 'female'],\n",
              " ['asian', 'adult', 'male'],\n",
              " ['asian', 'adult', 'female'],\n",
              " ['asian', 'senior', 'male'],\n",
              " ['asian', 'senior', 'female'],\n",
              " ['pacific-islander', 'child', 'male'],\n",
              " ['pacific-islander', 'child', 'female'],\n",
              " ['pacific-islander', 'tenager', 'male'],\n",
              " ['pacific-islander', 'tenager', 'female'],\n",
              " ['pacific-islander', 'young-adult', 'male'],\n",
              " ['pacific-islander', 'young-adult', 'female'],\n",
              " ['pacific-islander', 'adult', 'male'],\n",
              " ['pacific-islander', 'adult', 'female'],\n",
              " ['pacific-islander', 'senior', 'male'],\n",
              " ['pacific-islander', 'senior', 'female'],\n",
              " ['other', 'child', 'male'],\n",
              " ['other', 'child', 'female'],\n",
              " ['other', 'tenager', 'male'],\n",
              " ['other', 'tenager', 'female'],\n",
              " ['other', 'young-adult', 'male'],\n",
              " ['other', 'young-adult', 'female'],\n",
              " ['other', 'adult', 'male'],\n",
              " ['other', 'adult', 'female'],\n",
              " ['other', 'senior', 'male'],\n",
              " ['other', 'senior', 'female']]"
            ]
          },
          "execution_count": 80,
          "metadata": {},
          "output_type": "execute_result"
        }
      ],
      "source": [
        "races=['white','black','native','asian','pacific-islander','other']\n",
        "genders=['male','female']\n",
        "ages=['child','tenager','young-adult','adult','senior']\n",
        "demographic = [[i, j, k] for i in races for j in ages for k in genders]\n",
        "demographic\n",
        "# demographic ready. \n",
        "\n",
        "# data = pums"
      ]
    },
    {
      "cell_type": "code",
      "execution_count": 81,
      "metadata": {},
      "outputs": [
        {
          "data": {
            "text/html": [
              "<div>\n",
              "<style scoped>\n",
              "    .dataframe tbody tr th:only-of-type {\n",
              "        vertical-align: middle;\n",
              "    }\n",
              "\n",
              "    .dataframe tbody tr th {\n",
              "        vertical-align: top;\n",
              "    }\n",
              "\n",
              "    .dataframe thead th {\n",
              "        text-align: right;\n",
              "    }\n",
              "</style>\n",
              "<table border=\"1\" class=\"dataframe\">\n",
              "  <thead>\n",
              "    <tr style=\"text-align: right;\">\n",
              "      <th></th>\n",
              "      <th>race</th>\n",
              "      <th>age</th>\n",
              "      <th>gender</th>\n",
              "    </tr>\n",
              "  </thead>\n",
              "  <tbody>\n",
              "    <tr>\n",
              "      <th>0</th>\n",
              "      <td>white</td>\n",
              "      <td>adult</td>\n",
              "      <td>male</td>\n",
              "    </tr>\n",
              "    <tr>\n",
              "      <th>1</th>\n",
              "      <td>white</td>\n",
              "      <td>adult</td>\n",
              "      <td>female</td>\n",
              "    </tr>\n",
              "    <tr>\n",
              "      <th>2</th>\n",
              "      <td>white</td>\n",
              "      <td>adult</td>\n",
              "      <td>female</td>\n",
              "    </tr>\n",
              "    <tr>\n",
              "      <th>3</th>\n",
              "      <td>white</td>\n",
              "      <td>adult</td>\n",
              "      <td>male</td>\n",
              "    </tr>\n",
              "    <tr>\n",
              "      <th>4</th>\n",
              "      <td>white</td>\n",
              "      <td>child</td>\n",
              "      <td>female</td>\n",
              "    </tr>\n",
              "    <tr>\n",
              "      <th>5</th>\n",
              "      <td>white</td>\n",
              "      <td>child</td>\n",
              "      <td>male</td>\n",
              "    </tr>\n",
              "    <tr>\n",
              "      <th>6</th>\n",
              "      <td>white</td>\n",
              "      <td>adult</td>\n",
              "      <td>female</td>\n",
              "    </tr>\n",
              "    <tr>\n",
              "      <th>7</th>\n",
              "      <td>white</td>\n",
              "      <td>young-adult</td>\n",
              "      <td>female</td>\n",
              "    </tr>\n",
              "    <tr>\n",
              "      <th>8</th>\n",
              "      <td>white</td>\n",
              "      <td>tenager</td>\n",
              "      <td>female</td>\n",
              "    </tr>\n",
              "    <tr>\n",
              "      <th>9</th>\n",
              "      <td>white</td>\n",
              "      <td>senior</td>\n",
              "      <td>male</td>\n",
              "    </tr>\n",
              "    <tr>\n",
              "      <th>10</th>\n",
              "      <td>white</td>\n",
              "      <td>adult</td>\n",
              "      <td>male</td>\n",
              "    </tr>\n",
              "    <tr>\n",
              "      <th>11</th>\n",
              "      <td>white</td>\n",
              "      <td>adult</td>\n",
              "      <td>female</td>\n",
              "    </tr>\n",
              "    <tr>\n",
              "      <th>12</th>\n",
              "      <td>white</td>\n",
              "      <td>adult</td>\n",
              "      <td>male</td>\n",
              "    </tr>\n",
              "    <tr>\n",
              "      <th>13</th>\n",
              "      <td>white</td>\n",
              "      <td>adult</td>\n",
              "      <td>male</td>\n",
              "    </tr>\n",
              "    <tr>\n",
              "      <th>14</th>\n",
              "      <td>other</td>\n",
              "      <td>young-adult</td>\n",
              "      <td>female</td>\n",
              "    </tr>\n",
              "    <tr>\n",
              "      <th>15</th>\n",
              "      <td>other</td>\n",
              "      <td>adult</td>\n",
              "      <td>female</td>\n",
              "    </tr>\n",
              "    <tr>\n",
              "      <th>16</th>\n",
              "      <td>other</td>\n",
              "      <td>adult</td>\n",
              "      <td>male</td>\n",
              "    </tr>\n",
              "    <tr>\n",
              "      <th>17</th>\n",
              "      <td>asian</td>\n",
              "      <td>senior</td>\n",
              "      <td>male</td>\n",
              "    </tr>\n",
              "    <tr>\n",
              "      <th>18</th>\n",
              "      <td>asian</td>\n",
              "      <td>senior</td>\n",
              "      <td>female</td>\n",
              "    </tr>\n",
              "    <tr>\n",
              "      <th>19</th>\n",
              "      <td>asian</td>\n",
              "      <td>adult</td>\n",
              "      <td>male</td>\n",
              "    </tr>\n",
              "    <tr>\n",
              "      <th>20</th>\n",
              "      <td>white</td>\n",
              "      <td>adult</td>\n",
              "      <td>female</td>\n",
              "    </tr>\n",
              "    <tr>\n",
              "      <th>21</th>\n",
              "      <td>white</td>\n",
              "      <td>adult</td>\n",
              "      <td>male</td>\n",
              "    </tr>\n",
              "    <tr>\n",
              "      <th>22</th>\n",
              "      <td>white</td>\n",
              "      <td>tenager</td>\n",
              "      <td>female</td>\n",
              "    </tr>\n",
              "    <tr>\n",
              "      <th>23</th>\n",
              "      <td>white</td>\n",
              "      <td>tenager</td>\n",
              "      <td>female</td>\n",
              "    </tr>\n",
              "    <tr>\n",
              "      <th>24</th>\n",
              "      <td>white</td>\n",
              "      <td>adult</td>\n",
              "      <td>female</td>\n",
              "    </tr>\n",
              "    <tr>\n",
              "      <th>25</th>\n",
              "      <td>white</td>\n",
              "      <td>adult</td>\n",
              "      <td>male</td>\n",
              "    </tr>\n",
              "    <tr>\n",
              "      <th>26</th>\n",
              "      <td>white</td>\n",
              "      <td>adult</td>\n",
              "      <td>male</td>\n",
              "    </tr>\n",
              "    <tr>\n",
              "      <th>27</th>\n",
              "      <td>other</td>\n",
              "      <td>senior</td>\n",
              "      <td>male</td>\n",
              "    </tr>\n",
              "    <tr>\n",
              "      <th>28</th>\n",
              "      <td>other</td>\n",
              "      <td>adult</td>\n",
              "      <td>female</td>\n",
              "    </tr>\n",
              "    <tr>\n",
              "      <th>29</th>\n",
              "      <td>other</td>\n",
              "      <td>adult</td>\n",
              "      <td>male</td>\n",
              "    </tr>\n",
              "    <tr>\n",
              "      <th>30</th>\n",
              "      <td>other</td>\n",
              "      <td>adult</td>\n",
              "      <td>male</td>\n",
              "    </tr>\n",
              "    <tr>\n",
              "      <th>31</th>\n",
              "      <td>other</td>\n",
              "      <td>tenager</td>\n",
              "      <td>male</td>\n",
              "    </tr>\n",
              "    <tr>\n",
              "      <th>32</th>\n",
              "      <td>other</td>\n",
              "      <td>adult</td>\n",
              "      <td>female</td>\n",
              "    </tr>\n",
              "    <tr>\n",
              "      <th>33</th>\n",
              "      <td>other</td>\n",
              "      <td>adult</td>\n",
              "      <td>male</td>\n",
              "    </tr>\n",
              "    <tr>\n",
              "      <th>34</th>\n",
              "      <td>white</td>\n",
              "      <td>adult</td>\n",
              "      <td>female</td>\n",
              "    </tr>\n",
              "    <tr>\n",
              "      <th>35</th>\n",
              "      <td>white</td>\n",
              "      <td>adult</td>\n",
              "      <td>male</td>\n",
              "    </tr>\n",
              "    <tr>\n",
              "      <th>36</th>\n",
              "      <td>white</td>\n",
              "      <td>tenager</td>\n",
              "      <td>male</td>\n",
              "    </tr>\n",
              "    <tr>\n",
              "      <th>37</th>\n",
              "      <td>white</td>\n",
              "      <td>tenager</td>\n",
              "      <td>female</td>\n",
              "    </tr>\n",
              "    <tr>\n",
              "      <th>38</th>\n",
              "      <td>white</td>\n",
              "      <td>tenager</td>\n",
              "      <td>male</td>\n",
              "    </tr>\n",
              "    <tr>\n",
              "      <th>39</th>\n",
              "      <td>white</td>\n",
              "      <td>senior</td>\n",
              "      <td>female</td>\n",
              "    </tr>\n",
              "    <tr>\n",
              "      <th>40</th>\n",
              "      <td>white</td>\n",
              "      <td>adult</td>\n",
              "      <td>male</td>\n",
              "    </tr>\n",
              "    <tr>\n",
              "      <th>41</th>\n",
              "      <td>other</td>\n",
              "      <td>adult</td>\n",
              "      <td>male</td>\n",
              "    </tr>\n",
              "    <tr>\n",
              "      <th>42</th>\n",
              "      <td>white</td>\n",
              "      <td>senior</td>\n",
              "      <td>female</td>\n",
              "    </tr>\n",
              "    <tr>\n",
              "      <th>43</th>\n",
              "      <td>white</td>\n",
              "      <td>adult</td>\n",
              "      <td>male</td>\n",
              "    </tr>\n",
              "    <tr>\n",
              "      <th>44</th>\n",
              "      <td>white</td>\n",
              "      <td>adult</td>\n",
              "      <td>female</td>\n",
              "    </tr>\n",
              "    <tr>\n",
              "      <th>45</th>\n",
              "      <td>white</td>\n",
              "      <td>adult</td>\n",
              "      <td>male</td>\n",
              "    </tr>\n",
              "    <tr>\n",
              "      <th>46</th>\n",
              "      <td>asian</td>\n",
              "      <td>senior</td>\n",
              "      <td>female</td>\n",
              "    </tr>\n",
              "    <tr>\n",
              "      <th>47</th>\n",
              "      <td>white</td>\n",
              "      <td>senior</td>\n",
              "      <td>male</td>\n",
              "    </tr>\n",
              "    <tr>\n",
              "      <th>48</th>\n",
              "      <td>white</td>\n",
              "      <td>adult</td>\n",
              "      <td>male</td>\n",
              "    </tr>\n",
              "    <tr>\n",
              "      <th>49</th>\n",
              "      <td>white</td>\n",
              "      <td>adult</td>\n",
              "      <td>female</td>\n",
              "    </tr>\n",
              "  </tbody>\n",
              "</table>\n",
              "</div>"
            ],
            "text/plain": [
              "     race          age  gender\n",
              "0   white        adult    male\n",
              "1   white        adult  female\n",
              "2   white        adult  female\n",
              "3   white        adult    male\n",
              "4   white        child  female\n",
              "5   white        child    male\n",
              "6   white        adult  female\n",
              "7   white  young-adult  female\n",
              "8   white      tenager  female\n",
              "9   white       senior    male\n",
              "10  white        adult    male\n",
              "11  white        adult  female\n",
              "12  white        adult    male\n",
              "13  white        adult    male\n",
              "14  other  young-adult  female\n",
              "15  other        adult  female\n",
              "16  other        adult    male\n",
              "17  asian       senior    male\n",
              "18  asian       senior  female\n",
              "19  asian        adult    male\n",
              "20  white        adult  female\n",
              "21  white        adult    male\n",
              "22  white      tenager  female\n",
              "23  white      tenager  female\n",
              "24  white        adult  female\n",
              "25  white        adult    male\n",
              "26  white        adult    male\n",
              "27  other       senior    male\n",
              "28  other        adult  female\n",
              "29  other        adult    male\n",
              "30  other        adult    male\n",
              "31  other      tenager    male\n",
              "32  other        adult  female\n",
              "33  other        adult    male\n",
              "34  white        adult  female\n",
              "35  white        adult    male\n",
              "36  white      tenager    male\n",
              "37  white      tenager  female\n",
              "38  white      tenager    male\n",
              "39  white       senior  female\n",
              "40  white        adult    male\n",
              "41  other        adult    male\n",
              "42  white       senior  female\n",
              "43  white        adult    male\n",
              "44  white        adult  female\n",
              "45  white        adult    male\n",
              "46  asian       senior  female\n",
              "47  white       senior    male\n",
              "48  white        adult    male\n",
              "49  white        adult  female"
            ]
          },
          "execution_count": 81,
          "metadata": {},
          "output_type": "execute_result"
        }
      ],
      "source": [
        "col_list = [\"race\", \"age\", \"sex\"]\n",
        "df = pd.read_csv(\"CA-data\\\\pums\\\\temp_pums.csv\", usecols=col_list)\n",
        "df = df.rename(columns={'sex': 'gender'})\n",
        "df=df[[\"race\", \"age\", \"gender\"]]\n",
        "# np.random.seed(37)\n",
        "# random.seed(37)\n",
        "# df['height']=np.random.uniform(size=len(df),low=4.5,high=6.7)\n",
        "df.head(50)"
      ]
    },
    {
      "cell_type": "code",
      "execution_count": 82,
      "metadata": {},
      "outputs": [],
      "source": [
        "import pandas as pd\n",
        "import matplotlib.pyplot as plt\n",
        "def plot_percentage(col):\n",
        "    global df\n",
        "    # Count the frequencies of different values in the column\n",
        "    value_counts = df[col].value_counts()\n",
        "\n",
        "    # Calculate the percentages\n",
        "    percentages = (value_counts / len(df)) * 100\n",
        "\n",
        "    # Create a bar plot of the percentages\n",
        "    plt.bar(percentages.index, percentages.values)\n",
        "\n",
        "    # Set the labels and title\n",
        "    plt.xlabel('Values')\n",
        "    plt.ylabel('Percentage')\n",
        "    plt.title('Percentage of '+col+'s in Column')\n",
        "\n",
        "    # Rotate the x-axis labels if needed\n",
        "    plt.xticks(rotation=90)\n",
        "\n",
        "    # Display the plot\n",
        "    plt.show()"
      ]
    },
    {
      "cell_type": "code",
      "execution_count": 83,
      "metadata": {},
      "outputs": [
        {
          "data": {
            "text/plain": [
              "asian               0.155002\n",
              "black               0.049501\n",
              "native              0.009594\n",
              "other               0.167348\n",
              "pacific-islander    0.003324\n",
              "white               0.615231\n",
              "Name: race, dtype: float64"
            ]
          },
          "execution_count": 83,
          "metadata": {},
          "output_type": "execute_result"
        }
      ],
      "source": [
        "df.race.value_counts().sort_index() / df.shape[0]"
      ]
    },
    {
      "cell_type": "code",
      "execution_count": 84,
      "metadata": {},
      "outputs": [
        {
          "data": {
            "image/png": "[encoded data removed]",
            "text/plain": [
              "<Figure size 640x480 with 1 Axes>"
            ]
          },
          "metadata": {},
          "output_type": "display_data"
        }
      ],
      "source": [
        "plot_percentage('race')"
      ]
    },
    {
      "cell_type": "code",
      "execution_count": 85,
      "metadata": {},
      "outputs": [
        {
          "data": {
            "text/plain": [
              "adult          0.449458\n",
              "child          0.061857\n",
              "senior         0.237363\n",
              "tenager        0.160665\n",
              "young-adult    0.090657\n",
              "Name: age, dtype: float64"
            ]
          },
          "execution_count": 85,
          "metadata": {},
          "output_type": "execute_result"
        }
      ],
      "source": [
        "df.age.value_counts().sort_index() / df.shape[0]"
      ]
    },
    {
      "cell_type": "code",
      "execution_count": 86,
      "metadata": {},
      "outputs": [
        {
          "data": {
            "image/png": "[encoded data removed]",
            "text/plain": [
              "<Figure size 640x480 with 1 Axes>"
            ]
          },
          "metadata": {},
          "output_type": "display_data"
        }
      ],
      "source": [
        "plot_percentage('age')"
      ]
    },
    {
      "cell_type": "code",
      "execution_count": 87,
      "metadata": {},
      "outputs": [
        {
          "data": {
            "text/plain": [
              "female    0.506828\n",
              "male      0.493172\n",
              "Name: gender, dtype: float64"
            ]
          },
          "execution_count": 87,
          "metadata": {},
          "output_type": "execute_result"
        }
      ],
      "source": [
        "df.gender.value_counts().sort_index() / df.shape[0]"
      ]
    },
    {
      "cell_type": "code",
      "execution_count": 88,
      "metadata": {},
      "outputs": [
        {
          "data": {
            "image/png": "[encoded data removed]",
            "text/plain": [
              "<Figure size 640x480 with 1 Axes>"
            ]
          },
          "metadata": {},
          "output_type": "display_data"
        }
      ],
      "source": [
        "plot_percentage('gender')"
      ]
    },
    {
      "cell_type": "code",
      "execution_count": 89,
      "metadata": {},
      "outputs": [],
      "source": [
        "def get_target_marginals(d):\n",
        "    factors = list(d.keys())\n",
        "    targets = [sorted([(k2, v2) for k2, v2 in v.items()]) for k, v in d.items()]\n",
        "    targets = np.array([[v for _, v in item] for item in targets])\n",
        "    print(\"inside func\",type(targets))\n",
        "    return factors, targets\n",
        "\n",
        "def get_table(df, targets):\n",
        "    factors, target_marginals = get_target_marginals(targets)\n",
        "\n",
        "    cross_tab = pd.crosstab(df[factors[0]], [df[c] for c in factors[1:]])\n",
        "    shape = tuple([df[c].unique().shape[0] for c in factors])\n",
        "    table = cross_tab.values.reshape(shape)\n",
        "\n",
        "    return factors, target_marginals, table\n",
        "\n",
        "\n"
      ]
    },
    {
      "attachments": {},
      "cell_type": "markdown",
      "metadata": {},
      "source": [
        "Loading data from census"
      ]
    },
    {
      "cell_type": "code",
      "execution_count": 90,
      "metadata": {},
      "outputs": [
        {
          "data": {
            "text/html": [
              "<div>\n",
              "<style scoped>\n",
              "    .dataframe tbody tr th:only-of-type {\n",
              "        vertical-align: middle;\n",
              "    }\n",
              "\n",
              "    .dataframe tbody tr th {\n",
              "        vertical-align: top;\n",
              "    }\n",
              "\n",
              "    .dataframe thead th {\n",
              "        text-align: right;\n",
              "    }\n",
              "</style>\n",
              "<table border=\"1\" class=\"dataframe\">\n",
              "  <thead>\n",
              "    <tr style=\"text-align: right;\">\n",
              "      <th></th>\n",
              "      <th>topic</th>\n",
              "      <th>category</th>\n",
              "      <th>sub-category</th>\n",
              "      <th>id</th>\n",
              "      <th>value</th>\n",
              "    </tr>\n",
              "  </thead>\n",
              "  <tbody>\n",
              "    <tr>\n",
              "      <th>0</th>\n",
              "      <td>CITIZEN, VOTING AGE POPULATION</td>\n",
              "      <td>Citizen, 18 and over population</td>\n",
              "      <td>Female</td>\n",
              "      <td>DP05_0089E</td>\n",
              "      <td>12982938.0</td>\n",
              "    </tr>\n",
              "    <tr>\n",
              "      <th>1</th>\n",
              "      <td>CITIZEN, VOTING AGE POPULATION</td>\n",
              "      <td>Citizen, 18 and over population</td>\n",
              "      <td>Male</td>\n",
              "      <td>DP05_0088E</td>\n",
              "      <td>12511445.0</td>\n",
              "    </tr>\n",
              "    <tr>\n",
              "      <th>2</th>\n",
              "      <td>CITIZEN, VOTING AGE POPULATION</td>\n",
              "      <td>Citizen, 18 and over population</td>\n",
              "      <td>NaN</td>\n",
              "      <td>DP05_0087E</td>\n",
              "      <td>25494383.0</td>\n",
              "    </tr>\n",
              "    <tr>\n",
              "      <th>3</th>\n",
              "      <td>HISPANIC OR LATINO AND RACE</td>\n",
              "      <td>Total population</td>\n",
              "      <td>Hispanic or Latino (of any race)</td>\n",
              "      <td>DP05_0071E</td>\n",
              "      <td>15327688.0</td>\n",
              "    </tr>\n",
              "    <tr>\n",
              "      <th>4</th>\n",
              "      <td>HISPANIC OR LATINO AND RACE</td>\n",
              "      <td>Total population</td>\n",
              "      <td>Hispanic or Latino (of any race)</td>\n",
              "      <td>DP05_0072E</td>\n",
              "      <td>12687312.0</td>\n",
              "    </tr>\n",
              "    <tr>\n",
              "      <th>...</th>\n",
              "      <td>...</td>\n",
              "      <td>...</td>\n",
              "      <td>...</td>\n",
              "      <td>...</td>\n",
              "      <td>...</td>\n",
              "    </tr>\n",
              "    <tr>\n",
              "      <th>84</th>\n",
              "      <td>SEX AND AGE</td>\n",
              "      <td>Total population</td>\n",
              "      <td>Sex ratio (males per 100 females)</td>\n",
              "      <td>DP05_0004E</td>\n",
              "      <td>98.8</td>\n",
              "    </tr>\n",
              "    <tr>\n",
              "      <th>85</th>\n",
              "      <td>SEX AND AGE</td>\n",
              "      <td>Total population</td>\n",
              "      <td>Under 18 years</td>\n",
              "      <td>DP05_0019E</td>\n",
              "      <td>9022146.0</td>\n",
              "    </tr>\n",
              "    <tr>\n",
              "      <th>86</th>\n",
              "      <td>SEX AND AGE</td>\n",
              "      <td>Total population</td>\n",
              "      <td>Under 5 years</td>\n",
              "      <td>DP05_0005E</td>\n",
              "      <td>2451528.0</td>\n",
              "    </tr>\n",
              "    <tr>\n",
              "      <th>87</th>\n",
              "      <td>SEX AND AGE</td>\n",
              "      <td>Total population</td>\n",
              "      <td>NaN</td>\n",
              "      <td>DP05_0001E</td>\n",
              "      <td>39283497.0</td>\n",
              "    </tr>\n",
              "    <tr>\n",
              "      <th>88</th>\n",
              "      <td>Total housing units</td>\n",
              "      <td>NaN</td>\n",
              "      <td>NaN</td>\n",
              "      <td>DP05_0086E</td>\n",
              "      <td>14175976.0</td>\n",
              "    </tr>\n",
              "  </tbody>\n",
              "</table>\n",
              "<p>89 rows × 5 columns</p>\n",
              "</div>"
            ],
            "text/plain": [
              "                             topic                         category  \\\n",
              "0   CITIZEN, VOTING AGE POPULATION  Citizen, 18 and over population   \n",
              "1   CITIZEN, VOTING AGE POPULATION  Citizen, 18 and over population   \n",
              "2   CITIZEN, VOTING AGE POPULATION  Citizen, 18 and over population   \n",
              "3      HISPANIC OR LATINO AND RACE                 Total population   \n",
              "4      HISPANIC OR LATINO AND RACE                 Total population   \n",
              "..                             ...                              ...   \n",
              "84                     SEX AND AGE                 Total population   \n",
              "85                     SEX AND AGE                 Total population   \n",
              "86                     SEX AND AGE                 Total population   \n",
              "87                     SEX AND AGE                 Total population   \n",
              "88             Total housing units                              NaN   \n",
              "\n",
              "                         sub-category          id       value  \n",
              "0                              Female  DP05_0089E  12982938.0  \n",
              "1                                Male  DP05_0088E  12511445.0  \n",
              "2                                 NaN  DP05_0087E  25494383.0  \n",
              "3    Hispanic or Latino (of any race)  DP05_0071E  15327688.0  \n",
              "4    Hispanic or Latino (of any race)  DP05_0072E  12687312.0  \n",
              "..                                ...         ...         ...  \n",
              "84  Sex ratio (males per 100 females)  DP05_0004E        98.8  \n",
              "85                     Under 18 years  DP05_0019E   9022146.0  \n",
              "86                      Under 5 years  DP05_0005E   2451528.0  \n",
              "87                                NaN  DP05_0001E  39283497.0  \n",
              "88                                NaN  DP05_0086E  14175976.0  \n",
              "\n",
              "[89 rows x 5 columns]"
            ]
          },
          "execution_count": 90,
          "metadata": {},
          "output_type": "execute_result"
        }
      ],
      "source": [
        "#ddg = demographic_data_groups\n",
        "ddg=pd.read_csv(\"CA-data\\\\census\\\\temp_demographic.csv\")\n",
        "\n",
        "ddg"
      ]
    },
    {
      "cell_type": "code",
      "execution_count": 91,
      "metadata": {},
      "outputs": [
        {
          "data": {
            "text/plain": [
              "{'race': {'white': 25048942.0,\n",
              "  'black': 2766478.0,\n",
              "  'native': 762733.0,\n",
              "  'asian': 6551732.0,\n",
              "  'pacific-islander': 323042.0,\n",
              "  'other': 5944874.0},\n",
              " 'age': {'child': 2451528.0,\n",
              "  'tenager': 7608859.0,\n",
              "  'young-adult': 2751567.0,\n",
              "  'adult': 18748401.0,\n",
              "  'senior': 7723142.0},\n",
              " 'gender': {'male': 19526298.0, 'female': 19757199.0}}"
            ]
          },
          "execution_count": 91,
          "metadata": {},
          "output_type": "execute_result"
        }
      ],
      "source": [
        "temp_race = {'white': 'DP05_0064E', 'black': 'DP05_0065E', 'native': 'DP05_0066E',\n",
        "             'asian': 'DP05_0067E', 'pacific-islander': 'DP05_0068E', 'other': 'DP05_0069E'}\n",
        "temp_sex = {'male': 'DP05_0002E', 'female': 'DP05_0003E'}\n",
        "temp_age = {\n",
        "    'child': ddg.loc[ddg['id'] == 'DP05_0005E', 'value'].values[0],\n",
        "    'tenager': ddg.loc[ddg['id'] == 'DP05_0006E', 'value'].values[0]+ddg.loc[ddg['id'] == 'DP05_0007E', 'value'].values[0]+ddg.loc[ddg['id'] == 'DP05_0008E', 'value'].values[0],\n",
        "    'young-adult': ddg.loc[ddg['id'] == 'DP05_0009E', 'value'].values[0],\n",
        "    'adult': ddg.loc[ddg['id'] == 'DP05_0010E', 'value'].values[0]+ddg.loc[ddg['id'] == 'DP05_0011E', 'value'].values[0]+ddg.loc[ddg['id'] == 'DP05_0012E', 'value'].values[0]+ddg.loc[ddg['id'] == 'DP05_0013E', 'value'].values[0],\n",
        "    'senior': ddg.loc[ddg['id'] == 'DP05_0014E', 'value'].values[0]+ddg.loc[ddg['id'] == 'DP05_0015E', 'value'].values[0]+ddg.loc[ddg['id'] == 'DP05_0016E', 'value'].values[0]+ddg.loc[ddg['id'] == 'DP05_0017E', 'value'].values[0]\n",
        "}\n",
        "margin_dict = {\n",
        "    'race': {key: ddg.loc[ddg['id'] == value, 'value'].values[0] for key, value in temp_race.items()},\n",
        "    'age': temp_age,\n",
        "    'gender': {key: ddg.loc[ddg['id'] == value, 'value'].values[0] for key, value in temp_sex.items()}\n",
        "}\n",
        "# ddg.columns\n",
        "# df = pd.read_csv(\"CA-data\\\\pums\\\\temp_pums.csv\", usecols=col_list)\n",
        "margin_dict\n"
      ]
    },
    {
      "cell_type": "code",
      "execution_count": 92,
      "metadata": {},
      "outputs": [
        {
          "name": "stderr",
          "output_type": "stream",
          "text": [
            "C:\\Users\\abubabu\\AppData\\Local\\Temp\\ipykernel_11420\\3208024245.py:4: VisibleDeprecationWarning: Creating an ndarray from ragged nested sequences (which is a list-or-tuple of lists-or-tuples-or ndarrays with different lengths or shapes) is deprecated. If you meant to do this, you must specify 'dtype=object' when creating the ndarray.\n",
            "  targets = np.array([[v for _, v in item] for item in targets])\n"
          ]
        },
        {
          "name": "stdout",
          "output_type": "stream",
          "text": [
            "inside func <class 'numpy.ndarray'>\n"
          ]
        }
      ],
      "source": [
        "#create this table after sehri (get vlaues from census)\n",
        "# f, u, X = get_table(df, {\n",
        "#     'race': {'white': 5800, 'other': 4200},\n",
        "#     'age': {'minor': 2800, 'adult': 7200},\n",
        "#     'gender': {'male': 4900, 'female': 5100}\n",
        "# })\n",
        "f, u, X = get_table(df, margin_dict)"
      ]
    },
    {
      "cell_type": "code",
      "execution_count": 93,
      "metadata": {},
      "outputs": [
        {
          "data": {
            "text/plain": [
              "(6, 5, 2)"
            ]
          },
          "execution_count": 93,
          "metadata": {},
          "output_type": "execute_result"
        }
      ],
      "source": [
        "X.shape"
      ]
    },
    {
      "cell_type": "code",
      "execution_count": 94,
      "metadata": {},
      "outputs": [
        {
          "data": {
            "text/plain": [
              "numpy.ndarray"
            ]
          },
          "execution_count": 94,
          "metadata": {},
          "output_type": "execute_result"
        }
      ],
      "source": [
        "type(X)"
      ]
    },
    {
      "cell_type": "code",
      "execution_count": 95,
      "metadata": {},
      "outputs": [
        {
          "name": "stdout",
          "output_type": "stream",
          "text": [
            "<class 'numpy.ndarray'>\n",
            "<class 'numpy.float64'>\n",
            "<class 'numpy.float64'>\n",
            "<class 'numpy.float64'>\n",
            "<class 'numpy.float64'>\n",
            "<class 'numpy.float64'>\n",
            "<class 'numpy.float64'>\n",
            "<class 'numpy.ndarray'>\n",
            "<class 'numpy.float64'>\n",
            "<class 'numpy.float64'>\n",
            "<class 'numpy.float64'>\n",
            "<class 'numpy.float64'>\n",
            "<class 'numpy.float64'>\n",
            "<class 'numpy.ndarray'>\n",
            "<class 'numpy.float64'>\n",
            "<class 'numpy.float64'>\n"
          ]
        }
      ],
      "source": [
        "for i in u:\n",
        "    i=np.array(i)\n",
        "    print(type(i))\n",
        "    for j in i :\n",
        "        print(type(j))"
      ]
    },
    {
      "attachments": {},
      "cell_type": "markdown",
      "metadata": {},
      "source": [
        "X = contigency table\\\n",
        "u = target marginals\\\n",
        "f = helper vector"
      ]
    },
    {
      "cell_type": "code",
      "execution_count": 96,
      "metadata": {},
      "outputs": [
        {
          "data": {
            "text/plain": [
              "array([[[ 77445,  66742],\n",
              "        [  7425,   7980],\n",
              "        [ 37571,  29021],\n",
              "        [ 19800,  20902],\n",
              "        [ 12627,  13047]],\n",
              "\n",
              "       [[ 20684,  22054],\n",
              "        [  2383,   2435],\n",
              "        [ 12548,   9971],\n",
              "        [  6689,   7353],\n",
              "        [  4219,   5096]],\n",
              "\n",
              "       [[  4074,   4166],\n",
              "        [   613,    596],\n",
              "        [  1995,   1648],\n",
              "        [  1592,   1703],\n",
              "        [   825,    897]],\n",
              "\n",
              "       [[ 69512,  70587],\n",
              "        [ 14692,  15256],\n",
              "        [ 18566,  15705],\n",
              "        [ 35630,  37630],\n",
              "        [ 18625,  19660]],\n",
              "\n",
              "       [[  1556,   1536],\n",
              "        [   192,    199],\n",
              "        [   560,    474],\n",
              "        [   516,    493],\n",
              "        [   353,    394]],\n",
              "\n",
              "       [[253536, 256443],\n",
              "        [ 31668,  33313],\n",
              "        [171761, 148193],\n",
              "        [ 83393,  87548],\n",
              "        [ 45569,  49800]]], dtype=int64)"
            ]
          },
          "execution_count": 96,
          "metadata": {},
          "output_type": "execute_result"
        }
      ],
      "source": [
        "X"
      ]
    },
    {
      "cell_type": "code",
      "execution_count": 97,
      "metadata": {},
      "outputs": [],
      "source": [
        "def get_coordinates(M):\n",
        "    return list(itertools.product(*[list(range(n)) for n in M.shape]))\n",
        "\n",
        "def get_marginals(M, i):\n",
        "    coordinates = get_coordinates(M)\n",
        "\n",
        "    key = lambda tup: tup[0]\n",
        "    counts = [(c[i], M[c]) for c in coordinates]\n",
        "    counts = sorted(counts, key=key)\n",
        "    counts = itertools.groupby(counts, key=key)\n",
        "    counts = {k: sum([v[1] for v in g]) for k, g in counts}\n",
        "\n",
        "    return counts\n",
        "\n",
        "def get_all_marginals(M):\n",
        "    return np.array([[v for _, v in get_marginals(M, i).items()]\n",
        "                     for i in range(len(M.shape))])\n",
        "\n",
        "def get_counts(M, i):\n",
        "    coordinates = get_coordinates(M)\n",
        "\n",
        "    key = lambda tup: tup[0]\n",
        "    counts = [(c[i], M[c], c) for c in coordinates]\n",
        "    counts = sorted(counts, key=key)\n",
        "    counts = itertools.groupby(counts, key=key)\n",
        "    counts = {k: [(tup[1], tup[2]) for tup in g] for k, g in counts}\n",
        "\n",
        "    return counts\n",
        "\n",
        "def update_values(M, i, u):\n",
        "    marg = get_marginals(M, i)\n",
        "    vals = get_counts(M, i)\n",
        "\n",
        "    d = [[(c, n * u[k] / marg[k]) for n, c in v] for k, v in vals.items()]\n",
        "    d = itertools.chain(*d)\n",
        "    d = list(d)\n",
        "\n",
        "    return d\n",
        "\n",
        "def ipf_update(M, u):\n",
        "    for i in range(len(M.shape)):\n",
        "        values = update_values(M, i, u[i])\n",
        "        for idx, v in values:\n",
        "            M[idx] = v\n",
        "\n",
        "    o = get_all_marginals(M)\n",
        "    d = get_deltas(o, u)\n",
        "\n",
        "    return M, d\n",
        "\n",
        "def get_deltas(o, t):\n",
        "    return np.array([np.linalg.norm(np.array(o[r]) - np.array(t[r]), 2) for r in range(o.shape[0])])\n",
        "\n",
        "def get_weights(X, max_iters=50, zero_threshold=0.0001, convergence_threshold=3, debug=True):\n",
        "    M = X.copy()\n",
        "\n",
        "    d_prev = np.zeros(len(M.shape))\n",
        "    count_zero = 0\n",
        "\n",
        "    for _ in range(max_iters):\n",
        "        M, d_next = ipf_update(M, u)\n",
        "        d = np.linalg.norm(d_prev - d_next, 2)\n",
        "\n",
        "        if d < zero_threshold:\n",
        "            count_zero += 1\n",
        "\n",
        "        if debug:\n",
        "            print(','.join([f'{v:.5f}' for v in d_next]), d)\n",
        "        d_prev = d_next\n",
        "\n",
        "        if count_zero >= convergence_threshold:\n",
        "            break\n",
        "\n",
        "    w = M / M.sum()\n",
        "    return w"
      ]
    },
    {
      "cell_type": "code",
      "execution_count": 98,
      "metadata": {},
      "outputs": [
        {
          "name": "stdout",
          "output_type": "stream",
          "text": [
            "1517960.09356,2959.40180,19.10497 1517962.9784849826\n",
            "1367226.17898,22.78157,19.10497 150762.51769941204\n",
            "1364798.70298,11.22497,9.89949 2427.5209611659225\n",
            "1364746.68116,9.74679,10.63015 52.047944024182385\n",
            "1364744.81971,9.21954,10.63015 1.9346769677412445\n",
            "1364743.85961,9.27362,9.89949 1.2077127865719983\n",
            "1364744.05354,8.60233,9.89949 0.6987438251441691\n",
            "1364744.27018,8.12404,9.89949 0.5250620957126029\n",
            "1364744.98509,7.07107,9.89949 1.2727324959363593\n",
            "1364745.00154,8.71780,9.89949 1.6468122802713852\n",
            "1364745.13110,7.93725,9.21954 1.0432482718205889\n",
            "1364746.85110,7.14143,9.21954 1.8951814593863647\n",
            "1364745.45128,9.89949,9.89949 3.166821207476616\n",
            "1364746.45636,7.87401,9.89949 2.261145926895392\n",
            "1364747.78265,7.28011,9.21954 1.6044003529182718\n",
            "1364750.13778,6.70820,9.21954 2.423575135467839\n",
            "1364750.91559,6.48074,8.48528 1.0935579234900357\n",
            "1364749.45721,5.91608,7.81025 1.7033456798774165\n",
            "1364749.58929,6.70820,9.21954 1.6220413476152238\n",
            "1364749.56074,5.83095,8.48528 1.1443462699244957\n",
            "1364748.06323,8.06226,9.21954 2.785752782747523\n",
            "1364748.79355,6.16441,8.48528 2.162018778457711\n",
            "1364748.80564,7.00000,9.21954 1.1124263951942948\n",
            "1364747.86825,5.83095,8.48528 1.66868850658994\n",
            "1364748.18843,6.70820,9.21954 1.1879503580835835\n",
            "1364748.64754,6.24500,9.21954 0.6521819491484109\n",
            "1364747.50560,6.55744,9.21954 1.1839096243500555\n",
            "1364747.52205,6.24500,9.21954 0.3128734615635853\n",
            "1364748.68044,6.55744,9.21954 1.1997891579258835\n",
            "1364748.90292,8.60233,9.89949 2.1664235224934503\n",
            "1364748.16530,7.07107,9.89949 1.6996576427529717\n",
            "1364748.63503,6.24500,9.21954 1.1684891882953263\n",
            "1364748.41255,5.83095,8.48528 0.8718217881878961\n",
            "1364749.12746,5.83095,8.48528 0.7149154639337212\n",
            "1364749.37265,6.24500,9.21954 0.8778912332371048\n",
            "1364749.15017,6.16441,8.48528 0.7714480729095067\n",
            "1364750.00674,5.83095,8.48528 0.9191897038967655\n",
            "1364749.26912,6.48074,8.48528 0.983015750456295\n",
            "1364749.88050,5.19615,7.81025 1.5746821377731888\n",
            "1364749.98403,6.16441,8.48528 1.1848702426399835\n",
            "1364749.98403,6.16441,8.48528 0.0\n",
            "1364749.98403,6.16441,8.48528 0.0\n",
            "1364749.98403,6.16441,8.48528 0.0\n"
          ]
        },
        {
          "name": "stderr",
          "output_type": "stream",
          "text": [
            "C:\\Users\\abubabu\\AppData\\Local\\Temp\\ipykernel_11420\\1911528441.py:16: VisibleDeprecationWarning: Creating an ndarray from ragged nested sequences (which is a list-or-tuple of lists-or-tuples-or ndarrays with different lengths or shapes) is deprecated. If you meant to do this, you must specify 'dtype=object' when creating the ndarray.\n",
            "  return np.array([[v for _, v in get_marginals(M, i).items()]\n"
          ]
        }
      ],
      "source": [
        "w = get_weights(X)"
      ]
    },
    {
      "cell_type": "code",
      "execution_count": 99,
      "metadata": {},
      "outputs": [
        {
          "data": {
            "text/plain": [
              "array([[[0.04419027, 0.03841892],\n",
              "        [0.00410221, 0.00444795],\n",
              "        [0.01655553, 0.01290084],\n",
              "        [0.01300959, 0.01385475],\n",
              "        [0.0052795 , 0.0055032 ]],\n",
              "\n",
              "       [[0.0156757 , 0.01686095],\n",
              "        [0.00174862, 0.00180254],\n",
              "        [0.0073438 , 0.00588698],\n",
              "        [0.00583726, 0.0064731 ],\n",
              "        [0.00234269, 0.00285491]],\n",
              "\n",
              "       [[0.0043253 , 0.004462  ],\n",
              "        [0.00063001, 0.00061772],\n",
              "        [0.0016355 , 0.00136263],\n",
              "        [0.00194601, 0.00209999],\n",
              "        [0.00064136, 0.00070378]],\n",
              "\n",
              "       [[0.03226847, 0.03305641],\n",
              "        [0.00660417, 0.0069182 ],\n",
              "        [0.00665567, 0.00567946],\n",
              "        [0.01904627, 0.02029257],\n",
              "        [0.00633566, 0.00674668]],\n",
              "\n",
              "       [[0.00202294, 0.00201441],\n",
              "        [0.00024122, 0.00025255],\n",
              "        [0.00056189, 0.00047959],\n",
              "        [0.00077218, 0.00074426],\n",
              "        [0.00033582, 0.00037838]],\n",
              "\n",
              "       [[0.14054952, 0.14341411],\n",
              "        [0.01699997, 0.01804084],\n",
              "        [0.07353459, 0.06400374],\n",
              "        [0.05323499, 0.05637998],\n",
              "        [0.01851218, 0.02040965]]])"
            ]
          },
          "execution_count": 99,
          "metadata": {},
          "output_type": "execute_result"
        }
      ],
      "source": [
        "w"
      ]
    },
    {
      "cell_type": "markdown",
      "metadata": {},
      "source": []
    },
    {
      "attachments": {},
      "cell_type": "markdown",
      "metadata": {},
      "source": [
        "<b> Sampling </b>"
      ]
    },
    {
      "cell_type": "code",
      "execution_count": 100,
      "metadata": {},
      "outputs": [
        {
          "data": {
            "text/html": [
              "<div>\n",
              "<style scoped>\n",
              "    .dataframe tbody tr th:only-of-type {\n",
              "        vertical-align: middle;\n",
              "    }\n",
              "\n",
              "    .dataframe tbody tr th {\n",
              "        vertical-align: top;\n",
              "    }\n",
              "\n",
              "    .dataframe thead th {\n",
              "        text-align: right;\n",
              "    }\n",
              "</style>\n",
              "<table border=\"1\" class=\"dataframe\">\n",
              "  <thead>\n",
              "    <tr style=\"text-align: right;\">\n",
              "      <th></th>\n",
              "      <th>race</th>\n",
              "      <th>age</th>\n",
              "      <th>gender</th>\n",
              "    </tr>\n",
              "  </thead>\n",
              "  <tbody>\n",
              "    <tr>\n",
              "      <th>1321244</th>\n",
              "      <td>white</td>\n",
              "      <td>adult</td>\n",
              "      <td>male</td>\n",
              "    </tr>\n",
              "    <tr>\n",
              "      <th>1710407</th>\n",
              "      <td>asian</td>\n",
              "      <td>senior</td>\n",
              "      <td>female</td>\n",
              "    </tr>\n",
              "    <tr>\n",
              "      <th>1429022</th>\n",
              "      <td>asian</td>\n",
              "      <td>adult</td>\n",
              "      <td>female</td>\n",
              "    </tr>\n",
              "    <tr>\n",
              "      <th>221607</th>\n",
              "      <td>white</td>\n",
              "      <td>adult</td>\n",
              "      <td>male</td>\n",
              "    </tr>\n",
              "    <tr>\n",
              "      <th>1573344</th>\n",
              "      <td>white</td>\n",
              "      <td>adult</td>\n",
              "      <td>female</td>\n",
              "    </tr>\n",
              "    <tr>\n",
              "      <th>...</th>\n",
              "      <td>...</td>\n",
              "      <td>...</td>\n",
              "      <td>...</td>\n",
              "    </tr>\n",
              "    <tr>\n",
              "      <th>1824151</th>\n",
              "      <td>black</td>\n",
              "      <td>adult</td>\n",
              "      <td>female</td>\n",
              "    </tr>\n",
              "    <tr>\n",
              "      <th>956259</th>\n",
              "      <td>other</td>\n",
              "      <td>adult</td>\n",
              "      <td>male</td>\n",
              "    </tr>\n",
              "    <tr>\n",
              "      <th>20268</th>\n",
              "      <td>white</td>\n",
              "      <td>adult</td>\n",
              "      <td>male</td>\n",
              "    </tr>\n",
              "    <tr>\n",
              "      <th>71076</th>\n",
              "      <td>white</td>\n",
              "      <td>adult</td>\n",
              "      <td>male</td>\n",
              "    </tr>\n",
              "    <tr>\n",
              "      <th>788374</th>\n",
              "      <td>white</td>\n",
              "      <td>adult</td>\n",
              "      <td>male</td>\n",
              "    </tr>\n",
              "  </tbody>\n",
              "</table>\n",
              "<p>10000 rows × 3 columns</p>\n",
              "</div>"
            ],
            "text/plain": [
              "          race     age  gender\n",
              "1321244  white   adult    male\n",
              "1710407  asian  senior  female\n",
              "1429022  asian   adult  female\n",
              "221607   white   adult    male\n",
              "1573344  white   adult  female\n",
              "...        ...     ...     ...\n",
              "1824151  black   adult  female\n",
              "956259   other   adult    male\n",
              "20268    white   adult    male\n",
              "71076    white   adult    male\n",
              "788374   white   adult    male\n",
              "\n",
              "[10000 rows x 3 columns]"
            ]
          },
          "execution_count": 100,
          "metadata": {},
          "output_type": "execute_result"
        }
      ],
      "source": [
        "import functools\n",
        "\n",
        "def get_sampling_weights(df, f, w):\n",
        "    get_filters = lambda df, fields, values: [df[f] == v for f, v in zip(fields, values)]\n",
        "    get_total = lambda df, fields, values: df[functools.reduce(lambda a, b: a & b, get_filters(df, fields, values))].shape[0]\n",
        "\n",
        "    return {k: v / get_total(df, f, k) for k, v in zip(list(itertools.product(*[sorted(df[c].unique()) for c in f])), np.ravel(w))}\n",
        "\n",
        "def get_samples(df, f, w, n=10_000):\n",
        "    weights = get_sampling_weights(df, f, w)\n",
        "    s = df.apply(lambda r: weights[tuple([r[c] for c in f])], axis=1)\n",
        "    return df.sample(n=n, replace=True, weights=s)\n",
        "\n",
        "sample_df = get_samples(df, f, w)\n",
        "sample_df"
      ]
    },
    {
      "cell_type": "code",
      "execution_count": 101,
      "metadata": {},
      "outputs": [
        {
          "data": {
            "text/plain": [
              "['race', 'age', 'gender']"
            ]
          },
          "execution_count": 101,
          "metadata": {},
          "output_type": "execute_result"
        }
      ],
      "source": [
        "f"
      ]
    },
    {
      "attachments": {},
      "cell_type": "markdown",
      "metadata": {},
      "source": [
        "Cross-tabulation of resulting sampled matrix"
      ]
    },
    {
      "cell_type": "code",
      "execution_count": 102,
      "metadata": {},
      "outputs": [
        {
          "data": {
            "text/html": [
              "<div>\n",
              "<style scoped>\n",
              "    .dataframe tbody tr th:only-of-type {\n",
              "        vertical-align: middle;\n",
              "    }\n",
              "\n",
              "    .dataframe tbody tr th {\n",
              "        vertical-align: top;\n",
              "    }\n",
              "\n",
              "    .dataframe thead tr th {\n",
              "        text-align: left;\n",
              "    }\n",
              "\n",
              "    .dataframe thead tr:last-of-type th {\n",
              "        text-align: right;\n",
              "    }\n",
              "</style>\n",
              "<table border=\"1\" class=\"dataframe\">\n",
              "  <thead>\n",
              "    <tr>\n",
              "      <th>age</th>\n",
              "      <th colspan=\"2\" halign=\"left\">adult</th>\n",
              "      <th colspan=\"2\" halign=\"left\">child</th>\n",
              "      <th colspan=\"2\" halign=\"left\">senior</th>\n",
              "      <th colspan=\"2\" halign=\"left\">tenager</th>\n",
              "      <th colspan=\"2\" halign=\"left\">young-adult</th>\n",
              "    </tr>\n",
              "    <tr>\n",
              "      <th>gender</th>\n",
              "      <th>female</th>\n",
              "      <th>male</th>\n",
              "      <th>female</th>\n",
              "      <th>male</th>\n",
              "      <th>female</th>\n",
              "      <th>male</th>\n",
              "      <th>female</th>\n",
              "      <th>male</th>\n",
              "      <th>female</th>\n",
              "      <th>male</th>\n",
              "    </tr>\n",
              "    <tr>\n",
              "      <th>race</th>\n",
              "      <th></th>\n",
              "      <th></th>\n",
              "      <th></th>\n",
              "      <th></th>\n",
              "      <th></th>\n",
              "      <th></th>\n",
              "      <th></th>\n",
              "      <th></th>\n",
              "      <th></th>\n",
              "      <th></th>\n",
              "    </tr>\n",
              "  </thead>\n",
              "  <tbody>\n",
              "    <tr>\n",
              "      <th>asian</th>\n",
              "      <td>435</td>\n",
              "      <td>363</td>\n",
              "      <td>52</td>\n",
              "      <td>45</td>\n",
              "      <td>178</td>\n",
              "      <td>157</td>\n",
              "      <td>113</td>\n",
              "      <td>141</td>\n",
              "      <td>64</td>\n",
              "      <td>57</td>\n",
              "    </tr>\n",
              "    <tr>\n",
              "      <th>black</th>\n",
              "      <td>152</td>\n",
              "      <td>189</td>\n",
              "      <td>20</td>\n",
              "      <td>22</td>\n",
              "      <td>82</td>\n",
              "      <td>64</td>\n",
              "      <td>51</td>\n",
              "      <td>64</td>\n",
              "      <td>25</td>\n",
              "      <td>27</td>\n",
              "    </tr>\n",
              "    <tr>\n",
              "      <th>native</th>\n",
              "      <td>48</td>\n",
              "      <td>41</td>\n",
              "      <td>4</td>\n",
              "      <td>6</td>\n",
              "      <td>20</td>\n",
              "      <td>9</td>\n",
              "      <td>26</td>\n",
              "      <td>20</td>\n",
              "      <td>6</td>\n",
              "      <td>7</td>\n",
              "    </tr>\n",
              "    <tr>\n",
              "      <th>other</th>\n",
              "      <td>318</td>\n",
              "      <td>344</td>\n",
              "      <td>70</td>\n",
              "      <td>63</td>\n",
              "      <td>65</td>\n",
              "      <td>48</td>\n",
              "      <td>162</td>\n",
              "      <td>196</td>\n",
              "      <td>76</td>\n",
              "      <td>57</td>\n",
              "    </tr>\n",
              "    <tr>\n",
              "      <th>pacific-islander</th>\n",
              "      <td>21</td>\n",
              "      <td>17</td>\n",
              "      <td>3</td>\n",
              "      <td>2</td>\n",
              "      <td>1</td>\n",
              "      <td>2</td>\n",
              "      <td>11</td>\n",
              "      <td>7</td>\n",
              "      <td>2</td>\n",
              "      <td>6</td>\n",
              "    </tr>\n",
              "    <tr>\n",
              "      <th>white</th>\n",
              "      <td>1385</td>\n",
              "      <td>1438</td>\n",
              "      <td>155</td>\n",
              "      <td>215</td>\n",
              "      <td>715</td>\n",
              "      <td>642</td>\n",
              "      <td>550</td>\n",
              "      <td>540</td>\n",
              "      <td>186</td>\n",
              "      <td>215</td>\n",
              "    </tr>\n",
              "  </tbody>\n",
              "</table>\n",
              "</div>"
            ],
            "text/plain": [
              "age               adult        child      senior      tenager       \\\n",
              "gender           female  male female male female male  female male   \n",
              "race                                                                 \n",
              "asian               435   363     52   45    178  157     113  141   \n",
              "black               152   189     20   22     82   64      51   64   \n",
              "native               48    41      4    6     20    9      26   20   \n",
              "other               318   344     70   63     65   48     162  196   \n",
              "pacific-islander     21    17      3    2      1    2      11    7   \n",
              "white              1385  1438    155  215    715  642     550  540   \n",
              "\n",
              "age              young-adult       \n",
              "gender                female male  \n",
              "race                               \n",
              "asian                     64   57  \n",
              "black                     25   27  \n",
              "native                     6    7  \n",
              "other                     76   57  \n",
              "pacific-islander           2    6  \n",
              "white                    186  215  "
            ]
          },
          "execution_count": 102,
          "metadata": {},
          "output_type": "execute_result"
        }
      ],
      "source": [
        "ct = pd.crosstab(sample_df.race, [sample_df.age, sample_df.gender])\n",
        "ct #cross-tabulation of the resulting sampled matrix."
      ]
    },
    {
      "cell_type": "code",
      "execution_count": 103,
      "metadata": {},
      "outputs": [],
      "source": [
        "def plot_percentage_sample(col):\n",
        "    global sample_df\n",
        "    # Count the frequencies of different values in the column\n",
        "    value_counts = sample_df[col].value_counts()\n",
        "\n",
        "    # Calculate the percentages\n",
        "    percentages = (value_counts / len(sample_df)) * 100\n",
        "\n",
        "    # Create a bar plot of the percentages\n",
        "    plt.bar(percentages.index, percentages.values)\n",
        "\n",
        "    # Set the labels and title\n",
        "    plt.xlabel('Values')\n",
        "    plt.ylabel('Percentage')\n",
        "    plt.title('Percentage of '+col+'s in Column')\n",
        "\n",
        "    # Rotate the x-axis labels if needed\n",
        "    plt.xticks(rotation=90)\n",
        "\n",
        "    # Display the plot\n",
        "    plt.show()"
      ]
    },
    {
      "cell_type": "code",
      "execution_count": 104,
      "metadata": {},
      "outputs": [
        {
          "data": {
            "text/plain": [
              "asian               0.1605\n",
              "black               0.0696\n",
              "native              0.0187\n",
              "other               0.1399\n",
              "pacific-islander    0.0072\n",
              "white               0.6041\n",
              "Name: race, dtype: float64"
            ]
          },
          "execution_count": 104,
          "metadata": {},
          "output_type": "execute_result"
        }
      ],
      "source": [
        "sample_df.race.value_counts().sort_index() / sample_df.shape[0]"
      ]
    },
    {
      "cell_type": "code",
      "execution_count": 105,
      "metadata": {},
      "outputs": [
        {
          "data": {
            "image/png": "[encoded data removed]",
            "text/plain": [
              "<Figure size 640x480 with 1 Axes>"
            ]
          },
          "metadata": {},
          "output_type": "display_data"
        }
      ],
      "source": [
        "plot_percentage_sample('race')"
      ]
    },
    {
      "cell_type": "code",
      "execution_count": 106,
      "metadata": {},
      "outputs": [
        {
          "data": {
            "text/plain": [
              "adult          0.4751\n",
              "child          0.0657\n",
              "senior         0.1983\n",
              "tenager        0.1881\n",
              "young-adult    0.0728\n",
              "Name: age, dtype: float64"
            ]
          },
          "execution_count": 106,
          "metadata": {},
          "output_type": "execute_result"
        }
      ],
      "source": [
        "sample_df.age.value_counts().sort_index() / sample_df.shape[0]"
      ]
    },
    {
      "cell_type": "code",
      "execution_count": 107,
      "metadata": {},
      "outputs": [
        {
          "data": {
            "image/png": "[encoded data removed]",
            "text/plain": [
              "<Figure size 640x480 with 1 Axes>"
            ]
          },
          "metadata": {},
          "output_type": "display_data"
        }
      ],
      "source": [
        "plot_percentage_sample('age')"
      ]
    },
    {
      "cell_type": "code",
      "execution_count": 108,
      "metadata": {},
      "outputs": [
        {
          "data": {
            "text/plain": [
              "female    0.4996\n",
              "male      0.5004\n",
              "Name: gender, dtype: float64"
            ]
          },
          "execution_count": 108,
          "metadata": {},
          "output_type": "execute_result"
        }
      ],
      "source": [
        "sample_df.gender.value_counts().sort_index() / sample_df.shape[0]"
      ]
    },
    {
      "cell_type": "code",
      "execution_count": 109,
      "metadata": {},
      "outputs": [
        {
          "data": {
            "image/png": "[encoded data removed]",
            "text/plain": [
              "<Figure size 640x480 with 1 Axes>"
            ]
          },
          "metadata": {},
          "output_type": "display_data"
        }
      ],
      "source": [
        "plot_percentage_sample('gender')"
      ]
    },
    {
      "cell_type": "code",
      "execution_count": 110,
      "metadata": {},
      "outputs": [],
      "source": [
        "sample_df.to_csv(\"SAMPLE_DATA.csv\",header=True)"
      ]
    },
    {
      "attachments": {},
      "cell_type": "markdown",
      "metadata": {},
      "source": [
        "marginals remain kind of the same"
      ]
    }
  ],
  "metadata": {
    "colab": {
      "collapsed_sections": [],
      "name": "Multidimensional IPF.ipynb",
      "provenance": []
    },
    "kernelspec": {
      "display_name": "Python 3.10.8 64-bit (microsoft store)",
      "language": "python",
      "name": "python3"
    },
    "language_info": {
      "codemirror_mode": {
        "name": "ipython",
        "version": 3
      },
      "file_extension": ".py",
      "mimetype": "text/x-python",
      "name": "python",
      "nbconvert_exporter": "python",
      "pygments_lexer": "ipython3",
      "version": "3.10.11"
    },
    "vscode": {
      "interpreter": {
        "hash": "8a8c870a75a2399a18da699afb8120ef3e062104a641580cdd043bc818847915"
      }
    }
  },
  "nbformat": 4,
  "nbformat_minor": 0
}
