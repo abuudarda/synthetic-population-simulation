{
  "cells": [
    {
      "cell_type": "code",
      "execution_count": null,
      "metadata": {
        "colab": {
          "base_uri": "https://localhost:8080/"
        },
        "id": "mo_VQmO1rIkd",
        "outputId": "aa55ae07-c0d1-4bbd-b521-78e432a4bcd2"
      },
      "outputs": [
        {
          "name": "stdout",
          "output_type": "stream",
          "text": [
            "Looking in indexes: https://pypi.org/simple, https://us-python.pkg.dev/colab-wheels/public/simple/\n",
            "Collecting ipfn\n",
            "  Downloading ipfn-1.4.4-py2.py3-none-any.whl (7.4 kB)\n",
            "Requirement already satisfied: numpy in /usr/local/lib/python3.7/dist-packages (from ipfn) (1.21.6)\n",
            "Requirement already satisfied: pandas>=0.22.0 in /usr/local/lib/python3.7/dist-packages (from ipfn) (1.3.5)\n",
            "Requirement already satisfied: pytz>=2017.3 in /usr/local/lib/python3.7/dist-packages (from pandas>=0.22.0->ipfn) (2022.1)\n",
            "Requirement already satisfied: python-dateutil>=2.7.3 in /usr/local/lib/python3.7/dist-packages (from pandas>=0.22.0->ipfn) (2.8.2)\n",
            "Requirement already satisfied: six>=1.5 in /usr/local/lib/python3.7/dist-packages (from python-dateutil>=2.7.3->pandas>=0.22.0->ipfn) (1.15.0)\n",
            "Installing collected packages: ipfn\n",
            "Successfully installed ipfn-1.4.4\n"
          ]
        }
      ],
      "source": [
        "pip install ipfn\n"
      ]
    },
    {
      "cell_type": "code",
      "execution_count": null,
      "metadata": {
        "colab": {
          "base_uri": "https://localhost:8080/"
        },
        "id": "TjK-dQrGtVhB",
        "outputId": "94645826-91bf-426a-9933-0dc5107b485b"
      },
      "outputs": [
        {
          "name": "stdout",
          "output_type": "stream",
          "text": [
            "ipfn converged: convergence_rate not updating or below rate_tolerance\n",
            "[[[627.60051341 581.88855886]\n",
            "  [529.46190017 460.16778445]\n",
            "  [442.74658444 545.95587851]\n",
            "  [500.92439278 544.11909901]]\n",
            "\n",
            " [[572.39948659 601.11144114]\n",
            "  [470.53809983 489.83221555]\n",
            "  [457.25341556 504.04412149]\n",
            "  [449.07560722 564.88090099]]]\n"
          ]
        }
      ],
      "source": [
        "import pandas as pd\n",
        "from ipfn import ipfn\n",
        "import numpy as np\n",
        "#a=pd.read_csv(\"/content/2D Ipf - Untitled spreadsheet - Sheet1.csv\")\n",
        "n=[[[476,410],[472,400],[407,483],[413,413]],[[410,400],[465,472],[460,488],[424,491]]]\n",
        "\n",
        "\n",
        "xipp=np.array([4200,3446])\n",
        "xpjp=np.array([2005,2000,1958,2043])\n",
        "xppk=np.array([4250,4500])\n",
        "xijp=np.array([[975,981,974,975],[946,952,947,946]])\n",
        "xpjk=np.array([[1200,1183],[1000,950],[900,1050],[950,1109]])\n",
        "\n",
        "n=np.array(n)\n",
        "aggregates=[xipp,xpjp,xppk,xijp,xpjk]\n",
        "dimensions=[[0],[1],[2],[0,1],[1,2]]\n",
        "IPF=ipfn.ipfn(n,aggregates,dimensions,convergence_rate=1e-6)\n",
        "n=IPF.iteration()\n",
        "print(n)\n"
      ]
    }
  ],
  "metadata": {
    "colab": {
      "collapsed_sections": [],
      "name": "Multidimensional IPF.ipynb",
      "provenance": []
    },
    "kernelspec": {
      "display_name": "Python 3.10.8 64-bit (microsoft store)",
      "language": "python",
      "name": "python3"
    },
    "language_info": {
      "name": "python",
      "version": "3.10.8"
    },
    "vscode": {
      "interpreter": {
        "hash": "8a8c870a75a2399a18da699afb8120ef3e062104a641580cdd043bc818847915"
      }
    }
  },
  "nbformat": 4,
  "nbformat_minor": 0
}
